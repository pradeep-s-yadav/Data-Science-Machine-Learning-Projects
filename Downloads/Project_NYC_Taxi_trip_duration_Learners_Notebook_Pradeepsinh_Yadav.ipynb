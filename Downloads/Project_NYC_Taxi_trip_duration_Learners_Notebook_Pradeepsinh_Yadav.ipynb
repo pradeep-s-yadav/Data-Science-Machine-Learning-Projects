{
  "cells": [
    {
      "cell_type": "markdown",
      "metadata": {
        "id": "tTWl_2t_e7l7"
      },
      "source": [
        "# **Project - Predictive Analytics: New York City Taxi Ride Duration Prediction**\n",
        "\n",
        "## **Marks: 40**\n",
        "---------------\n",
        "\n",
        "## **Context**\n",
        "---------------\n",
        "\n",
        "New York City taxi rides form the core of the traffic in the city of New York. The many rides taken every day by New Yorkers in the busy city can give us a great idea of traffic times, road blockages, and so on. A typical taxi company faces a common problem of efficiently assigning the cabs to passengers so that the service is hassle-free. One of the main issues is predicting the duration of the current ride so it can predict when the cab will be free for the next trip. Here the data set contains various information regarding the taxi trips, its duration in New York City. We will apply different techniques here to get insights into the data and determine how different variables are dependent on the Trip Duration.\n",
        "\n",
        "-----------------\n",
        "## **Objective**\n",
        "-----------------\n",
        "\n",
        "- To Build a predictive model, for predicting the duration for the taxi ride. \n",
        "- Use Automated feature engineering to create new features\n",
        "\n",
        "-----------------\n",
        "## **Dataset**\n",
        "-----------------\n",
        "\n",
        "The ``trips`` table has the following fields\n",
        "* ``id`` which uniquely identifies the trip\n",
        "* ``vendor_id`` is the taxi cab company - in our case study we have data from three different cab companies\n",
        "* ``pickup_datetime`` the time stamp for pickup\n",
        "* ``dropoff_datetime`` the time stamp for drop-off\n",
        "* ``passenger_count`` the number of passengers for the trip\n",
        "* ``trip_distance`` total distance of the trip in miles \n",
        "* ``pickup_longitude`` the longitude for pickup\n",
        "* ``pickup_latitude`` the latitude for pickup\n",
        "* ``dropoff_longitude``the longitude of dropoff \n",
        "* ``dropoff_latitude`` the latitude of dropoff\n",
        "* ``payment_type`` a numeric code signifying how the passenger paid for the trip. 1= Credit card 2= Cash 3= No charge 4= Dispute 5= Unknown 6= Voided\n",
        "* ``trip_duration`` this is the duration we would like to predict using other fields \n",
        "* ``pickup_neighborhood`` a one or two letter id of the neighborhood where the trip started\n",
        "* ``dropoff_neighborhood`` a one or two letter id of the neighborhood where the trip ended\n",
        "\n",
        "\n",
        "#### **We will do the following steps:**\n",
        "  * Install the dependencies\n",
        "  * Load the data as pandas dataframe\n",
        "  * Perform EDA on the dataset\n",
        "  * Build features with Deep Feature Synthesis using the [featuretools](https://featuretools.com) package. We will start with simple features and incrementally improve the feature definitions and examine the accuracy of the system"
      ]
    },
    {
      "cell_type": "markdown",
      "metadata": {
        "id": "-hcYKasee7l_"
      },
      "source": [
        "****Uncomment the following code and run it to install the featuretools library****"
      ]
    },
    {
      "cell_type": "code",
      "execution_count": null,
      "metadata": {
        "id": "54a99iG2e7l_",
        "colab": {
          "base_uri": "https://localhost:8080/",
          "height": 819
        },
        "outputId": "ab148f10-d6af-404b-87ee-8497cc2b75f6"
      },
      "outputs": [
        {
          "output_type": "stream",
          "name": "stdout",
          "text": [
            "Looking in indexes: https://pypi.org/simple, https://us-python.pkg.dev/colab-wheels/public/simple/\n",
            "Collecting featuretools==0.27.0\n",
            "  Downloading featuretools-0.27.0-py3-none-any.whl (327 kB)\n",
            "\u001b[K     |████████████████████████████████| 327 kB 7.6 MB/s \n",
            "\u001b[?25hRequirement already satisfied: pyyaml>=5.4 in /usr/local/lib/python3.7/dist-packages (from featuretools==0.27.0) (6.0)\n",
            "Requirement already satisfied: numpy>=1.16.6 in /usr/local/lib/python3.7/dist-packages (from featuretools==0.27.0) (1.21.6)\n",
            "Collecting psutil>=5.6.6\n",
            "  Downloading psutil-5.9.2-cp37-cp37m-manylinux_2_12_x86_64.manylinux2010_x86_64.manylinux_2_17_x86_64.manylinux2014_x86_64.whl (281 kB)\n",
            "\u001b[K     |████████████████████████████████| 281 kB 54.6 MB/s \n",
            "\u001b[?25hRequirement already satisfied: distributed>=2.12.0 in /usr/local/lib/python3.7/dist-packages (from featuretools==0.27.0) (2022.2.0)\n",
            "Requirement already satisfied: scipy>=1.3.2 in /usr/local/lib/python3.7/dist-packages (from featuretools==0.27.0) (1.7.3)\n",
            "Requirement already satisfied: tqdm>=4.32.0 in /usr/local/lib/python3.7/dist-packages (from featuretools==0.27.0) (4.64.1)\n",
            "Requirement already satisfied: cloudpickle>=0.4.0 in /usr/local/lib/python3.7/dist-packages (from featuretools==0.27.0) (1.5.0)\n",
            "Requirement already satisfied: click>=7.0.0 in /usr/local/lib/python3.7/dist-packages (from featuretools==0.27.0) (7.1.2)\n",
            "Requirement already satisfied: dask[dataframe]>=2.12.0 in /usr/local/lib/python3.7/dist-packages (from featuretools==0.27.0) (2022.2.0)\n",
            "Requirement already satisfied: pandas<2.0.0,>=1.2.0 in /usr/local/lib/python3.7/dist-packages (from featuretools==0.27.0) (1.3.5)\n",
            "Requirement already satisfied: partd>=0.3.10 in /usr/local/lib/python3.7/dist-packages (from dask[dataframe]>=2.12.0->featuretools==0.27.0) (1.3.0)\n",
            "Requirement already satisfied: fsspec>=0.6.0 in /usr/local/lib/python3.7/dist-packages (from dask[dataframe]>=2.12.0->featuretools==0.27.0) (2022.8.2)\n",
            "Requirement already satisfied: toolz>=0.8.2 in /usr/local/lib/python3.7/dist-packages (from dask[dataframe]>=2.12.0->featuretools==0.27.0) (0.12.0)\n",
            "Requirement already satisfied: packaging>=20.0 in /usr/local/lib/python3.7/dist-packages (from dask[dataframe]>=2.12.0->featuretools==0.27.0) (21.3)\n",
            "Requirement already satisfied: msgpack>=0.6.0 in /usr/local/lib/python3.7/dist-packages (from distributed>=2.12.0->featuretools==0.27.0) (1.0.4)\n",
            "Requirement already satisfied: jinja2 in /usr/local/lib/python3.7/dist-packages (from distributed>=2.12.0->featuretools==0.27.0) (2.11.3)\n",
            "Requirement already satisfied: zict>=0.1.3 in /usr/local/lib/python3.7/dist-packages (from distributed>=2.12.0->featuretools==0.27.0) (2.2.0)\n",
            "Requirement already satisfied: tornado>=5 in /usr/local/lib/python3.7/dist-packages (from distributed>=2.12.0->featuretools==0.27.0) (5.1.1)\n",
            "Requirement already satisfied: setuptools in /usr/local/lib/python3.7/dist-packages (from distributed>=2.12.0->featuretools==0.27.0) (57.4.0)\n",
            "Requirement already satisfied: sortedcontainers!=2.0.0,!=2.0.1 in /usr/local/lib/python3.7/dist-packages (from distributed>=2.12.0->featuretools==0.27.0) (2.4.0)\n",
            "Requirement already satisfied: tblib>=1.6.0 in /usr/local/lib/python3.7/dist-packages (from distributed>=2.12.0->featuretools==0.27.0) (1.7.0)\n",
            "Requirement already satisfied: pyparsing!=3.0.5,>=2.0.2 in /usr/local/lib/python3.7/dist-packages (from packaging>=20.0->dask[dataframe]>=2.12.0->featuretools==0.27.0) (3.0.9)\n",
            "Requirement already satisfied: python-dateutil>=2.7.3 in /usr/local/lib/python3.7/dist-packages (from pandas<2.0.0,>=1.2.0->featuretools==0.27.0) (2.8.2)\n",
            "Requirement already satisfied: pytz>=2017.3 in /usr/local/lib/python3.7/dist-packages (from pandas<2.0.0,>=1.2.0->featuretools==0.27.0) (2022.2.1)\n",
            "Requirement already satisfied: locket in /usr/local/lib/python3.7/dist-packages (from partd>=0.3.10->dask[dataframe]>=2.12.0->featuretools==0.27.0) (1.0.0)\n",
            "Requirement already satisfied: six>=1.5 in /usr/local/lib/python3.7/dist-packages (from python-dateutil>=2.7.3->pandas<2.0.0,>=1.2.0->featuretools==0.27.0) (1.15.0)\n",
            "Requirement already satisfied: heapdict in /usr/local/lib/python3.7/dist-packages (from zict>=0.1.3->distributed>=2.12.0->featuretools==0.27.0) (1.0.1)\n",
            "Requirement already satisfied: MarkupSafe>=0.23 in /usr/local/lib/python3.7/dist-packages (from jinja2->distributed>=2.12.0->featuretools==0.27.0) (2.0.1)\n",
            "Installing collected packages: psutil, featuretools\n",
            "  Attempting uninstall: psutil\n",
            "    Found existing installation: psutil 5.4.8\n",
            "    Uninstalling psutil-5.4.8:\n",
            "      Successfully uninstalled psutil-5.4.8\n",
            "Successfully installed featuretools-0.27.0 psutil-5.9.2\n"
          ]
        },
        {
          "output_type": "display_data",
          "data": {
            "application/vnd.colab-display-data+json": {
              "pip_warning": {
                "packages": [
                  "psutil"
                ]
              }
            }
          },
          "metadata": {}
        }
      ],
      "source": [
        "# Uncomment the code given below, and run the line of code to install featuretools library\n",
        "\n",
        "!pip install featuretools==0.27.0"
      ]
    },
    {
      "cell_type": "markdown",
      "metadata": {
        "id": "9AGtC-ike7mA"
      },
      "source": [
        "**Note:** If **!pip install featuretools** doesn't work, please install using the **anaconda prompt** by typing the following command in anaconda prompt\n",
        "> `conda install -c conda-forge featuretools==0.27.0`\n",
        "\n",
        "\n"
      ]
    },
    {
      "cell_type": "markdown",
      "metadata": {
        "id": "Kdk4KAaye7mB"
      },
      "source": [
        "## **Import the necessary libraries**"
      ]
    },
    {
      "cell_type": "code",
      "execution_count": null,
      "metadata": {
        "id": "knjQ7T2ie7mB",
        "colab": {
          "base_uri": "https://localhost:8080/"
        },
        "outputId": "36fcd0ef-df10-4051-b4f9-d1fc7699488b"
      },
      "outputs": [
        {
          "output_type": "stream",
          "name": "stdout",
          "text": [
            "0.27.0\n"
          ]
        }
      ],
      "source": [
        "# Basic libraries of python for numeric and dataframe computations\n",
        "import numpy as np                              \n",
        "import pandas as pd\n",
        "\n",
        "# Basic library for data visualization\n",
        "import matplotlib.pyplot as plt     \n",
        "\n",
        "# Slightly advanced library for data visualization            \n",
        "import seaborn as sns                          \n",
        "\n",
        "# Featauretools for feature engineering\n",
        "import featuretools as ft\n",
        "\n",
        "from sklearn.model_selection import train_test_split\n",
        "from sklearn.impute import SimpleImputer\n",
        "\n",
        "# Importing gradient boosting regressor, to make prediction\n",
        "from sklearn.metrics import r2_score\n",
        "from sklearn.linear_model import LinearRegression\n",
        "from sklearn.ensemble import RandomForestRegressor\n",
        "from sklearn.tree import DecisionTreeRegressor\n",
        "\n",
        "# Importing primitives\n",
        "from featuretools.primitives import (Minute, Hour, Day, Month,\n",
        "                                     Weekday, IsWeekend, Count, Sum, Mean, Median, Std, Min, Max)\n",
        "\n",
        "# Used to ignore the warning given as output of the code\n",
        "import warnings\n",
        "warnings.filterwarnings(\"ignore\")\n",
        "\n",
        "print(ft.__version__)\n",
        "%load_ext autoreload\n",
        "%autoreload 2"
      ]
    },
    {
      "cell_type": "code",
      "execution_count": null,
      "metadata": {
        "id": "g8D8tqhZe7mC"
      },
      "outputs": [],
      "source": [
        "# Set global random seed\n",
        "np.random.seed(40)\n",
        "\n",
        "# To preview first five rows. \n",
        "def preview(df, n=5):\n",
        "    \"\"\"return n rows that have fewest number of nulls\"\"\"\n",
        "    order = df.isnull().sum(axis=1).sort_values().head(n).index\n",
        "    return df.loc[order]\n",
        "\n",
        "# To compute features using automated feature engineering. \n",
        "def compute_features(features, cutoff_time):\n",
        "    # Shuffle so we don't see encoded features in the front or backs\n",
        "\n",
        "    np.random.shuffle(features)\n",
        "    feature_matrix = ft.calculate_feature_matrix(features,\n",
        "                                                 cutoff_time=cutoff_time,\n",
        "                                                 approximate='36d',\n",
        "                                                 verbose=True)\n",
        "    print(\"Finishing computing...\")\n",
        "    feature_matrix, features = ft.encode_features(feature_matrix, features,\n",
        "                                                  to_encode=[\"pickup_neighborhood\", \"dropoff_neighborhood\"],\n",
        "                                                  include_unknown=False)\n",
        "    return feature_matrix\n",
        "\n",
        "\n",
        "# To generate train and test dataset\n",
        "def get_train_test_fm(feature_matrix, percentage):\n",
        "    nrows = feature_matrix.shape[0]\n",
        "    head = int(nrows * percentage)\n",
        "    tail = nrows-head\n",
        "    X_train = feature_matrix.head(head)\n",
        "    y_train = X_train['trip_duration']\n",
        "    X_train = X_train.drop(['trip_duration'], axis=1)\n",
        "    imp = SimpleImputer()\n",
        "    X_train = imp.fit_transform(X_train)\n",
        "    X_test = feature_matrix.tail(tail)\n",
        "    y_test = X_test['trip_duration']\n",
        "    X_test = X_test.drop(['trip_duration'], axis=1)\n",
        "    X_test = imp.transform(X_test)\n",
        "\n",
        "    return (X_train, y_train, X_test,y_test)\n",
        "\n",
        "\n",
        "\n",
        "# To see the feature importance of variables in the final model\n",
        "def feature_importances(model, feature_names, n=5):\n",
        "    importances = model.feature_importances_\n",
        "    zipped = sorted(zip(feature_names, importances), key=lambda x: -x[1])\n",
        "    for i, f in enumerate(zipped[:n]):\n",
        "        print(\"%d: Feature: %s, %.3f\" % (i+1, f[0], f[1]))"
      ]
    },
    {
      "cell_type": "markdown",
      "metadata": {
        "id": "BIRVAApRe7mD"
      },
      "source": [
        "### **Load the datasets**"
      ]
    },
    {
      "cell_type": "code",
      "execution_count": null,
      "metadata": {
        "id": "Reap8YRCe7mD",
        "colab": {
          "base_uri": "https://localhost:8080/"
        },
        "outputId": "b4125e93-68b7-4c49-f3ba-3ef3d3d33074"
      },
      "outputs": [
        {
          "output_type": "stream",
          "name": "stdout",
          "text": [
            "Mounted at /content/drive\n"
          ]
        }
      ],
      "source": [
        "# If you are using Google Colab then while reading the files using 'pd.read_csv()', replace the location of CSV files with the exact location of the files in your drive folder. \n",
        "from google.colab import drive\n",
        "drive.mount('/content/drive')\n",
        "\n",
        "trips = pd.read_csv('/content/drive/MyDrive/trips.csv',\n",
        "                        parse_dates=[\"pickup_datetime\",\"dropoff_datetime\"],\n",
        "                        dtype={'vendor_id':\"category\",'passenger_count':'int64'},\n",
        "                        encoding='utf-8')\n",
        "trips[\"payment_type\"] = trips[\"payment_type\"].apply(str)\n",
        "trips = trips.dropna(axis=0, how='any', subset=['trip_duration'])\n",
        "\n",
        "pickup_neighborhoods = pd.read_csv(\"/content/drive/MyDrive/pickup_neighborhoods.csv\", encoding='utf-8')\n",
        "dropoff_neighborhoods = pd.read_csv(\"/content/drive/MyDrive/dropoff_neighborhoods.csv\", encoding='utf-8')"
      ]
    },
    {
      "cell_type": "markdown",
      "metadata": {
        "id": "P6wZMKp6e7mE"
      },
      "source": [
        "### **View the Datasets**"
      ]
    },
    {
      "cell_type": "code",
      "execution_count": null,
      "metadata": {
        "ExecuteTime": {
          "end_time": "2021-07-15T12:40:47.210990Z",
          "start_time": "2021-07-15T12:40:41.965643Z"
        },
        "scrolled": false,
        "id": "zsZ3qTume7mE",
        "colab": {
          "base_uri": "https://localhost:8080/",
          "height": 601
        },
        "outputId": "97447eb0-ba9b-4932-b4ad-d4c20818390c"
      },
      "outputs": [
        {
          "output_type": "execute_result",
          "data": {
            "text/plain": [
              "            id vendor_id     pickup_datetime    dropoff_datetime  \\\n",
              "0            0         2 2016-01-01 00:00:19 2016-01-01 00:06:31   \n",
              "649598  679634         1 2016-04-30 11:45:59 2016-04-30 11:47:47   \n",
              "649599  679635         2 2016-04-30 11:46:04 2016-04-30 11:47:41   \n",
              "649600  679636         2 2016-04-30 11:46:39 2016-04-30 11:58:02   \n",
              "649601  679637         2 2016-04-30 11:46:44 2016-04-30 11:55:42   \n",
              "649602  679638         2 2016-04-30 11:47:30 2016-04-30 11:54:00   \n",
              "649603  679639         1 2016-04-30 11:47:38 2016-04-30 11:57:22   \n",
              "649604  679640         1 2016-04-30 11:47:49 2016-04-30 12:01:05   \n",
              "649605  679641         1 2016-04-30 11:48:17 2016-04-30 12:01:02   \n",
              "649606  679642         1 2016-04-30 11:49:44 2016-04-30 12:00:03   \n",
              "\n",
              "        passenger_count  trip_distance  pickup_longitude  pickup_latitude  \\\n",
              "0                     3           1.32        -73.961258        40.796200   \n",
              "649598                1           0.50        -73.994919        40.755226   \n",
              "649599                2           0.33        -73.978935        40.777172   \n",
              "649600                1           1.78        -73.998207        40.745201   \n",
              "649601                1           1.40        -73.987129        40.739429   \n",
              "649602                1           1.12        -73.942375        40.790768   \n",
              "649603                2           1.90        -73.960800        40.769920   \n",
              "649604                1           4.30        -74.013885        40.709515   \n",
              "649605                1           2.90        -73.975426        40.757584   \n",
              "649606                1           1.30        -73.989815        40.750454   \n",
              "\n",
              "        dropoff_longitude  dropoff_latitude payment_type  trip_duration  \\\n",
              "0              -73.950050         40.787312            2          372.0   \n",
              "649598         -74.000351         40.747917            1          108.0   \n",
              "649599         -73.981888         40.773136            2           97.0   \n",
              "649600         -73.990265         40.729023            2          683.0   \n",
              "649601         -74.007370         40.743511            2          538.0   \n",
              "649602         -73.952095         40.777145            2          390.0   \n",
              "649603         -73.978966         40.785698            1          584.0   \n",
              "649604         -73.987213         40.722343            2          796.0   \n",
              "649605         -73.999016         40.722027            1          765.0   \n",
              "649606         -74.000473         40.762352            2          619.0   \n",
              "\n",
              "       pickup_neighborhood dropoff_neighborhood  \n",
              "0                       AH                    C  \n",
              "649598                   D                   AG  \n",
              "649599                  AV                   AV  \n",
              "649600                  AP                    H  \n",
              "649601                   R                    Q  \n",
              "649602                   J                   AM  \n",
              "649603                   K                    I  \n",
              "649604                  AU                   AC  \n",
              "649605                   A                    X  \n",
              "649606                   D                    P  "
            ],
            "text/html": [
              "\n",
              "  <div id=\"df-f2e4c545-1c44-45af-a1f5-3ebcd1404c0d\">\n",
              "    <div class=\"colab-df-container\">\n",
              "      <div>\n",
              "<style scoped>\n",
              "    .dataframe tbody tr th:only-of-type {\n",
              "        vertical-align: middle;\n",
              "    }\n",
              "\n",
              "    .dataframe tbody tr th {\n",
              "        vertical-align: top;\n",
              "    }\n",
              "\n",
              "    .dataframe thead th {\n",
              "        text-align: right;\n",
              "    }\n",
              "</style>\n",
              "<table border=\"1\" class=\"dataframe\">\n",
              "  <thead>\n",
              "    <tr style=\"text-align: right;\">\n",
              "      <th></th>\n",
              "      <th>id</th>\n",
              "      <th>vendor_id</th>\n",
              "      <th>pickup_datetime</th>\n",
              "      <th>dropoff_datetime</th>\n",
              "      <th>passenger_count</th>\n",
              "      <th>trip_distance</th>\n",
              "      <th>pickup_longitude</th>\n",
              "      <th>pickup_latitude</th>\n",
              "      <th>dropoff_longitude</th>\n",
              "      <th>dropoff_latitude</th>\n",
              "      <th>payment_type</th>\n",
              "      <th>trip_duration</th>\n",
              "      <th>pickup_neighborhood</th>\n",
              "      <th>dropoff_neighborhood</th>\n",
              "    </tr>\n",
              "  </thead>\n",
              "  <tbody>\n",
              "    <tr>\n",
              "      <th>0</th>\n",
              "      <td>0</td>\n",
              "      <td>2</td>\n",
              "      <td>2016-01-01 00:00:19</td>\n",
              "      <td>2016-01-01 00:06:31</td>\n",
              "      <td>3</td>\n",
              "      <td>1.32</td>\n",
              "      <td>-73.961258</td>\n",
              "      <td>40.796200</td>\n",
              "      <td>-73.950050</td>\n",
              "      <td>40.787312</td>\n",
              "      <td>2</td>\n",
              "      <td>372.0</td>\n",
              "      <td>AH</td>\n",
              "      <td>C</td>\n",
              "    </tr>\n",
              "    <tr>\n",
              "      <th>649598</th>\n",
              "      <td>679634</td>\n",
              "      <td>1</td>\n",
              "      <td>2016-04-30 11:45:59</td>\n",
              "      <td>2016-04-30 11:47:47</td>\n",
              "      <td>1</td>\n",
              "      <td>0.50</td>\n",
              "      <td>-73.994919</td>\n",
              "      <td>40.755226</td>\n",
              "      <td>-74.000351</td>\n",
              "      <td>40.747917</td>\n",
              "      <td>1</td>\n",
              "      <td>108.0</td>\n",
              "      <td>D</td>\n",
              "      <td>AG</td>\n",
              "    </tr>\n",
              "    <tr>\n",
              "      <th>649599</th>\n",
              "      <td>679635</td>\n",
              "      <td>2</td>\n",
              "      <td>2016-04-30 11:46:04</td>\n",
              "      <td>2016-04-30 11:47:41</td>\n",
              "      <td>2</td>\n",
              "      <td>0.33</td>\n",
              "      <td>-73.978935</td>\n",
              "      <td>40.777172</td>\n",
              "      <td>-73.981888</td>\n",
              "      <td>40.773136</td>\n",
              "      <td>2</td>\n",
              "      <td>97.0</td>\n",
              "      <td>AV</td>\n",
              "      <td>AV</td>\n",
              "    </tr>\n",
              "    <tr>\n",
              "      <th>649600</th>\n",
              "      <td>679636</td>\n",
              "      <td>2</td>\n",
              "      <td>2016-04-30 11:46:39</td>\n",
              "      <td>2016-04-30 11:58:02</td>\n",
              "      <td>1</td>\n",
              "      <td>1.78</td>\n",
              "      <td>-73.998207</td>\n",
              "      <td>40.745201</td>\n",
              "      <td>-73.990265</td>\n",
              "      <td>40.729023</td>\n",
              "      <td>2</td>\n",
              "      <td>683.0</td>\n",
              "      <td>AP</td>\n",
              "      <td>H</td>\n",
              "    </tr>\n",
              "    <tr>\n",
              "      <th>649601</th>\n",
              "      <td>679637</td>\n",
              "      <td>2</td>\n",
              "      <td>2016-04-30 11:46:44</td>\n",
              "      <td>2016-04-30 11:55:42</td>\n",
              "      <td>1</td>\n",
              "      <td>1.40</td>\n",
              "      <td>-73.987129</td>\n",
              "      <td>40.739429</td>\n",
              "      <td>-74.007370</td>\n",
              "      <td>40.743511</td>\n",
              "      <td>2</td>\n",
              "      <td>538.0</td>\n",
              "      <td>R</td>\n",
              "      <td>Q</td>\n",
              "    </tr>\n",
              "    <tr>\n",
              "      <th>649602</th>\n",
              "      <td>679638</td>\n",
              "      <td>2</td>\n",
              "      <td>2016-04-30 11:47:30</td>\n",
              "      <td>2016-04-30 11:54:00</td>\n",
              "      <td>1</td>\n",
              "      <td>1.12</td>\n",
              "      <td>-73.942375</td>\n",
              "      <td>40.790768</td>\n",
              "      <td>-73.952095</td>\n",
              "      <td>40.777145</td>\n",
              "      <td>2</td>\n",
              "      <td>390.0</td>\n",
              "      <td>J</td>\n",
              "      <td>AM</td>\n",
              "    </tr>\n",
              "    <tr>\n",
              "      <th>649603</th>\n",
              "      <td>679639</td>\n",
              "      <td>1</td>\n",
              "      <td>2016-04-30 11:47:38</td>\n",
              "      <td>2016-04-30 11:57:22</td>\n",
              "      <td>2</td>\n",
              "      <td>1.90</td>\n",
              "      <td>-73.960800</td>\n",
              "      <td>40.769920</td>\n",
              "      <td>-73.978966</td>\n",
              "      <td>40.785698</td>\n",
              "      <td>1</td>\n",
              "      <td>584.0</td>\n",
              "      <td>K</td>\n",
              "      <td>I</td>\n",
              "    </tr>\n",
              "    <tr>\n",
              "      <th>649604</th>\n",
              "      <td>679640</td>\n",
              "      <td>1</td>\n",
              "      <td>2016-04-30 11:47:49</td>\n",
              "      <td>2016-04-30 12:01:05</td>\n",
              "      <td>1</td>\n",
              "      <td>4.30</td>\n",
              "      <td>-74.013885</td>\n",
              "      <td>40.709515</td>\n",
              "      <td>-73.987213</td>\n",
              "      <td>40.722343</td>\n",
              "      <td>2</td>\n",
              "      <td>796.0</td>\n",
              "      <td>AU</td>\n",
              "      <td>AC</td>\n",
              "    </tr>\n",
              "    <tr>\n",
              "      <th>649605</th>\n",
              "      <td>679641</td>\n",
              "      <td>1</td>\n",
              "      <td>2016-04-30 11:48:17</td>\n",
              "      <td>2016-04-30 12:01:02</td>\n",
              "      <td>1</td>\n",
              "      <td>2.90</td>\n",
              "      <td>-73.975426</td>\n",
              "      <td>40.757584</td>\n",
              "      <td>-73.999016</td>\n",
              "      <td>40.722027</td>\n",
              "      <td>1</td>\n",
              "      <td>765.0</td>\n",
              "      <td>A</td>\n",
              "      <td>X</td>\n",
              "    </tr>\n",
              "    <tr>\n",
              "      <th>649606</th>\n",
              "      <td>679642</td>\n",
              "      <td>1</td>\n",
              "      <td>2016-04-30 11:49:44</td>\n",
              "      <td>2016-04-30 12:00:03</td>\n",
              "      <td>1</td>\n",
              "      <td>1.30</td>\n",
              "      <td>-73.989815</td>\n",
              "      <td>40.750454</td>\n",
              "      <td>-74.000473</td>\n",
              "      <td>40.762352</td>\n",
              "      <td>2</td>\n",
              "      <td>619.0</td>\n",
              "      <td>D</td>\n",
              "      <td>P</td>\n",
              "    </tr>\n",
              "  </tbody>\n",
              "</table>\n",
              "</div>\n",
              "      <button class=\"colab-df-convert\" onclick=\"convertToInteractive('df-f2e4c545-1c44-45af-a1f5-3ebcd1404c0d')\"\n",
              "              title=\"Convert this dataframe to an interactive table.\"\n",
              "              style=\"display:none;\">\n",
              "        \n",
              "  <svg xmlns=\"http://www.w3.org/2000/svg\" height=\"24px\"viewBox=\"0 0 24 24\"\n",
              "       width=\"24px\">\n",
              "    <path d=\"M0 0h24v24H0V0z\" fill=\"none\"/>\n",
              "    <path d=\"M18.56 5.44l.94 2.06.94-2.06 2.06-.94-2.06-.94-.94-2.06-.94 2.06-2.06.94zm-11 1L8.5 8.5l.94-2.06 2.06-.94-2.06-.94L8.5 2.5l-.94 2.06-2.06.94zm10 10l.94 2.06.94-2.06 2.06-.94-2.06-.94-.94-2.06-.94 2.06-2.06.94z\"/><path d=\"M17.41 7.96l-1.37-1.37c-.4-.4-.92-.59-1.43-.59-.52 0-1.04.2-1.43.59L10.3 9.45l-7.72 7.72c-.78.78-.78 2.05 0 2.83L4 21.41c.39.39.9.59 1.41.59.51 0 1.02-.2 1.41-.59l7.78-7.78 2.81-2.81c.8-.78.8-2.07 0-2.86zM5.41 20L4 18.59l7.72-7.72 1.47 1.35L5.41 20z\"/>\n",
              "  </svg>\n",
              "      </button>\n",
              "      \n",
              "  <style>\n",
              "    .colab-df-container {\n",
              "      display:flex;\n",
              "      flex-wrap:wrap;\n",
              "      gap: 12px;\n",
              "    }\n",
              "\n",
              "    .colab-df-convert {\n",
              "      background-color: #E8F0FE;\n",
              "      border: none;\n",
              "      border-radius: 50%;\n",
              "      cursor: pointer;\n",
              "      display: none;\n",
              "      fill: #1967D2;\n",
              "      height: 32px;\n",
              "      padding: 0 0 0 0;\n",
              "      width: 32px;\n",
              "    }\n",
              "\n",
              "    .colab-df-convert:hover {\n",
              "      background-color: #E2EBFA;\n",
              "      box-shadow: 0px 1px 2px rgba(60, 64, 67, 0.3), 0px 1px 3px 1px rgba(60, 64, 67, 0.15);\n",
              "      fill: #174EA6;\n",
              "    }\n",
              "\n",
              "    [theme=dark] .colab-df-convert {\n",
              "      background-color: #3B4455;\n",
              "      fill: #D2E3FC;\n",
              "    }\n",
              "\n",
              "    [theme=dark] .colab-df-convert:hover {\n",
              "      background-color: #434B5C;\n",
              "      box-shadow: 0px 1px 3px 1px rgba(0, 0, 0, 0.15);\n",
              "      filter: drop-shadow(0px 1px 2px rgba(0, 0, 0, 0.3));\n",
              "      fill: #FFFFFF;\n",
              "    }\n",
              "  </style>\n",
              "\n",
              "      <script>\n",
              "        const buttonEl =\n",
              "          document.querySelector('#df-f2e4c545-1c44-45af-a1f5-3ebcd1404c0d button.colab-df-convert');\n",
              "        buttonEl.style.display =\n",
              "          google.colab.kernel.accessAllowed ? 'block' : 'none';\n",
              "\n",
              "        async function convertToInteractive(key) {\n",
              "          const element = document.querySelector('#df-f2e4c545-1c44-45af-a1f5-3ebcd1404c0d');\n",
              "          const dataTable =\n",
              "            await google.colab.kernel.invokeFunction('convertToInteractive',\n",
              "                                                     [key], {});\n",
              "          if (!dataTable) return;\n",
              "\n",
              "          const docLinkHtml = 'Like what you see? Visit the ' +\n",
              "            '<a target=\"_blank\" href=https://colab.research.google.com/notebooks/data_table.ipynb>data table notebook</a>'\n",
              "            + ' to learn more about interactive tables.';\n",
              "          element.innerHTML = '';\n",
              "          dataTable['output_type'] = 'display_data';\n",
              "          await google.colab.output.renderOutput(dataTable, element);\n",
              "          const docLink = document.createElement('div');\n",
              "          docLink.innerHTML = docLinkHtml;\n",
              "          element.appendChild(docLink);\n",
              "        }\n",
              "      </script>\n",
              "    </div>\n",
              "  </div>\n",
              "  "
            ]
          },
          "metadata": {},
          "execution_count": 14
        }
      ],
      "source": [
        "preview(trips, 10)"
      ]
    },
    {
      "cell_type": "code",
      "execution_count": null,
      "metadata": {
        "id": "7Wl5cILSe7mE"
      },
      "outputs": [],
      "source": [
        "# Drop the rows where at least one element is missing. \n",
        "trips=trips.dropna()"
      ]
    },
    {
      "cell_type": "markdown",
      "metadata": {
        "id": "-s0HEZK2e7mF"
      },
      "source": [
        "For the features used in the model the \"**dropoff_datetime**\" needs to be removed as this value would not be known for real-time prediction and you can basically take the difference between the pickup and dropoff time to find the duration.So, this will restrict our model to be **robust** and **reliable**. So, dropping this feature will help us to avoid **data leakage**.\n",
        "\n",
        "Data leakage in machine learning occurs when the data used to train a machine learning algorithm contains information that the model is attempting to predict, resulting in unreliable and poor prediction outcomes after model deployment."
      ]
    },
    {
      "cell_type": "code",
      "execution_count": null,
      "metadata": {
        "id": "mzuaS3D6e7mF"
      },
      "outputs": [],
      "source": [
        "trips. drop(\"dropoff_datetime\", axis=1, inplace=True) "
      ]
    },
    {
      "cell_type": "markdown",
      "metadata": {
        "id": "ihSHO5rve7mF"
      },
      "source": [
        "### **Let's check the first five rows of the data**"
      ]
    },
    {
      "cell_type": "code",
      "execution_count": null,
      "metadata": {
        "id": "Jjcn8fOBe7mF",
        "colab": {
          "base_uri": "https://localhost:8080/",
          "height": 357
        },
        "outputId": "3eb6096e-4d44-4d54-dcd7-db59fdd1d7bf"
      },
      "outputs": [
        {
          "output_type": "execute_result",
          "data": {
            "text/plain": [
              "   id vendor_id     pickup_datetime  passenger_count  trip_distance  \\\n",
              "0   0         2 2016-01-01 00:00:19                3           1.32   \n",
              "1   1         2 2016-01-01 00:01:45                1          13.70   \n",
              "2   2         1 2016-01-01 00:01:47                2           5.30   \n",
              "3   3         2 2016-01-01 00:01:48                1           7.19   \n",
              "4   4         1 2016-01-01 00:02:49                2           2.90   \n",
              "\n",
              "   pickup_longitude  pickup_latitude  dropoff_longitude  dropoff_latitude  \\\n",
              "0        -73.961258        40.796200         -73.950050         40.787312   \n",
              "1        -73.956169        40.707756         -73.939949         40.839558   \n",
              "2        -73.993103        40.752632         -73.953903         40.816540   \n",
              "3        -73.983009        40.731419         -73.930969         40.808460   \n",
              "4        -74.004631        40.747234         -73.976395         40.777237   \n",
              "\n",
              "  payment_type  trip_duration pickup_neighborhood dropoff_neighborhood  \n",
              "0            2          372.0                  AH                    C  \n",
              "1            1         1553.0                   Z                    S  \n",
              "2            2         1204.0                   D                   AL  \n",
              "3            2          858.0                  AT                    J  \n",
              "4            1         1076.0                  AG                   AV  "
            ],
            "text/html": [
              "\n",
              "  <div id=\"df-35fe7d76-0e77-45e9-9c96-831e3d767337\">\n",
              "    <div class=\"colab-df-container\">\n",
              "      <div>\n",
              "<style scoped>\n",
              "    .dataframe tbody tr th:only-of-type {\n",
              "        vertical-align: middle;\n",
              "    }\n",
              "\n",
              "    .dataframe tbody tr th {\n",
              "        vertical-align: top;\n",
              "    }\n",
              "\n",
              "    .dataframe thead th {\n",
              "        text-align: right;\n",
              "    }\n",
              "</style>\n",
              "<table border=\"1\" class=\"dataframe\">\n",
              "  <thead>\n",
              "    <tr style=\"text-align: right;\">\n",
              "      <th></th>\n",
              "      <th>id</th>\n",
              "      <th>vendor_id</th>\n",
              "      <th>pickup_datetime</th>\n",
              "      <th>passenger_count</th>\n",
              "      <th>trip_distance</th>\n",
              "      <th>pickup_longitude</th>\n",
              "      <th>pickup_latitude</th>\n",
              "      <th>dropoff_longitude</th>\n",
              "      <th>dropoff_latitude</th>\n",
              "      <th>payment_type</th>\n",
              "      <th>trip_duration</th>\n",
              "      <th>pickup_neighborhood</th>\n",
              "      <th>dropoff_neighborhood</th>\n",
              "    </tr>\n",
              "  </thead>\n",
              "  <tbody>\n",
              "    <tr>\n",
              "      <th>0</th>\n",
              "      <td>0</td>\n",
              "      <td>2</td>\n",
              "      <td>2016-01-01 00:00:19</td>\n",
              "      <td>3</td>\n",
              "      <td>1.32</td>\n",
              "      <td>-73.961258</td>\n",
              "      <td>40.796200</td>\n",
              "      <td>-73.950050</td>\n",
              "      <td>40.787312</td>\n",
              "      <td>2</td>\n",
              "      <td>372.0</td>\n",
              "      <td>AH</td>\n",
              "      <td>C</td>\n",
              "    </tr>\n",
              "    <tr>\n",
              "      <th>1</th>\n",
              "      <td>1</td>\n",
              "      <td>2</td>\n",
              "      <td>2016-01-01 00:01:45</td>\n",
              "      <td>1</td>\n",
              "      <td>13.70</td>\n",
              "      <td>-73.956169</td>\n",
              "      <td>40.707756</td>\n",
              "      <td>-73.939949</td>\n",
              "      <td>40.839558</td>\n",
              "      <td>1</td>\n",
              "      <td>1553.0</td>\n",
              "      <td>Z</td>\n",
              "      <td>S</td>\n",
              "    </tr>\n",
              "    <tr>\n",
              "      <th>2</th>\n",
              "      <td>2</td>\n",
              "      <td>1</td>\n",
              "      <td>2016-01-01 00:01:47</td>\n",
              "      <td>2</td>\n",
              "      <td>5.30</td>\n",
              "      <td>-73.993103</td>\n",
              "      <td>40.752632</td>\n",
              "      <td>-73.953903</td>\n",
              "      <td>40.816540</td>\n",
              "      <td>2</td>\n",
              "      <td>1204.0</td>\n",
              "      <td>D</td>\n",
              "      <td>AL</td>\n",
              "    </tr>\n",
              "    <tr>\n",
              "      <th>3</th>\n",
              "      <td>3</td>\n",
              "      <td>2</td>\n",
              "      <td>2016-01-01 00:01:48</td>\n",
              "      <td>1</td>\n",
              "      <td>7.19</td>\n",
              "      <td>-73.983009</td>\n",
              "      <td>40.731419</td>\n",
              "      <td>-73.930969</td>\n",
              "      <td>40.808460</td>\n",
              "      <td>2</td>\n",
              "      <td>858.0</td>\n",
              "      <td>AT</td>\n",
              "      <td>J</td>\n",
              "    </tr>\n",
              "    <tr>\n",
              "      <th>4</th>\n",
              "      <td>4</td>\n",
              "      <td>1</td>\n",
              "      <td>2016-01-01 00:02:49</td>\n",
              "      <td>2</td>\n",
              "      <td>2.90</td>\n",
              "      <td>-74.004631</td>\n",
              "      <td>40.747234</td>\n",
              "      <td>-73.976395</td>\n",
              "      <td>40.777237</td>\n",
              "      <td>1</td>\n",
              "      <td>1076.0</td>\n",
              "      <td>AG</td>\n",
              "      <td>AV</td>\n",
              "    </tr>\n",
              "  </tbody>\n",
              "</table>\n",
              "</div>\n",
              "      <button class=\"colab-df-convert\" onclick=\"convertToInteractive('df-35fe7d76-0e77-45e9-9c96-831e3d767337')\"\n",
              "              title=\"Convert this dataframe to an interactive table.\"\n",
              "              style=\"display:none;\">\n",
              "        \n",
              "  <svg xmlns=\"http://www.w3.org/2000/svg\" height=\"24px\"viewBox=\"0 0 24 24\"\n",
              "       width=\"24px\">\n",
              "    <path d=\"M0 0h24v24H0V0z\" fill=\"none\"/>\n",
              "    <path d=\"M18.56 5.44l.94 2.06.94-2.06 2.06-.94-2.06-.94-.94-2.06-.94 2.06-2.06.94zm-11 1L8.5 8.5l.94-2.06 2.06-.94-2.06-.94L8.5 2.5l-.94 2.06-2.06.94zm10 10l.94 2.06.94-2.06 2.06-.94-2.06-.94-.94-2.06-.94 2.06-2.06.94z\"/><path d=\"M17.41 7.96l-1.37-1.37c-.4-.4-.92-.59-1.43-.59-.52 0-1.04.2-1.43.59L10.3 9.45l-7.72 7.72c-.78.78-.78 2.05 0 2.83L4 21.41c.39.39.9.59 1.41.59.51 0 1.02-.2 1.41-.59l7.78-7.78 2.81-2.81c.8-.78.8-2.07 0-2.86zM5.41 20L4 18.59l7.72-7.72 1.47 1.35L5.41 20z\"/>\n",
              "  </svg>\n",
              "      </button>\n",
              "      \n",
              "  <style>\n",
              "    .colab-df-container {\n",
              "      display:flex;\n",
              "      flex-wrap:wrap;\n",
              "      gap: 12px;\n",
              "    }\n",
              "\n",
              "    .colab-df-convert {\n",
              "      background-color: #E8F0FE;\n",
              "      border: none;\n",
              "      border-radius: 50%;\n",
              "      cursor: pointer;\n",
              "      display: none;\n",
              "      fill: #1967D2;\n",
              "      height: 32px;\n",
              "      padding: 0 0 0 0;\n",
              "      width: 32px;\n",
              "    }\n",
              "\n",
              "    .colab-df-convert:hover {\n",
              "      background-color: #E2EBFA;\n",
              "      box-shadow: 0px 1px 2px rgba(60, 64, 67, 0.3), 0px 1px 3px 1px rgba(60, 64, 67, 0.15);\n",
              "      fill: #174EA6;\n",
              "    }\n",
              "\n",
              "    [theme=dark] .colab-df-convert {\n",
              "      background-color: #3B4455;\n",
              "      fill: #D2E3FC;\n",
              "    }\n",
              "\n",
              "    [theme=dark] .colab-df-convert:hover {\n",
              "      background-color: #434B5C;\n",
              "      box-shadow: 0px 1px 3px 1px rgba(0, 0, 0, 0.15);\n",
              "      filter: drop-shadow(0px 1px 2px rgba(0, 0, 0, 0.3));\n",
              "      fill: #FFFFFF;\n",
              "    }\n",
              "  </style>\n",
              "\n",
              "      <script>\n",
              "        const buttonEl =\n",
              "          document.querySelector('#df-35fe7d76-0e77-45e9-9c96-831e3d767337 button.colab-df-convert');\n",
              "        buttonEl.style.display =\n",
              "          google.colab.kernel.accessAllowed ? 'block' : 'none';\n",
              "\n",
              "        async function convertToInteractive(key) {\n",
              "          const element = document.querySelector('#df-35fe7d76-0e77-45e9-9c96-831e3d767337');\n",
              "          const dataTable =\n",
              "            await google.colab.kernel.invokeFunction('convertToInteractive',\n",
              "                                                     [key], {});\n",
              "          if (!dataTable) return;\n",
              "\n",
              "          const docLinkHtml = 'Like what you see? Visit the ' +\n",
              "            '<a target=\"_blank\" href=https://colab.research.google.com/notebooks/data_table.ipynb>data table notebook</a>'\n",
              "            + ' to learn more about interactive tables.';\n",
              "          element.innerHTML = '';\n",
              "          dataTable['output_type'] = 'display_data';\n",
              "          await google.colab.output.renderOutput(dataTable, element);\n",
              "          const docLink = document.createElement('div');\n",
              "          docLink.innerHTML = docLinkHtml;\n",
              "          element.appendChild(docLink);\n",
              "        }\n",
              "      </script>\n",
              "    </div>\n",
              "  </div>\n",
              "  "
            ]
          },
          "metadata": {},
          "execution_count": 17
        }
      ],
      "source": [
        "trips.head()"
      ]
    },
    {
      "cell_type": "markdown",
      "metadata": {
        "id": "bfJStwuxe7mF"
      },
      "source": [
        "Let's check the **info** of the data"
      ]
    },
    {
      "cell_type": "code",
      "execution_count": null,
      "metadata": {
        "id": "KnDDlVm1e7mG",
        "colab": {
          "base_uri": "https://localhost:8080/"
        },
        "outputId": "3553ddfc-9d8a-4c42-de24-2f51a1d8cbbc"
      },
      "outputs": [
        {
          "output_type": "stream",
          "name": "stdout",
          "text": [
            "<class 'pandas.core.frame.DataFrame'>\n",
            "Int64Index: 974409 entries, 0 to 974408\n",
            "Data columns (total 13 columns):\n",
            " #   Column                Non-Null Count   Dtype         \n",
            "---  ------                --------------   -----         \n",
            " 0   id                    974409 non-null  int64         \n",
            " 1   vendor_id             974409 non-null  category      \n",
            " 2   pickup_datetime       974409 non-null  datetime64[ns]\n",
            " 3   passenger_count       974409 non-null  int64         \n",
            " 4   trip_distance         974409 non-null  float64       \n",
            " 5   pickup_longitude      974409 non-null  float64       \n",
            " 6   pickup_latitude       974409 non-null  float64       \n",
            " 7   dropoff_longitude     974409 non-null  float64       \n",
            " 8   dropoff_latitude      974409 non-null  float64       \n",
            " 9   payment_type          974409 non-null  object        \n",
            " 10  trip_duration         974409 non-null  float64       \n",
            " 11  pickup_neighborhood   974409 non-null  object        \n",
            " 12  dropoff_neighborhood  974409 non-null  object        \n",
            "dtypes: category(1), datetime64[ns](1), float64(6), int64(2), object(3)\n",
            "memory usage: 97.6+ MB\n"
          ]
        }
      ],
      "source": [
        "# Checking the info of the dataset\n",
        "trips.info()"
      ]
    },
    {
      "cell_type": "markdown",
      "metadata": {
        "id": "eS039A4ve7mG"
      },
      "source": [
        "- There are 974409 non null values in the dataset"
      ]
    },
    {
      "cell_type": "markdown",
      "metadata": {
        "id": "J2YGZ8-Pe7mG"
      },
      "source": [
        "### **Check the number of unique values in the dataset.**"
      ]
    },
    {
      "cell_type": "code",
      "execution_count": null,
      "metadata": {
        "id": "EKkjoKl3e7mG",
        "colab": {
          "base_uri": "https://localhost:8080/"
        },
        "outputId": "810161ad-0d23-479c-a71d-7195bcbda755"
      },
      "outputs": [
        {
          "output_type": "execute_result",
          "data": {
            "text/plain": [
              "id                      974409\n",
              "vendor_id                    2\n",
              "pickup_datetime         939015\n",
              "passenger_count              8\n",
              "trip_distance             2503\n",
              "pickup_longitude         20222\n",
              "pickup_latitude          40692\n",
              "dropoff_longitude        26127\n",
              "dropoff_latitude         50077\n",
              "payment_type                 4\n",
              "trip_duration             3607\n",
              "pickup_neighborhood         49\n",
              "dropoff_neighborhood        49\n",
              "dtype: int64"
            ]
          },
          "metadata": {},
          "execution_count": 19
        }
      ],
      "source": [
        "# Check the uniques values in each columns\n",
        "trips.nunique()"
      ]
    },
    {
      "cell_type": "markdown",
      "metadata": {
        "id": "G9ZIw3yXe7mG"
      },
      "source": [
        "- vendor_id has only 2 unique values, implies there are only 2 major taxi vendors are there. \n",
        "- Passenger count has 8 unique values and payment type have 4. \n",
        "- There are 49 neighborhood in the dataset, from where either a pickup or dropoff is happening. "
      ]
    },
    {
      "cell_type": "markdown",
      "metadata": {
        "id": "JGoS7r7ze7mG"
      },
      "source": [
        "### **Question 1 : Check summary statistics of the dataset (1 Mark)**"
      ]
    },
    {
      "cell_type": "code",
      "execution_count": null,
      "metadata": {
        "id": "MOEQC1jRe7mG",
        "colab": {
          "base_uri": "https://localhost:8080/",
          "height": 300
        },
        "outputId": "4f015d6a-cca4-4f76-ea2d-359c3118752b"
      },
      "outputs": [
        {
          "output_type": "execute_result",
          "data": {
            "text/plain": [
              "                 id  passenger_count  trip_distance  pickup_longitude  \\\n",
              "count  9.744090e+05    974409.000000  974409.000000     974409.000000   \n",
              "mean   5.096223e+05         1.664010       2.734356        -73.973275   \n",
              "std    2.944916e+05         1.314975       3.307038          0.035702   \n",
              "min    0.000000e+00         0.000000       0.000000        -74.029846   \n",
              "25%    2.545210e+05         1.000000       1.000000        -73.991058   \n",
              "50%    5.093100e+05         1.000000       1.640000        -73.981178   \n",
              "75%    7.647430e+05         2.000000       2.990000        -73.966888   \n",
              "max    1.020002e+06         9.000000     502.800000        -73.770508   \n",
              "\n",
              "       pickup_latitude  dropoff_longitude  dropoff_latitude  trip_duration  \n",
              "count    974409.000000      974409.000000     974409.000000  974409.000000  \n",
              "mean         40.752475         -73.972825         40.753046     797.702753  \n",
              "std           0.026668           0.031348          0.029151     576.802176  \n",
              "min          40.630268         -74.029945         40.630009       0.000000  \n",
              "25%          40.739689         -73.990356         40.738792     389.000000  \n",
              "50%          40.755390         -73.979156         40.755650     646.000000  \n",
              "75%          40.768929         -73.962769         40.770454    1040.000000  \n",
              "max          40.849911         -73.770020         40.849998    3606.000000  "
            ],
            "text/html": [
              "\n",
              "  <div id=\"df-36e3d155-8bab-4ea4-8a47-6dc64972db7e\">\n",
              "    <div class=\"colab-df-container\">\n",
              "      <div>\n",
              "<style scoped>\n",
              "    .dataframe tbody tr th:only-of-type {\n",
              "        vertical-align: middle;\n",
              "    }\n",
              "\n",
              "    .dataframe tbody tr th {\n",
              "        vertical-align: top;\n",
              "    }\n",
              "\n",
              "    .dataframe thead th {\n",
              "        text-align: right;\n",
              "    }\n",
              "</style>\n",
              "<table border=\"1\" class=\"dataframe\">\n",
              "  <thead>\n",
              "    <tr style=\"text-align: right;\">\n",
              "      <th></th>\n",
              "      <th>id</th>\n",
              "      <th>passenger_count</th>\n",
              "      <th>trip_distance</th>\n",
              "      <th>pickup_longitude</th>\n",
              "      <th>pickup_latitude</th>\n",
              "      <th>dropoff_longitude</th>\n",
              "      <th>dropoff_latitude</th>\n",
              "      <th>trip_duration</th>\n",
              "    </tr>\n",
              "  </thead>\n",
              "  <tbody>\n",
              "    <tr>\n",
              "      <th>count</th>\n",
              "      <td>9.744090e+05</td>\n",
              "      <td>974409.000000</td>\n",
              "      <td>974409.000000</td>\n",
              "      <td>974409.000000</td>\n",
              "      <td>974409.000000</td>\n",
              "      <td>974409.000000</td>\n",
              "      <td>974409.000000</td>\n",
              "      <td>974409.000000</td>\n",
              "    </tr>\n",
              "    <tr>\n",
              "      <th>mean</th>\n",
              "      <td>5.096223e+05</td>\n",
              "      <td>1.664010</td>\n",
              "      <td>2.734356</td>\n",
              "      <td>-73.973275</td>\n",
              "      <td>40.752475</td>\n",
              "      <td>-73.972825</td>\n",
              "      <td>40.753046</td>\n",
              "      <td>797.702753</td>\n",
              "    </tr>\n",
              "    <tr>\n",
              "      <th>std</th>\n",
              "      <td>2.944916e+05</td>\n",
              "      <td>1.314975</td>\n",
              "      <td>3.307038</td>\n",
              "      <td>0.035702</td>\n",
              "      <td>0.026668</td>\n",
              "      <td>0.031348</td>\n",
              "      <td>0.029151</td>\n",
              "      <td>576.802176</td>\n",
              "    </tr>\n",
              "    <tr>\n",
              "      <th>min</th>\n",
              "      <td>0.000000e+00</td>\n",
              "      <td>0.000000</td>\n",
              "      <td>0.000000</td>\n",
              "      <td>-74.029846</td>\n",
              "      <td>40.630268</td>\n",
              "      <td>-74.029945</td>\n",
              "      <td>40.630009</td>\n",
              "      <td>0.000000</td>\n",
              "    </tr>\n",
              "    <tr>\n",
              "      <th>25%</th>\n",
              "      <td>2.545210e+05</td>\n",
              "      <td>1.000000</td>\n",
              "      <td>1.000000</td>\n",
              "      <td>-73.991058</td>\n",
              "      <td>40.739689</td>\n",
              "      <td>-73.990356</td>\n",
              "      <td>40.738792</td>\n",
              "      <td>389.000000</td>\n",
              "    </tr>\n",
              "    <tr>\n",
              "      <th>50%</th>\n",
              "      <td>5.093100e+05</td>\n",
              "      <td>1.000000</td>\n",
              "      <td>1.640000</td>\n",
              "      <td>-73.981178</td>\n",
              "      <td>40.755390</td>\n",
              "      <td>-73.979156</td>\n",
              "      <td>40.755650</td>\n",
              "      <td>646.000000</td>\n",
              "    </tr>\n",
              "    <tr>\n",
              "      <th>75%</th>\n",
              "      <td>7.647430e+05</td>\n",
              "      <td>2.000000</td>\n",
              "      <td>2.990000</td>\n",
              "      <td>-73.966888</td>\n",
              "      <td>40.768929</td>\n",
              "      <td>-73.962769</td>\n",
              "      <td>40.770454</td>\n",
              "      <td>1040.000000</td>\n",
              "    </tr>\n",
              "    <tr>\n",
              "      <th>max</th>\n",
              "      <td>1.020002e+06</td>\n",
              "      <td>9.000000</td>\n",
              "      <td>502.800000</td>\n",
              "      <td>-73.770508</td>\n",
              "      <td>40.849911</td>\n",
              "      <td>-73.770020</td>\n",
              "      <td>40.849998</td>\n",
              "      <td>3606.000000</td>\n",
              "    </tr>\n",
              "  </tbody>\n",
              "</table>\n",
              "</div>\n",
              "      <button class=\"colab-df-convert\" onclick=\"convertToInteractive('df-36e3d155-8bab-4ea4-8a47-6dc64972db7e')\"\n",
              "              title=\"Convert this dataframe to an interactive table.\"\n",
              "              style=\"display:none;\">\n",
              "        \n",
              "  <svg xmlns=\"http://www.w3.org/2000/svg\" height=\"24px\"viewBox=\"0 0 24 24\"\n",
              "       width=\"24px\">\n",
              "    <path d=\"M0 0h24v24H0V0z\" fill=\"none\"/>\n",
              "    <path d=\"M18.56 5.44l.94 2.06.94-2.06 2.06-.94-2.06-.94-.94-2.06-.94 2.06-2.06.94zm-11 1L8.5 8.5l.94-2.06 2.06-.94-2.06-.94L8.5 2.5l-.94 2.06-2.06.94zm10 10l.94 2.06.94-2.06 2.06-.94-2.06-.94-.94-2.06-.94 2.06-2.06.94z\"/><path d=\"M17.41 7.96l-1.37-1.37c-.4-.4-.92-.59-1.43-.59-.52 0-1.04.2-1.43.59L10.3 9.45l-7.72 7.72c-.78.78-.78 2.05 0 2.83L4 21.41c.39.39.9.59 1.41.59.51 0 1.02-.2 1.41-.59l7.78-7.78 2.81-2.81c.8-.78.8-2.07 0-2.86zM5.41 20L4 18.59l7.72-7.72 1.47 1.35L5.41 20z\"/>\n",
              "  </svg>\n",
              "      </button>\n",
              "      \n",
              "  <style>\n",
              "    .colab-df-container {\n",
              "      display:flex;\n",
              "      flex-wrap:wrap;\n",
              "      gap: 12px;\n",
              "    }\n",
              "\n",
              "    .colab-df-convert {\n",
              "      background-color: #E8F0FE;\n",
              "      border: none;\n",
              "      border-radius: 50%;\n",
              "      cursor: pointer;\n",
              "      display: none;\n",
              "      fill: #1967D2;\n",
              "      height: 32px;\n",
              "      padding: 0 0 0 0;\n",
              "      width: 32px;\n",
              "    }\n",
              "\n",
              "    .colab-df-convert:hover {\n",
              "      background-color: #E2EBFA;\n",
              "      box-shadow: 0px 1px 2px rgba(60, 64, 67, 0.3), 0px 1px 3px 1px rgba(60, 64, 67, 0.15);\n",
              "      fill: #174EA6;\n",
              "    }\n",
              "\n",
              "    [theme=dark] .colab-df-convert {\n",
              "      background-color: #3B4455;\n",
              "      fill: #D2E3FC;\n",
              "    }\n",
              "\n",
              "    [theme=dark] .colab-df-convert:hover {\n",
              "      background-color: #434B5C;\n",
              "      box-shadow: 0px 1px 3px 1px rgba(0, 0, 0, 0.15);\n",
              "      filter: drop-shadow(0px 1px 2px rgba(0, 0, 0, 0.3));\n",
              "      fill: #FFFFFF;\n",
              "    }\n",
              "  </style>\n",
              "\n",
              "      <script>\n",
              "        const buttonEl =\n",
              "          document.querySelector('#df-36e3d155-8bab-4ea4-8a47-6dc64972db7e button.colab-df-convert');\n",
              "        buttonEl.style.display =\n",
              "          google.colab.kernel.accessAllowed ? 'block' : 'none';\n",
              "\n",
              "        async function convertToInteractive(key) {\n",
              "          const element = document.querySelector('#df-36e3d155-8bab-4ea4-8a47-6dc64972db7e');\n",
              "          const dataTable =\n",
              "            await google.colab.kernel.invokeFunction('convertToInteractive',\n",
              "                                                     [key], {});\n",
              "          if (!dataTable) return;\n",
              "\n",
              "          const docLinkHtml = 'Like what you see? Visit the ' +\n",
              "            '<a target=\"_blank\" href=https://colab.research.google.com/notebooks/data_table.ipynb>data table notebook</a>'\n",
              "            + ' to learn more about interactive tables.';\n",
              "          element.innerHTML = '';\n",
              "          dataTable['output_type'] = 'display_data';\n",
              "          await google.colab.output.renderOutput(dataTable, element);\n",
              "          const docLink = document.createElement('div');\n",
              "          docLink.innerHTML = docLinkHtml;\n",
              "          element.appendChild(docLink);\n",
              "        }\n",
              "      </script>\n",
              "    </div>\n",
              "  </div>\n",
              "  "
            ]
          },
          "metadata": {},
          "execution_count": 20
        }
      ],
      "source": [
        "# Checking the descriptive stats of the data\n",
        "\n",
        "# Remove _________ and complete the code\n",
        "\n",
        "trips.describe()"
      ]
    },
    {
      "cell_type": "markdown",
      "metadata": {
        "id": "-Q_Wt4Eqe7mH"
      },
      "source": [
        "**Write your answers here:_____**"
      ]
    },
    {
      "cell_type": "markdown",
      "metadata": {
        "id": "4JQxubi3e7mH"
      },
      "source": [
        "### **Checking for the rows for which trip_distance is 0**"
      ]
    },
    {
      "cell_type": "code",
      "execution_count": null,
      "metadata": {
        "id": "x9RelNREe7mH",
        "colab": {
          "base_uri": "https://localhost:8080/",
          "height": 661
        },
        "outputId": "e2ccef03-89bb-4a93-d8f7-76747ac9b4ce"
      },
      "outputs": [
        {
          "output_type": "execute_result",
          "data": {
            "text/plain": [
              "             id vendor_id     pickup_datetime  passenger_count  trip_distance  \\\n",
              "852         880         1 2016-01-01 02:15:56                1            0.0   \n",
              "1079       1116         1 2016-01-01 03:01:10                1            0.0   \n",
              "1408       1455         2 2016-01-01 04:09:43                1            0.0   \n",
              "1440       1488         1 2016-01-01 04:16:54                1            0.0   \n",
              "1510       1558         1 2016-01-01 04:36:03                1            0.0   \n",
              "...         ...       ...                 ...              ...            ...   \n",
              "972967  1018490         1 2016-06-30 19:09:44                1            0.0   \n",
              "973384  1018928         2 2016-06-30 20:35:08                1            0.0   \n",
              "973555  1019105         2 2016-06-30 21:13:50                1            0.0   \n",
              "973607  1019159         2 2016-06-30 21:24:23                1            0.0   \n",
              "973898  1019464         2 2016-06-30 22:20:27                2            0.0   \n",
              "\n",
              "        pickup_longitude  pickup_latitude  dropoff_longitude  \\\n",
              "852           -74.002586        40.750298         -74.002861   \n",
              "1079          -73.987831        40.728558         -73.988747   \n",
              "1408          -73.985893        40.763649         -73.985741   \n",
              "1440          -74.014198        40.709988         -74.014198   \n",
              "1510          -73.952507        40.817329         -73.952499   \n",
              "...                  ...              ...                ...   \n",
              "972967        -73.945480        40.751400         -73.945496   \n",
              "973384        -73.983864        40.693813         -73.983910   \n",
              "973555        -74.008789        40.708740         -74.008659   \n",
              "973607        -73.974510        40.778297         -73.977272   \n",
              "973898        -73.978920        40.688160         -73.992317   \n",
              "\n",
              "        dropoff_latitude payment_type  trip_duration pickup_neighborhood  \\\n",
              "852            40.750446            2           21.0                  AG   \n",
              "1079           40.727280            3          136.0                   H   \n",
              "1408           40.763672            2           65.0                  AR   \n",
              "1440           40.709988            3            3.0                  AU   \n",
              "1510           40.817322            2           13.0                  AL   \n",
              "...                  ...          ...            ...                 ...   \n",
              "972967         40.751549            2          757.0                  AN   \n",
              "973384         40.693817            1            2.0                  AS   \n",
              "973555         40.708858            1           15.0                  AU   \n",
              "973607         40.754047            1          797.0                   I   \n",
              "973898         40.749359            1         1364.0                   V   \n",
              "\n",
              "       dropoff_neighborhood  \n",
              "852                      AG  \n",
              "1079                      H  \n",
              "1408                     AR  \n",
              "1440                     AU  \n",
              "1510                     AL  \n",
              "...                     ...  \n",
              "972967                   AN  \n",
              "973384                   AS  \n",
              "973555                   AU  \n",
              "973607                   AD  \n",
              "973898                    D  \n",
              "\n",
              "[3807 rows x 13 columns]"
            ],
            "text/html": [
              "\n",
              "  <div id=\"df-d7426768-80c8-4ad7-bc64-002240a54dd5\">\n",
              "    <div class=\"colab-df-container\">\n",
              "      <div>\n",
              "<style scoped>\n",
              "    .dataframe tbody tr th:only-of-type {\n",
              "        vertical-align: middle;\n",
              "    }\n",
              "\n",
              "    .dataframe tbody tr th {\n",
              "        vertical-align: top;\n",
              "    }\n",
              "\n",
              "    .dataframe thead th {\n",
              "        text-align: right;\n",
              "    }\n",
              "</style>\n",
              "<table border=\"1\" class=\"dataframe\">\n",
              "  <thead>\n",
              "    <tr style=\"text-align: right;\">\n",
              "      <th></th>\n",
              "      <th>id</th>\n",
              "      <th>vendor_id</th>\n",
              "      <th>pickup_datetime</th>\n",
              "      <th>passenger_count</th>\n",
              "      <th>trip_distance</th>\n",
              "      <th>pickup_longitude</th>\n",
              "      <th>pickup_latitude</th>\n",
              "      <th>dropoff_longitude</th>\n",
              "      <th>dropoff_latitude</th>\n",
              "      <th>payment_type</th>\n",
              "      <th>trip_duration</th>\n",
              "      <th>pickup_neighborhood</th>\n",
              "      <th>dropoff_neighborhood</th>\n",
              "    </tr>\n",
              "  </thead>\n",
              "  <tbody>\n",
              "    <tr>\n",
              "      <th>852</th>\n",
              "      <td>880</td>\n",
              "      <td>1</td>\n",
              "      <td>2016-01-01 02:15:56</td>\n",
              "      <td>1</td>\n",
              "      <td>0.0</td>\n",
              "      <td>-74.002586</td>\n",
              "      <td>40.750298</td>\n",
              "      <td>-74.002861</td>\n",
              "      <td>40.750446</td>\n",
              "      <td>2</td>\n",
              "      <td>21.0</td>\n",
              "      <td>AG</td>\n",
              "      <td>AG</td>\n",
              "    </tr>\n",
              "    <tr>\n",
              "      <th>1079</th>\n",
              "      <td>1116</td>\n",
              "      <td>1</td>\n",
              "      <td>2016-01-01 03:01:10</td>\n",
              "      <td>1</td>\n",
              "      <td>0.0</td>\n",
              "      <td>-73.987831</td>\n",
              "      <td>40.728558</td>\n",
              "      <td>-73.988747</td>\n",
              "      <td>40.727280</td>\n",
              "      <td>3</td>\n",
              "      <td>136.0</td>\n",
              "      <td>H</td>\n",
              "      <td>H</td>\n",
              "    </tr>\n",
              "    <tr>\n",
              "      <th>1408</th>\n",
              "      <td>1455</td>\n",
              "      <td>2</td>\n",
              "      <td>2016-01-01 04:09:43</td>\n",
              "      <td>1</td>\n",
              "      <td>0.0</td>\n",
              "      <td>-73.985893</td>\n",
              "      <td>40.763649</td>\n",
              "      <td>-73.985741</td>\n",
              "      <td>40.763672</td>\n",
              "      <td>2</td>\n",
              "      <td>65.0</td>\n",
              "      <td>AR</td>\n",
              "      <td>AR</td>\n",
              "    </tr>\n",
              "    <tr>\n",
              "      <th>1440</th>\n",
              "      <td>1488</td>\n",
              "      <td>1</td>\n",
              "      <td>2016-01-01 04:16:54</td>\n",
              "      <td>1</td>\n",
              "      <td>0.0</td>\n",
              "      <td>-74.014198</td>\n",
              "      <td>40.709988</td>\n",
              "      <td>-74.014198</td>\n",
              "      <td>40.709988</td>\n",
              "      <td>3</td>\n",
              "      <td>3.0</td>\n",
              "      <td>AU</td>\n",
              "      <td>AU</td>\n",
              "    </tr>\n",
              "    <tr>\n",
              "      <th>1510</th>\n",
              "      <td>1558</td>\n",
              "      <td>1</td>\n",
              "      <td>2016-01-01 04:36:03</td>\n",
              "      <td>1</td>\n",
              "      <td>0.0</td>\n",
              "      <td>-73.952507</td>\n",
              "      <td>40.817329</td>\n",
              "      <td>-73.952499</td>\n",
              "      <td>40.817322</td>\n",
              "      <td>2</td>\n",
              "      <td>13.0</td>\n",
              "      <td>AL</td>\n",
              "      <td>AL</td>\n",
              "    </tr>\n",
              "    <tr>\n",
              "      <th>...</th>\n",
              "      <td>...</td>\n",
              "      <td>...</td>\n",
              "      <td>...</td>\n",
              "      <td>...</td>\n",
              "      <td>...</td>\n",
              "      <td>...</td>\n",
              "      <td>...</td>\n",
              "      <td>...</td>\n",
              "      <td>...</td>\n",
              "      <td>...</td>\n",
              "      <td>...</td>\n",
              "      <td>...</td>\n",
              "      <td>...</td>\n",
              "    </tr>\n",
              "    <tr>\n",
              "      <th>972967</th>\n",
              "      <td>1018490</td>\n",
              "      <td>1</td>\n",
              "      <td>2016-06-30 19:09:44</td>\n",
              "      <td>1</td>\n",
              "      <td>0.0</td>\n",
              "      <td>-73.945480</td>\n",
              "      <td>40.751400</td>\n",
              "      <td>-73.945496</td>\n",
              "      <td>40.751549</td>\n",
              "      <td>2</td>\n",
              "      <td>757.0</td>\n",
              "      <td>AN</td>\n",
              "      <td>AN</td>\n",
              "    </tr>\n",
              "    <tr>\n",
              "      <th>973384</th>\n",
              "      <td>1018928</td>\n",
              "      <td>2</td>\n",
              "      <td>2016-06-30 20:35:08</td>\n",
              "      <td>1</td>\n",
              "      <td>0.0</td>\n",
              "      <td>-73.983864</td>\n",
              "      <td>40.693813</td>\n",
              "      <td>-73.983910</td>\n",
              "      <td>40.693817</td>\n",
              "      <td>1</td>\n",
              "      <td>2.0</td>\n",
              "      <td>AS</td>\n",
              "      <td>AS</td>\n",
              "    </tr>\n",
              "    <tr>\n",
              "      <th>973555</th>\n",
              "      <td>1019105</td>\n",
              "      <td>2</td>\n",
              "      <td>2016-06-30 21:13:50</td>\n",
              "      <td>1</td>\n",
              "      <td>0.0</td>\n",
              "      <td>-74.008789</td>\n",
              "      <td>40.708740</td>\n",
              "      <td>-74.008659</td>\n",
              "      <td>40.708858</td>\n",
              "      <td>1</td>\n",
              "      <td>15.0</td>\n",
              "      <td>AU</td>\n",
              "      <td>AU</td>\n",
              "    </tr>\n",
              "    <tr>\n",
              "      <th>973607</th>\n",
              "      <td>1019159</td>\n",
              "      <td>2</td>\n",
              "      <td>2016-06-30 21:24:23</td>\n",
              "      <td>1</td>\n",
              "      <td>0.0</td>\n",
              "      <td>-73.974510</td>\n",
              "      <td>40.778297</td>\n",
              "      <td>-73.977272</td>\n",
              "      <td>40.754047</td>\n",
              "      <td>1</td>\n",
              "      <td>797.0</td>\n",
              "      <td>I</td>\n",
              "      <td>AD</td>\n",
              "    </tr>\n",
              "    <tr>\n",
              "      <th>973898</th>\n",
              "      <td>1019464</td>\n",
              "      <td>2</td>\n",
              "      <td>2016-06-30 22:20:27</td>\n",
              "      <td>2</td>\n",
              "      <td>0.0</td>\n",
              "      <td>-73.978920</td>\n",
              "      <td>40.688160</td>\n",
              "      <td>-73.992317</td>\n",
              "      <td>40.749359</td>\n",
              "      <td>1</td>\n",
              "      <td>1364.0</td>\n",
              "      <td>V</td>\n",
              "      <td>D</td>\n",
              "    </tr>\n",
              "  </tbody>\n",
              "</table>\n",
              "<p>3807 rows × 13 columns</p>\n",
              "</div>\n",
              "      <button class=\"colab-df-convert\" onclick=\"convertToInteractive('df-d7426768-80c8-4ad7-bc64-002240a54dd5')\"\n",
              "              title=\"Convert this dataframe to an interactive table.\"\n",
              "              style=\"display:none;\">\n",
              "        \n",
              "  <svg xmlns=\"http://www.w3.org/2000/svg\" height=\"24px\"viewBox=\"0 0 24 24\"\n",
              "       width=\"24px\">\n",
              "    <path d=\"M0 0h24v24H0V0z\" fill=\"none\"/>\n",
              "    <path d=\"M18.56 5.44l.94 2.06.94-2.06 2.06-.94-2.06-.94-.94-2.06-.94 2.06-2.06.94zm-11 1L8.5 8.5l.94-2.06 2.06-.94-2.06-.94L8.5 2.5l-.94 2.06-2.06.94zm10 10l.94 2.06.94-2.06 2.06-.94-2.06-.94-.94-2.06-.94 2.06-2.06.94z\"/><path d=\"M17.41 7.96l-1.37-1.37c-.4-.4-.92-.59-1.43-.59-.52 0-1.04.2-1.43.59L10.3 9.45l-7.72 7.72c-.78.78-.78 2.05 0 2.83L4 21.41c.39.39.9.59 1.41.59.51 0 1.02-.2 1.41-.59l7.78-7.78 2.81-2.81c.8-.78.8-2.07 0-2.86zM5.41 20L4 18.59l7.72-7.72 1.47 1.35L5.41 20z\"/>\n",
              "  </svg>\n",
              "      </button>\n",
              "      \n",
              "  <style>\n",
              "    .colab-df-container {\n",
              "      display:flex;\n",
              "      flex-wrap:wrap;\n",
              "      gap: 12px;\n",
              "    }\n",
              "\n",
              "    .colab-df-convert {\n",
              "      background-color: #E8F0FE;\n",
              "      border: none;\n",
              "      border-radius: 50%;\n",
              "      cursor: pointer;\n",
              "      display: none;\n",
              "      fill: #1967D2;\n",
              "      height: 32px;\n",
              "      padding: 0 0 0 0;\n",
              "      width: 32px;\n",
              "    }\n",
              "\n",
              "    .colab-df-convert:hover {\n",
              "      background-color: #E2EBFA;\n",
              "      box-shadow: 0px 1px 2px rgba(60, 64, 67, 0.3), 0px 1px 3px 1px rgba(60, 64, 67, 0.15);\n",
              "      fill: #174EA6;\n",
              "    }\n",
              "\n",
              "    [theme=dark] .colab-df-convert {\n",
              "      background-color: #3B4455;\n",
              "      fill: #D2E3FC;\n",
              "    }\n",
              "\n",
              "    [theme=dark] .colab-df-convert:hover {\n",
              "      background-color: #434B5C;\n",
              "      box-shadow: 0px 1px 3px 1px rgba(0, 0, 0, 0.15);\n",
              "      filter: drop-shadow(0px 1px 2px rgba(0, 0, 0, 0.3));\n",
              "      fill: #FFFFFF;\n",
              "    }\n",
              "  </style>\n",
              "\n",
              "      <script>\n",
              "        const buttonEl =\n",
              "          document.querySelector('#df-d7426768-80c8-4ad7-bc64-002240a54dd5 button.colab-df-convert');\n",
              "        buttonEl.style.display =\n",
              "          google.colab.kernel.accessAllowed ? 'block' : 'none';\n",
              "\n",
              "        async function convertToInteractive(key) {\n",
              "          const element = document.querySelector('#df-d7426768-80c8-4ad7-bc64-002240a54dd5');\n",
              "          const dataTable =\n",
              "            await google.colab.kernel.invokeFunction('convertToInteractive',\n",
              "                                                     [key], {});\n",
              "          if (!dataTable) return;\n",
              "\n",
              "          const docLinkHtml = 'Like what you see? Visit the ' +\n",
              "            '<a target=\"_blank\" href=https://colab.research.google.com/notebooks/data_table.ipynb>data table notebook</a>'\n",
              "            + ' to learn more about interactive tables.';\n",
              "          element.innerHTML = '';\n",
              "          dataTable['output_type'] = 'display_data';\n",
              "          await google.colab.output.renderOutput(dataTable, element);\n",
              "          const docLink = document.createElement('div');\n",
              "          docLink.innerHTML = docLinkHtml;\n",
              "          element.appendChild(docLink);\n",
              "        }\n",
              "      </script>\n",
              "    </div>\n",
              "  </div>\n",
              "  "
            ]
          },
          "metadata": {},
          "execution_count": 21
        }
      ],
      "source": [
        "# Chekcing the rows where trip distance is 0\n",
        "trips[trips['trip_distance']==0]"
      ]
    },
    {
      "cell_type": "markdown",
      "metadata": {
        "id": "CbvDdzWde7mH"
      },
      "source": [
        "- We can observe that, where trip distance is 0 trip duration is not 0, hence we can replace those values. \n",
        "- There are 3807 such rows"
      ]
    },
    {
      "cell_type": "markdown",
      "metadata": {
        "id": "_6KNtggMe7mH"
      },
      "source": [
        "#### **Replacing the 0 values with median of the trip distance**"
      ]
    },
    {
      "cell_type": "code",
      "execution_count": null,
      "metadata": {
        "id": "moeohpo0e7mH"
      },
      "outputs": [],
      "source": [
        "trips['trip_distance']=trips['trip_distance'].replace(0,trips['trip_distance'].median())"
      ]
    },
    {
      "cell_type": "code",
      "execution_count": null,
      "metadata": {
        "id": "hPVdaDgUe7mH",
        "colab": {
          "base_uri": "https://localhost:8080/"
        },
        "outputId": "bf5d49c0-7331-4e54-82ea-cb336f904759"
      },
      "outputs": [
        {
          "output_type": "execute_result",
          "data": {
            "text/plain": [
              "id                      0\n",
              "vendor_id               0\n",
              "pickup_datetime         0\n",
              "passenger_count         0\n",
              "trip_distance           0\n",
              "pickup_longitude        0\n",
              "pickup_latitude         0\n",
              "dropoff_longitude       0\n",
              "dropoff_latitude        0\n",
              "payment_type            0\n",
              "trip_duration           0\n",
              "pickup_neighborhood     0\n",
              "dropoff_neighborhood    0\n",
              "dtype: int64"
            ]
          },
          "metadata": {},
          "execution_count": 23
        }
      ],
      "source": [
        "trips[trips['trip_distance']==0].count()"
      ]
    },
    {
      "cell_type": "markdown",
      "metadata": {
        "id": "0Vbr02mbe7mH"
      },
      "source": [
        "#### **Checking for the rows for which trip_duration is 0**"
      ]
    },
    {
      "cell_type": "code",
      "execution_count": null,
      "metadata": {
        "id": "CQv0gWjJe7mH",
        "colab": {
          "base_uri": "https://localhost:8080/",
          "height": 357
        },
        "outputId": "c1830bdf-84ad-44ed-ca84-5dc56263fdf2"
      },
      "outputs": [
        {
          "output_type": "execute_result",
          "data": {
            "text/plain": [
              "            id vendor_id     pickup_datetime  passenger_count  trip_distance  \\\n",
              "44446    46325         1 2016-01-10 00:48:55                1           1.20   \n",
              "121544  126869         2 2016-01-26 00:07:47                6           4.35   \n",
              "142202  148598         1 2016-01-30 00:00:29                1           1.64   \n",
              "172653  180414         1 2016-02-04 19:23:45                1           0.40   \n",
              "173013  180795         1 2016-02-04 20:23:10                1           0.80   \n",
              "\n",
              "        pickup_longitude  pickup_latitude  dropoff_longitude  \\\n",
              "44446         -73.968842        40.766972         -73.968842   \n",
              "121544        -73.986694        40.739815         -73.956139   \n",
              "142202        -73.989578        40.743877         -73.989578   \n",
              "172653        -73.990868        40.751106         -73.990868   \n",
              "173013        -73.977661        40.752968         -73.977661   \n",
              "\n",
              "        dropoff_latitude payment_type  trip_duration pickup_neighborhood  \\\n",
              "44446          40.766972            3            0.0                  AK   \n",
              "121544         40.732872            1            0.0                   R   \n",
              "142202         40.743877            2            0.0                  AO   \n",
              "172653         40.751106            2            0.0                   D   \n",
              "173013         40.752968            2            0.0                  AD   \n",
              "\n",
              "       dropoff_neighborhood  \n",
              "44446                    AK  \n",
              "121544                    Z  \n",
              "142202                   AO  \n",
              "172653                    D  \n",
              "173013                   AD  "
            ],
            "text/html": [
              "\n",
              "  <div id=\"df-2eada1d6-6189-44f2-9894-5b5af11a2e81\">\n",
              "    <div class=\"colab-df-container\">\n",
              "      <div>\n",
              "<style scoped>\n",
              "    .dataframe tbody tr th:only-of-type {\n",
              "        vertical-align: middle;\n",
              "    }\n",
              "\n",
              "    .dataframe tbody tr th {\n",
              "        vertical-align: top;\n",
              "    }\n",
              "\n",
              "    .dataframe thead th {\n",
              "        text-align: right;\n",
              "    }\n",
              "</style>\n",
              "<table border=\"1\" class=\"dataframe\">\n",
              "  <thead>\n",
              "    <tr style=\"text-align: right;\">\n",
              "      <th></th>\n",
              "      <th>id</th>\n",
              "      <th>vendor_id</th>\n",
              "      <th>pickup_datetime</th>\n",
              "      <th>passenger_count</th>\n",
              "      <th>trip_distance</th>\n",
              "      <th>pickup_longitude</th>\n",
              "      <th>pickup_latitude</th>\n",
              "      <th>dropoff_longitude</th>\n",
              "      <th>dropoff_latitude</th>\n",
              "      <th>payment_type</th>\n",
              "      <th>trip_duration</th>\n",
              "      <th>pickup_neighborhood</th>\n",
              "      <th>dropoff_neighborhood</th>\n",
              "    </tr>\n",
              "  </thead>\n",
              "  <tbody>\n",
              "    <tr>\n",
              "      <th>44446</th>\n",
              "      <td>46325</td>\n",
              "      <td>1</td>\n",
              "      <td>2016-01-10 00:48:55</td>\n",
              "      <td>1</td>\n",
              "      <td>1.20</td>\n",
              "      <td>-73.968842</td>\n",
              "      <td>40.766972</td>\n",
              "      <td>-73.968842</td>\n",
              "      <td>40.766972</td>\n",
              "      <td>3</td>\n",
              "      <td>0.0</td>\n",
              "      <td>AK</td>\n",
              "      <td>AK</td>\n",
              "    </tr>\n",
              "    <tr>\n",
              "      <th>121544</th>\n",
              "      <td>126869</td>\n",
              "      <td>2</td>\n",
              "      <td>2016-01-26 00:07:47</td>\n",
              "      <td>6</td>\n",
              "      <td>4.35</td>\n",
              "      <td>-73.986694</td>\n",
              "      <td>40.739815</td>\n",
              "      <td>-73.956139</td>\n",
              "      <td>40.732872</td>\n",
              "      <td>1</td>\n",
              "      <td>0.0</td>\n",
              "      <td>R</td>\n",
              "      <td>Z</td>\n",
              "    </tr>\n",
              "    <tr>\n",
              "      <th>142202</th>\n",
              "      <td>148598</td>\n",
              "      <td>1</td>\n",
              "      <td>2016-01-30 00:00:29</td>\n",
              "      <td>1</td>\n",
              "      <td>1.64</td>\n",
              "      <td>-73.989578</td>\n",
              "      <td>40.743877</td>\n",
              "      <td>-73.989578</td>\n",
              "      <td>40.743877</td>\n",
              "      <td>2</td>\n",
              "      <td>0.0</td>\n",
              "      <td>AO</td>\n",
              "      <td>AO</td>\n",
              "    </tr>\n",
              "    <tr>\n",
              "      <th>172653</th>\n",
              "      <td>180414</td>\n",
              "      <td>1</td>\n",
              "      <td>2016-02-04 19:23:45</td>\n",
              "      <td>1</td>\n",
              "      <td>0.40</td>\n",
              "      <td>-73.990868</td>\n",
              "      <td>40.751106</td>\n",
              "      <td>-73.990868</td>\n",
              "      <td>40.751106</td>\n",
              "      <td>2</td>\n",
              "      <td>0.0</td>\n",
              "      <td>D</td>\n",
              "      <td>D</td>\n",
              "    </tr>\n",
              "    <tr>\n",
              "      <th>173013</th>\n",
              "      <td>180795</td>\n",
              "      <td>1</td>\n",
              "      <td>2016-02-04 20:23:10</td>\n",
              "      <td>1</td>\n",
              "      <td>0.80</td>\n",
              "      <td>-73.977661</td>\n",
              "      <td>40.752968</td>\n",
              "      <td>-73.977661</td>\n",
              "      <td>40.752968</td>\n",
              "      <td>2</td>\n",
              "      <td>0.0</td>\n",
              "      <td>AD</td>\n",
              "      <td>AD</td>\n",
              "    </tr>\n",
              "  </tbody>\n",
              "</table>\n",
              "</div>\n",
              "      <button class=\"colab-df-convert\" onclick=\"convertToInteractive('df-2eada1d6-6189-44f2-9894-5b5af11a2e81')\"\n",
              "              title=\"Convert this dataframe to an interactive table.\"\n",
              "              style=\"display:none;\">\n",
              "        \n",
              "  <svg xmlns=\"http://www.w3.org/2000/svg\" height=\"24px\"viewBox=\"0 0 24 24\"\n",
              "       width=\"24px\">\n",
              "    <path d=\"M0 0h24v24H0V0z\" fill=\"none\"/>\n",
              "    <path d=\"M18.56 5.44l.94 2.06.94-2.06 2.06-.94-2.06-.94-.94-2.06-.94 2.06-2.06.94zm-11 1L8.5 8.5l.94-2.06 2.06-.94-2.06-.94L8.5 2.5l-.94 2.06-2.06.94zm10 10l.94 2.06.94-2.06 2.06-.94-2.06-.94-.94-2.06-.94 2.06-2.06.94z\"/><path d=\"M17.41 7.96l-1.37-1.37c-.4-.4-.92-.59-1.43-.59-.52 0-1.04.2-1.43.59L10.3 9.45l-7.72 7.72c-.78.78-.78 2.05 0 2.83L4 21.41c.39.39.9.59 1.41.59.51 0 1.02-.2 1.41-.59l7.78-7.78 2.81-2.81c.8-.78.8-2.07 0-2.86zM5.41 20L4 18.59l7.72-7.72 1.47 1.35L5.41 20z\"/>\n",
              "  </svg>\n",
              "      </button>\n",
              "      \n",
              "  <style>\n",
              "    .colab-df-container {\n",
              "      display:flex;\n",
              "      flex-wrap:wrap;\n",
              "      gap: 12px;\n",
              "    }\n",
              "\n",
              "    .colab-df-convert {\n",
              "      background-color: #E8F0FE;\n",
              "      border: none;\n",
              "      border-radius: 50%;\n",
              "      cursor: pointer;\n",
              "      display: none;\n",
              "      fill: #1967D2;\n",
              "      height: 32px;\n",
              "      padding: 0 0 0 0;\n",
              "      width: 32px;\n",
              "    }\n",
              "\n",
              "    .colab-df-convert:hover {\n",
              "      background-color: #E2EBFA;\n",
              "      box-shadow: 0px 1px 2px rgba(60, 64, 67, 0.3), 0px 1px 3px 1px rgba(60, 64, 67, 0.15);\n",
              "      fill: #174EA6;\n",
              "    }\n",
              "\n",
              "    [theme=dark] .colab-df-convert {\n",
              "      background-color: #3B4455;\n",
              "      fill: #D2E3FC;\n",
              "    }\n",
              "\n",
              "    [theme=dark] .colab-df-convert:hover {\n",
              "      background-color: #434B5C;\n",
              "      box-shadow: 0px 1px 3px 1px rgba(0, 0, 0, 0.15);\n",
              "      filter: drop-shadow(0px 1px 2px rgba(0, 0, 0, 0.3));\n",
              "      fill: #FFFFFF;\n",
              "    }\n",
              "  </style>\n",
              "\n",
              "      <script>\n",
              "        const buttonEl =\n",
              "          document.querySelector('#df-2eada1d6-6189-44f2-9894-5b5af11a2e81 button.colab-df-convert');\n",
              "        buttonEl.style.display =\n",
              "          google.colab.kernel.accessAllowed ? 'block' : 'none';\n",
              "\n",
              "        async function convertToInteractive(key) {\n",
              "          const element = document.querySelector('#df-2eada1d6-6189-44f2-9894-5b5af11a2e81');\n",
              "          const dataTable =\n",
              "            await google.colab.kernel.invokeFunction('convertToInteractive',\n",
              "                                                     [key], {});\n",
              "          if (!dataTable) return;\n",
              "\n",
              "          const docLinkHtml = 'Like what you see? Visit the ' +\n",
              "            '<a target=\"_blank\" href=https://colab.research.google.com/notebooks/data_table.ipynb>data table notebook</a>'\n",
              "            + ' to learn more about interactive tables.';\n",
              "          element.innerHTML = '';\n",
              "          dataTable['output_type'] = 'display_data';\n",
              "          await google.colab.output.renderOutput(dataTable, element);\n",
              "          const docLink = document.createElement('div');\n",
              "          docLink.innerHTML = docLinkHtml;\n",
              "          element.appendChild(docLink);\n",
              "        }\n",
              "      </script>\n",
              "    </div>\n",
              "  </div>\n",
              "  "
            ]
          },
          "metadata": {},
          "execution_count": 24
        }
      ],
      "source": [
        "trips[trips['trip_duration']==0].head()"
      ]
    },
    {
      "cell_type": "markdown",
      "metadata": {
        "id": "ndaP5-Wse7mI"
      },
      "source": [
        "- We can observe that, where trip distance is 0 trip duration is not 0, hence we can replace those values. "
      ]
    },
    {
      "cell_type": "code",
      "execution_count": null,
      "metadata": {
        "id": "rSxLDMGye7mI"
      },
      "outputs": [],
      "source": [
        "trips['trip_duration']=trips['trip_duration'].replace(0,trips['trip_duration'].median())"
      ]
    },
    {
      "cell_type": "code",
      "execution_count": null,
      "metadata": {
        "id": "pht9jQIGe7mI",
        "colab": {
          "base_uri": "https://localhost:8080/"
        },
        "outputId": "2c7d6e49-a8e5-4403-fc50-32d7cf37802d"
      },
      "outputs": [
        {
          "output_type": "execute_result",
          "data": {
            "text/plain": [
              "id                      0\n",
              "vendor_id               0\n",
              "pickup_datetime         0\n",
              "passenger_count         0\n",
              "trip_distance           0\n",
              "pickup_longitude        0\n",
              "pickup_latitude         0\n",
              "dropoff_longitude       0\n",
              "dropoff_latitude        0\n",
              "payment_type            0\n",
              "trip_duration           0\n",
              "pickup_neighborhood     0\n",
              "dropoff_neighborhood    0\n",
              "dtype: int64"
            ]
          },
          "metadata": {},
          "execution_count": 26
        }
      ],
      "source": [
        "trips[trips['trip_duration']==0].count()"
      ]
    },
    {
      "cell_type": "markdown",
      "metadata": {
        "id": "TvLvWLJje7mI"
      },
      "source": [
        "## **Question 2: Univariate Analysis**"
      ]
    },
    {
      "cell_type": "markdown",
      "metadata": {
        "id": "OgxuqCT5e7mI"
      },
      "source": [
        "### **Question 2.1: Build histogram for numerical columns (1 Marks)**"
      ]
    },
    {
      "cell_type": "code",
      "execution_count": null,
      "metadata": {
        "id": "av5PV9dPe7mI",
        "colab": {
          "base_uri": "https://localhost:8080/",
          "height": 499
        },
        "outputId": "de49eb03-768a-4828-ff5f-a4e5b877feea"
      },
      "outputs": [
        {
          "output_type": "display_data",
          "data": {
            "text/plain": [
              "<Figure size 864x576 with 9 Axes>"
            ],
            "image/png": "[encoded data removed]"
          },
          "metadata": {
            "needs_background": "light"
          }
        }
      ],
      "source": [
        "# Remove _________ and complete the code\n",
        "trips.hist(figsize=(12,8))\n",
        "plt.show()"
      ]
    },
    {
      "cell_type": "markdown",
      "metadata": {
        "id": "No7kFNUPe7mI"
      },
      "source": [
        "**Write your answers here:_____**"
      ]
    },
    {
      "cell_type": "code",
      "execution_count": null,
      "metadata": {
        "id": "ZEmbM8M9e7mI",
        "colab": {
          "base_uri": "https://localhost:8080/",
          "height": 280
        },
        "outputId": "60569bb4-acc2-4c73-e934-325a85e028f2"
      },
      "outputs": [
        {
          "output_type": "display_data",
          "data": {
            "text/plain": [
              "<Figure size 432x288 with 1 Axes>"
            ],
            "image/png": "[encoded data removed]"
          },
          "metadata": {
            "needs_background": "light"
          }
        }
      ],
      "source": [
        "sns.boxplot(trips['trip_distance'])\n",
        "plt.show()"
      ]
    },
    {
      "cell_type": "markdown",
      "metadata": {
        "id": "16klmj-Le7mJ"
      },
      "source": [
        "- We can see there is an extreme outlier in the dataset, we drop investigate it further"
      ]
    },
    {
      "cell_type": "code",
      "execution_count": null,
      "metadata": {
        "id": "jiNRKU3Le7mJ",
        "colab": {
          "base_uri": "https://localhost:8080/",
          "height": 357
        },
        "outputId": "633eaafd-b655-44a3-d3e3-1fae13410f81"
      },
      "outputs": [
        {
          "output_type": "execute_result",
          "data": {
            "text/plain": [
              "            id vendor_id     pickup_datetime  passenger_count  trip_distance  \\\n",
              "171143  178815         1 2016-02-04 14:05:10                1          156.2   \n",
              "248346  259490         1 2016-02-18 09:48:06                1          501.4   \n",
              "525084  548884         1 2016-04-07 21:19:03                3          172.3   \n",
              "530340  554389         1 2016-04-08 19:19:32                2          502.8   \n",
              "828650  867217         1 2016-06-02 21:30:17                2          101.0   \n",
              "\n",
              "        pickup_longitude  pickup_latitude  dropoff_longitude  \\\n",
              "171143        -73.979149        40.765499         -73.782806   \n",
              "248346        -73.980087        40.782185         -73.981468   \n",
              "525084        -73.783340        40.644176         -73.936028   \n",
              "530340        -73.995461        40.724884         -73.986099   \n",
              "828650        -73.961586        40.800968         -73.950165   \n",
              "\n",
              "        dropoff_latitude payment_type  trip_duration pickup_neighborhood  \\\n",
              "171143         40.644009            1         3087.0                  AR   \n",
              "248346         40.778519            2          141.0                   I   \n",
              "525084         40.737762            2         2654.0                   G   \n",
              "530340         40.762108            1         1321.0                   X   \n",
              "828650         40.802193            2          390.0                  AH   \n",
              "\n",
              "       dropoff_neighborhood  \n",
              "171143                    G  \n",
              "248346                   AV  \n",
              "525084                   AN  \n",
              "530340                   AA  \n",
              "828650                    J  "
            ],
            "text/html": [
              "\n",
              "  <div id=\"df-b2f13dc5-7077-4aef-a8b9-f96165289fec\">\n",
              "    <div class=\"colab-df-container\">\n",
              "      <div>\n",
              "<style scoped>\n",
              "    .dataframe tbody tr th:only-of-type {\n",
              "        vertical-align: middle;\n",
              "    }\n",
              "\n",
              "    .dataframe tbody tr th {\n",
              "        vertical-align: top;\n",
              "    }\n",
              "\n",
              "    .dataframe thead th {\n",
              "        text-align: right;\n",
              "    }\n",
              "</style>\n",
              "<table border=\"1\" class=\"dataframe\">\n",
              "  <thead>\n",
              "    <tr style=\"text-align: right;\">\n",
              "      <th></th>\n",
              "      <th>id</th>\n",
              "      <th>vendor_id</th>\n",
              "      <th>pickup_datetime</th>\n",
              "      <th>passenger_count</th>\n",
              "      <th>trip_distance</th>\n",
              "      <th>pickup_longitude</th>\n",
              "      <th>pickup_latitude</th>\n",
              "      <th>dropoff_longitude</th>\n",
              "      <th>dropoff_latitude</th>\n",
              "      <th>payment_type</th>\n",
              "      <th>trip_duration</th>\n",
              "      <th>pickup_neighborhood</th>\n",
              "      <th>dropoff_neighborhood</th>\n",
              "    </tr>\n",
              "  </thead>\n",
              "  <tbody>\n",
              "    <tr>\n",
              "      <th>171143</th>\n",
              "      <td>178815</td>\n",
              "      <td>1</td>\n",
              "      <td>2016-02-04 14:05:10</td>\n",
              "      <td>1</td>\n",
              "      <td>156.2</td>\n",
              "      <td>-73.979149</td>\n",
              "      <td>40.765499</td>\n",
              "      <td>-73.782806</td>\n",
              "      <td>40.644009</td>\n",
              "      <td>1</td>\n",
              "      <td>3087.0</td>\n",
              "      <td>AR</td>\n",
              "      <td>G</td>\n",
              "    </tr>\n",
              "    <tr>\n",
              "      <th>248346</th>\n",
              "      <td>259490</td>\n",
              "      <td>1</td>\n",
              "      <td>2016-02-18 09:48:06</td>\n",
              "      <td>1</td>\n",
              "      <td>501.4</td>\n",
              "      <td>-73.980087</td>\n",
              "      <td>40.782185</td>\n",
              "      <td>-73.981468</td>\n",
              "      <td>40.778519</td>\n",
              "      <td>2</td>\n",
              "      <td>141.0</td>\n",
              "      <td>I</td>\n",
              "      <td>AV</td>\n",
              "    </tr>\n",
              "    <tr>\n",
              "      <th>525084</th>\n",
              "      <td>548884</td>\n",
              "      <td>1</td>\n",
              "      <td>2016-04-07 21:19:03</td>\n",
              "      <td>3</td>\n",
              "      <td>172.3</td>\n",
              "      <td>-73.783340</td>\n",
              "      <td>40.644176</td>\n",
              "      <td>-73.936028</td>\n",
              "      <td>40.737762</td>\n",
              "      <td>2</td>\n",
              "      <td>2654.0</td>\n",
              "      <td>G</td>\n",
              "      <td>AN</td>\n",
              "    </tr>\n",
              "    <tr>\n",
              "      <th>530340</th>\n",
              "      <td>554389</td>\n",
              "      <td>1</td>\n",
              "      <td>2016-04-08 19:19:32</td>\n",
              "      <td>2</td>\n",
              "      <td>502.8</td>\n",
              "      <td>-73.995461</td>\n",
              "      <td>40.724884</td>\n",
              "      <td>-73.986099</td>\n",
              "      <td>40.762108</td>\n",
              "      <td>1</td>\n",
              "      <td>1321.0</td>\n",
              "      <td>X</td>\n",
              "      <td>AA</td>\n",
              "    </tr>\n",
              "    <tr>\n",
              "      <th>828650</th>\n",
              "      <td>867217</td>\n",
              "      <td>1</td>\n",
              "      <td>2016-06-02 21:30:17</td>\n",
              "      <td>2</td>\n",
              "      <td>101.0</td>\n",
              "      <td>-73.961586</td>\n",
              "      <td>40.800968</td>\n",
              "      <td>-73.950165</td>\n",
              "      <td>40.802193</td>\n",
              "      <td>2</td>\n",
              "      <td>390.0</td>\n",
              "      <td>AH</td>\n",
              "      <td>J</td>\n",
              "    </tr>\n",
              "  </tbody>\n",
              "</table>\n",
              "</div>\n",
              "      <button class=\"colab-df-convert\" onclick=\"convertToInteractive('df-b2f13dc5-7077-4aef-a8b9-f96165289fec')\"\n",
              "              title=\"Convert this dataframe to an interactive table.\"\n",
              "              style=\"display:none;\">\n",
              "        \n",
              "  <svg xmlns=\"http://www.w3.org/2000/svg\" height=\"24px\"viewBox=\"0 0 24 24\"\n",
              "       width=\"24px\">\n",
              "    <path d=\"M0 0h24v24H0V0z\" fill=\"none\"/>\n",
              "    <path d=\"M18.56 5.44l.94 2.06.94-2.06 2.06-.94-2.06-.94-.94-2.06-.94 2.06-2.06.94zm-11 1L8.5 8.5l.94-2.06 2.06-.94-2.06-.94L8.5 2.5l-.94 2.06-2.06.94zm10 10l.94 2.06.94-2.06 2.06-.94-2.06-.94-.94-2.06-.94 2.06-2.06.94z\"/><path d=\"M17.41 7.96l-1.37-1.37c-.4-.4-.92-.59-1.43-.59-.52 0-1.04.2-1.43.59L10.3 9.45l-7.72 7.72c-.78.78-.78 2.05 0 2.83L4 21.41c.39.39.9.59 1.41.59.51 0 1.02-.2 1.41-.59l7.78-7.78 2.81-2.81c.8-.78.8-2.07 0-2.86zM5.41 20L4 18.59l7.72-7.72 1.47 1.35L5.41 20z\"/>\n",
              "  </svg>\n",
              "      </button>\n",
              "      \n",
              "  <style>\n",
              "    .colab-df-container {\n",
              "      display:flex;\n",
              "      flex-wrap:wrap;\n",
              "      gap: 12px;\n",
              "    }\n",
              "\n",
              "    .colab-df-convert {\n",
              "      background-color: #E8F0FE;\n",
              "      border: none;\n",
              "      border-radius: 50%;\n",
              "      cursor: pointer;\n",
              "      display: none;\n",
              "      fill: #1967D2;\n",
              "      height: 32px;\n",
              "      padding: 0 0 0 0;\n",
              "      width: 32px;\n",
              "    }\n",
              "\n",
              "    .colab-df-convert:hover {\n",
              "      background-color: #E2EBFA;\n",
              "      box-shadow: 0px 1px 2px rgba(60, 64, 67, 0.3), 0px 1px 3px 1px rgba(60, 64, 67, 0.15);\n",
              "      fill: #174EA6;\n",
              "    }\n",
              "\n",
              "    [theme=dark] .colab-df-convert {\n",
              "      background-color: #3B4455;\n",
              "      fill: #D2E3FC;\n",
              "    }\n",
              "\n",
              "    [theme=dark] .colab-df-convert:hover {\n",
              "      background-color: #434B5C;\n",
              "      box-shadow: 0px 1px 3px 1px rgba(0, 0, 0, 0.15);\n",
              "      filter: drop-shadow(0px 1px 2px rgba(0, 0, 0, 0.3));\n",
              "      fill: #FFFFFF;\n",
              "    }\n",
              "  </style>\n",
              "\n",
              "      <script>\n",
              "        const buttonEl =\n",
              "          document.querySelector('#df-b2f13dc5-7077-4aef-a8b9-f96165289fec button.colab-df-convert');\n",
              "        buttonEl.style.display =\n",
              "          google.colab.kernel.accessAllowed ? 'block' : 'none';\n",
              "\n",
              "        async function convertToInteractive(key) {\n",
              "          const element = document.querySelector('#df-b2f13dc5-7077-4aef-a8b9-f96165289fec');\n",
              "          const dataTable =\n",
              "            await google.colab.kernel.invokeFunction('convertToInteractive',\n",
              "                                                     [key], {});\n",
              "          if (!dataTable) return;\n",
              "\n",
              "          const docLinkHtml = 'Like what you see? Visit the ' +\n",
              "            '<a target=\"_blank\" href=https://colab.research.google.com/notebooks/data_table.ipynb>data table notebook</a>'\n",
              "            + ' to learn more about interactive tables.';\n",
              "          element.innerHTML = '';\n",
              "          dataTable['output_type'] = 'display_data';\n",
              "          await google.colab.output.renderOutput(dataTable, element);\n",
              "          const docLink = document.createElement('div');\n",
              "          docLink.innerHTML = docLinkHtml;\n",
              "          element.appendChild(docLink);\n",
              "        }\n",
              "      </script>\n",
              "    </div>\n",
              "  </div>\n",
              "  "
            ]
          },
          "metadata": {},
          "execution_count": 29
        }
      ],
      "source": [
        "trips[trips['trip_distance']>100]"
      ]
    },
    {
      "cell_type": "markdown",
      "metadata": {
        "id": "xtOo05N2e7mJ"
      },
      "source": [
        "- We can observe that, there are 2 observation>500, and there is a huge gap in the trip duration for them.\n",
        "- Covering 501.4 distance in 141 sec, is not possible, it is better we can clip these values to 50. "
      ]
    },
    {
      "cell_type": "markdown",
      "metadata": {
        "id": "-c2kP0I_e7mJ"
      },
      "source": [
        "**Clipping the outliers of trip distance to 50**"
      ]
    },
    {
      "cell_type": "code",
      "execution_count": null,
      "metadata": {
        "id": "FcKaORJ_e7mJ"
      },
      "outputs": [],
      "source": [
        "trips['trip_distance']=trips['trip_distance'].clip(trips['trip_distance'].min(),50)"
      ]
    },
    {
      "cell_type": "code",
      "execution_count": null,
      "metadata": {
        "id": "gjPrOVT2e7mJ",
        "colab": {
          "base_uri": "https://localhost:8080/",
          "height": 280
        },
        "outputId": "6a24c10c-4f53-4af7-a72a-0bc9d348eb84"
      },
      "outputs": [
        {
          "output_type": "display_data",
          "data": {
            "text/plain": [
              "<Figure size 432x288 with 1 Axes>"
            ],
            "image/png": "[encoded data removed]"
          },
          "metadata": {
            "needs_background": "light"
          }
        }
      ],
      "source": [
        "sns.boxplot(trips['trip_distance'])\n",
        "plt.show()"
      ]
    },
    {
      "cell_type": "markdown",
      "metadata": {
        "id": "DJcbsXJWe7mJ"
      },
      "source": [
        "### **Question 2.2 Plotting countplot for Passenger_count (1 Marks)**"
      ]
    },
    {
      "cell_type": "code",
      "execution_count": null,
      "metadata": {
        "id": "J_QluVHbe7mJ",
        "colab": {
          "base_uri": "https://localhost:8080/",
          "height": 334
        },
        "outputId": "8bda5a23-8063-4d96-e61e-0d6089096125"
      },
      "outputs": [
        {
          "output_type": "display_data",
          "data": {
            "text/plain": [
              "<Figure size 1440x360 with 1 Axes>"
            ],
            "image/png": "[encoded data removed]"
          },
          "metadata": {
            "needs_background": "light"
          }
        }
      ],
      "source": [
        "# Remove _________ and complete the code\n",
        "\n",
        "plt.figure(figsize=(20,5))\n",
        "sns.countplot(trips.passenger_count)\n",
        "plt.show()"
      ]
    },
    {
      "cell_type": "code",
      "execution_count": null,
      "metadata": {
        "id": "LkFsn3-ie7mJ",
        "colab": {
          "base_uri": "https://localhost:8080/"
        },
        "outputId": "ee19026b-e0fd-469a-d1ef-f47ca9a4430d"
      },
      "outputs": [
        {
          "output_type": "execute_result",
          "data": {
            "text/plain": [
              "1    0.709334\n",
              "2    0.143419\n",
              "5    0.053409\n",
              "3    0.041140\n",
              "6    0.033334\n",
              "4    0.019338\n",
              "0    0.000025\n",
              "9    0.000002\n",
              "Name: passenger_count, dtype: float64"
            ]
          },
          "metadata": {},
          "execution_count": 33
        }
      ],
      "source": [
        "trips.passenger_count.value_counts(normalize=True)"
      ]
    },
    {
      "cell_type": "markdown",
      "metadata": {
        "id": "O0c2L1oTe7mK"
      },
      "source": [
        "**Write your answers here:_____**\n"
      ]
    },
    {
      "cell_type": "markdown",
      "metadata": {
        "id": "CZg1R18_e7mK"
      },
      "source": [
        "### **Question 2.3 Plotting countplot for pickup_neighborhood and dropoff_neighborhood (2 Marks)**"
      ]
    },
    {
      "cell_type": "code",
      "execution_count": null,
      "metadata": {
        "id": "_diXT4cce7mK",
        "colab": {
          "base_uri": "https://localhost:8080/",
          "height": 335
        },
        "outputId": "9d0eecce-405d-46ff-fe1e-dde36f814d78"
      },
      "outputs": [
        {
          "output_type": "display_data",
          "data": {
            "text/plain": [
              "<Figure size 1440x360 with 1 Axes>"
            ],
            "image/png": "[encoded data removed]"
          },
          "metadata": {
            "needs_background": "light"
          }
        }
      ],
      "source": [
        "# Remove _________ and complete the code\n",
        "plt.figure(figsize=(20,5))\n",
        "sns.countplot(trips.pickup_neighborhood)\n",
        "plt.show()"
      ]
    },
    {
      "cell_type": "code",
      "execution_count": null,
      "metadata": {
        "id": "CFkUte2Ke7mK",
        "colab": {
          "base_uri": "https://localhost:8080/",
          "height": 335
        },
        "outputId": "d980c829-8446-4fda-de67-d7c534e5c771"
      },
      "outputs": [
        {
          "output_type": "display_data",
          "data": {
            "text/plain": [
              "<Figure size 1440x360 with 1 Axes>"
            ],
            "image/png": "[encoded data removed]"
          },
          "metadata": {
            "needs_background": "light"
          }
        }
      ],
      "source": [
        "# Remove _________ and complete the code\n",
        "\n",
        "plt.figure(figsize=(20,5))\n",
        "sns.countplot(trips.dropoff_neighborhood)\n",
        "plt.show()"
      ]
    },
    {
      "cell_type": "markdown",
      "metadata": {
        "id": "LWqCi1zde7mK"
      },
      "source": [
        "**Write your answers here:_____**"
      ]
    },
    {
      "cell_type": "markdown",
      "metadata": {
        "id": "5o6bTF77e7mK"
      },
      "source": [
        "## **Bivariate analysis**"
      ]
    },
    {
      "cell_type": "markdown",
      "metadata": {
        "id": "XjMs4fvHe7mK"
      },
      "source": [
        "#### **Plot a scatter plot for trip distance and trip duration**"
      ]
    },
    {
      "cell_type": "code",
      "execution_count": null,
      "metadata": {
        "id": "mW-g9Cpue7mL",
        "colab": {
          "base_uri": "https://localhost:8080/",
          "height": 297
        },
        "outputId": "1f1a49e7-b033-4e21-d5a0-565d3f2d78b5"
      },
      "outputs": [
        {
          "output_type": "execute_result",
          "data": {
            "text/plain": [
              "<matplotlib.axes._subplots.AxesSubplot at 0x7f529a08d950>"
            ]
          },
          "metadata": {},
          "execution_count": 36
        },
        {
          "output_type": "display_data",
          "data": {
            "text/plain": [
              "<Figure size 432x288 with 1 Axes>"
            ],
            "image/png": "[encoded data removed]"
          },
          "metadata": {
            "needs_background": "light"
          }
        }
      ],
      "source": [
        "sns.scatterplot(trips['trip_distance'],trips['trip_duration'])"
      ]
    },
    {
      "cell_type": "markdown",
      "metadata": {
        "id": "kmwh7qvOe7mL"
      },
      "source": [
        "- There is some positive correlation between trip_distance and trip_duration."
      ]
    },
    {
      "cell_type": "code",
      "execution_count": null,
      "metadata": {
        "id": "66BE440Re7mL",
        "colab": {
          "base_uri": "https://localhost:8080/",
          "height": 297
        },
        "outputId": "f1c27ddf-e867-47ca-9f7b-2a693e8dad58"
      },
      "outputs": [
        {
          "output_type": "execute_result",
          "data": {
            "text/plain": [
              "<matplotlib.axes._subplots.AxesSubplot at 0x7f529a992fd0>"
            ]
          },
          "metadata": {},
          "execution_count": 37
        },
        {
          "output_type": "display_data",
          "data": {
            "text/plain": [
              "<Figure size 432x288 with 1 Axes>"
            ],
            "image/png": "[encoded data removed]"
          },
          "metadata": {
            "needs_background": "light"
          }
        }
      ],
      "source": [
        "sns.countplot(trips['passenger_count'],hue=trips['payment_type'])"
      ]
    },
    {
      "cell_type": "markdown",
      "metadata": {
        "id": "Rmka0-Eve7mL"
      },
      "source": [
        "- There is no such specific pattern can be observed."
      ]
    },
    {
      "cell_type": "markdown",
      "metadata": {
        "id": "XQyUHFiue7mL"
      },
      "source": [
        "## **Step 2: Prepare the Data**\n",
        "\n",
        "Lets create entities and relationships. The three entities in this data are \n",
        "* trips \n",
        "* pickup_neighborhoods\n",
        "* dropoff_neighborhoods\n",
        "\n",
        "This data has the following relationships\n",
        "* pickup_neighborhoods --> trips (one neighborhood can have multiple trips that start in it. This means pickup_neighborhoods is the ``parent_entity`` and trips is the child entity)\n",
        "* dropoff_neighborhoods --> trips (one neighborhood can have multiple trips that end in it. This means dropoff_neighborhoods is the ``parent_entity`` and trips is the child entity)\n",
        "\n",
        "In [featuretools](https://featuretools.alteryx.com/en/v0.27.0/getting_started/getting_started_index.html) (automated feature engineering software package), we specify the list of entities and relationships as follows: \n"
      ]
    },
    {
      "cell_type": "markdown",
      "metadata": {
        "id": "kmxBM_bCe7mL"
      },
      "source": [
        "### **Question 3: Define entities and relationships for the Deep Feature Synthesis (2 Marks)**"
      ]
    },
    {
      "cell_type": "code",
      "execution_count": null,
      "metadata": {
        "ExecuteTime": {
          "end_time": "2021-07-15T12:41:08.351728Z",
          "start_time": "2021-07-15T12:41:08.253155Z"
        },
        "id": "anXSkHCNe7mL"
      },
      "outputs": [],
      "source": [
        "# Remove _________ and complete the codeV\n",
        "\n",
        "entities = { \"trips\": (trips, \"id\", 'pickup_datetime'),\n",
        "    \"pickup_neighborhoods\": (pickup_neighborhoods, \"neighborhood_id\"),\n",
        "    \"dropoff_neighborhoods\": (dropoff_neighborhoods, \"neighborhood_id\") }\n",
        "\n",
        "# Remove _________ and complete the code\n",
        "relationships = [(\"pickup_neighborhoods\", \"neighborhood_id\", \"trips\", \"pickup_neighborhood\"),\n",
        "                 (\"dropoff_neighborhoods\", \"neighborhood_id\", \"trips\", \"dropoff_neighborhood\")]"
      ]
    },
    {
      "cell_type": "markdown",
      "metadata": {
        "id": "jCMSiKPpe7mL"
      },
      "source": [
        "Next, we specify the cutoff time for each instance of the target_entity, in this case ``trips``.This timestamp represents the last time data can be used for calculating features by DFS. In this scenario, that would be the pickup time because we would like to make the duration prediction using data before the trip starts. \n",
        "\n",
        "For the purposes of the case study, we choose to only select trips that started after **January 12th, 2016**. "
      ]
    },
    {
      "cell_type": "code",
      "execution_count": null,
      "metadata": {
        "ExecuteTime": {
          "end_time": "2021-07-15T12:41:53.295477Z",
          "start_time": "2021-07-15T12:41:53.056658Z"
        },
        "id": "5jNGZ0eTe7mM",
        "colab": {
          "base_uri": "https://localhost:8080/",
          "height": 363
        },
        "outputId": "303370eb-e7ca-41f7-9f76-912da63d3686"
      },
      "outputs": [
        {
          "output_type": "execute_result",
          "data": {
            "text/plain": [
              "            id     pickup_datetime\n",
              "54031    56311 2016-01-12 00:00:25\n",
              "667608  698423 2016-05-03 17:59:59\n",
              "667609  698424 2016-05-03 18:00:52\n",
              "667610  698425 2016-05-03 18:01:06\n",
              "667611  698426 2016-05-03 18:01:11\n",
              "667612  698427 2016-05-03 18:01:12\n",
              "667613  698428 2016-05-03 18:01:12\n",
              "667614  698429 2016-05-03 18:01:24\n",
              "667615  698430 2016-05-03 18:01:36\n",
              "667616  698431 2016-05-03 18:01:39"
            ],
            "text/html": [
              "\n",
              "  <div id=\"df-4e5b45a3-542c-48be-acab-95e97fd5cb20\">\n",
              "    <div class=\"colab-df-container\">\n",
              "      <div>\n",
              "<style scoped>\n",
              "    .dataframe tbody tr th:only-of-type {\n",
              "        vertical-align: middle;\n",
              "    }\n",
              "\n",
              "    .dataframe tbody tr th {\n",
              "        vertical-align: top;\n",
              "    }\n",
              "\n",
              "    .dataframe thead th {\n",
              "        text-align: right;\n",
              "    }\n",
              "</style>\n",
              "<table border=\"1\" class=\"dataframe\">\n",
              "  <thead>\n",
              "    <tr style=\"text-align: right;\">\n",
              "      <th></th>\n",
              "      <th>id</th>\n",
              "      <th>pickup_datetime</th>\n",
              "    </tr>\n",
              "  </thead>\n",
              "  <tbody>\n",
              "    <tr>\n",
              "      <th>54031</th>\n",
              "      <td>56311</td>\n",
              "      <td>2016-01-12 00:00:25</td>\n",
              "    </tr>\n",
              "    <tr>\n",
              "      <th>667608</th>\n",
              "      <td>698423</td>\n",
              "      <td>2016-05-03 17:59:59</td>\n",
              "    </tr>\n",
              "    <tr>\n",
              "      <th>667609</th>\n",
              "      <td>698424</td>\n",
              "      <td>2016-05-03 18:00:52</td>\n",
              "    </tr>\n",
              "    <tr>\n",
              "      <th>667610</th>\n",
              "      <td>698425</td>\n",
              "      <td>2016-05-03 18:01:06</td>\n",
              "    </tr>\n",
              "    <tr>\n",
              "      <th>667611</th>\n",
              "      <td>698426</td>\n",
              "      <td>2016-05-03 18:01:11</td>\n",
              "    </tr>\n",
              "    <tr>\n",
              "      <th>667612</th>\n",
              "      <td>698427</td>\n",
              "      <td>2016-05-03 18:01:12</td>\n",
              "    </tr>\n",
              "    <tr>\n",
              "      <th>667613</th>\n",
              "      <td>698428</td>\n",
              "      <td>2016-05-03 18:01:12</td>\n",
              "    </tr>\n",
              "    <tr>\n",
              "      <th>667614</th>\n",
              "      <td>698429</td>\n",
              "      <td>2016-05-03 18:01:24</td>\n",
              "    </tr>\n",
              "    <tr>\n",
              "      <th>667615</th>\n",
              "      <td>698430</td>\n",
              "      <td>2016-05-03 18:01:36</td>\n",
              "    </tr>\n",
              "    <tr>\n",
              "      <th>667616</th>\n",
              "      <td>698431</td>\n",
              "      <td>2016-05-03 18:01:39</td>\n",
              "    </tr>\n",
              "  </tbody>\n",
              "</table>\n",
              "</div>\n",
              "      <button class=\"colab-df-convert\" onclick=\"convertToInteractive('df-4e5b45a3-542c-48be-acab-95e97fd5cb20')\"\n",
              "              title=\"Convert this dataframe to an interactive table.\"\n",
              "              style=\"display:none;\">\n",
              "        \n",
              "  <svg xmlns=\"http://www.w3.org/2000/svg\" height=\"24px\"viewBox=\"0 0 24 24\"\n",
              "       width=\"24px\">\n",
              "    <path d=\"M0 0h24v24H0V0z\" fill=\"none\"/>\n",
              "    <path d=\"M18.56 5.44l.94 2.06.94-2.06 2.06-.94-2.06-.94-.94-2.06-.94 2.06-2.06.94zm-11 1L8.5 8.5l.94-2.06 2.06-.94-2.06-.94L8.5 2.5l-.94 2.06-2.06.94zm10 10l.94 2.06.94-2.06 2.06-.94-2.06-.94-.94-2.06-.94 2.06-2.06.94z\"/><path d=\"M17.41 7.96l-1.37-1.37c-.4-.4-.92-.59-1.43-.59-.52 0-1.04.2-1.43.59L10.3 9.45l-7.72 7.72c-.78.78-.78 2.05 0 2.83L4 21.41c.39.39.9.59 1.41.59.51 0 1.02-.2 1.41-.59l7.78-7.78 2.81-2.81c.8-.78.8-2.07 0-2.86zM5.41 20L4 18.59l7.72-7.72 1.47 1.35L5.41 20z\"/>\n",
              "  </svg>\n",
              "      </button>\n",
              "      \n",
              "  <style>\n",
              "    .colab-df-container {\n",
              "      display:flex;\n",
              "      flex-wrap:wrap;\n",
              "      gap: 12px;\n",
              "    }\n",
              "\n",
              "    .colab-df-convert {\n",
              "      background-color: #E8F0FE;\n",
              "      border: none;\n",
              "      border-radius: 50%;\n",
              "      cursor: pointer;\n",
              "      display: none;\n",
              "      fill: #1967D2;\n",
              "      height: 32px;\n",
              "      padding: 0 0 0 0;\n",
              "      width: 32px;\n",
              "    }\n",
              "\n",
              "    .colab-df-convert:hover {\n",
              "      background-color: #E2EBFA;\n",
              "      box-shadow: 0px 1px 2px rgba(60, 64, 67, 0.3), 0px 1px 3px 1px rgba(60, 64, 67, 0.15);\n",
              "      fill: #174EA6;\n",
              "    }\n",
              "\n",
              "    [theme=dark] .colab-df-convert {\n",
              "      background-color: #3B4455;\n",
              "      fill: #D2E3FC;\n",
              "    }\n",
              "\n",
              "    [theme=dark] .colab-df-convert:hover {\n",
              "      background-color: #434B5C;\n",
              "      box-shadow: 0px 1px 3px 1px rgba(0, 0, 0, 0.15);\n",
              "      filter: drop-shadow(0px 1px 2px rgba(0, 0, 0, 0.3));\n",
              "      fill: #FFFFFF;\n",
              "    }\n",
              "  </style>\n",
              "\n",
              "      <script>\n",
              "        const buttonEl =\n",
              "          document.querySelector('#df-4e5b45a3-542c-48be-acab-95e97fd5cb20 button.colab-df-convert');\n",
              "        buttonEl.style.display =\n",
              "          google.colab.kernel.accessAllowed ? 'block' : 'none';\n",
              "\n",
              "        async function convertToInteractive(key) {\n",
              "          const element = document.querySelector('#df-4e5b45a3-542c-48be-acab-95e97fd5cb20');\n",
              "          const dataTable =\n",
              "            await google.colab.kernel.invokeFunction('convertToInteractive',\n",
              "                                                     [key], {});\n",
              "          if (!dataTable) return;\n",
              "\n",
              "          const docLinkHtml = 'Like what you see? Visit the ' +\n",
              "            '<a target=\"_blank\" href=https://colab.research.google.com/notebooks/data_table.ipynb>data table notebook</a>'\n",
              "            + ' to learn more about interactive tables.';\n",
              "          element.innerHTML = '';\n",
              "          dataTable['output_type'] = 'display_data';\n",
              "          await google.colab.output.renderOutput(dataTable, element);\n",
              "          const docLink = document.createElement('div');\n",
              "          docLink.innerHTML = docLinkHtml;\n",
              "          element.appendChild(docLink);\n",
              "        }\n",
              "      </script>\n",
              "    </div>\n",
              "  </div>\n",
              "  "
            ]
          },
          "metadata": {},
          "execution_count": 39
        }
      ],
      "source": [
        "cutoff_time = trips[['id', 'pickup_datetime']]\n",
        "cutoff_time = cutoff_time[cutoff_time['pickup_datetime'] > \"2016-01-12\"]\n",
        "preview(cutoff_time, 10)"
      ]
    },
    {
      "cell_type": "markdown",
      "metadata": {
        "id": "k_-DMupIe7mM"
      },
      "source": [
        "## **Step 3: Create baseline features using Deep Feature Synthesis**\n",
        "\n",
        "Instead of manually creating features, such as \"month of pickup datetime\", we can let DFS come up with them automatically. It does this by \n",
        "* interpreting the variable types of the columns e.g categorical, numeric and others \n",
        "* matching the columns to the primitives that can be applied to their variable types\n",
        "* creating features based on these matches"
      ]
    },
    {
      "cell_type": "markdown",
      "metadata": {
        "id": "7LZDZzp4e7mM"
      },
      "source": [
        "**Create transform features using transform primitives**\n",
        "\n",
        "As we described in the video, features fall into two major categories, ``transform`` and ``aggregate``. In featureools, we can create transform features by specifying ``transform`` primitives. Below we specify a ``transform`` primitive called ``weekend`` and here is what it does:\n",
        "\n",
        "* It can be applied to any ``datetime`` column in the data. \n",
        "* For each entry in the column, it assess if it is a ``weekend`` and returns a boolean. \n",
        "\n",
        "In this specific data, there are two ``datetime`` columns ``pickup_datetime`` and ``dropoff_datetime``. The tool automatically creates features using the primitive and these two columns as shown below. "
      ]
    },
    {
      "cell_type": "markdown",
      "metadata": {
        "id": "U-LUYgH5e7mM"
      },
      "source": [
        "## **Question 4: Creating a baseline model with only 1 transform primitive (10 Marks)**"
      ]
    },
    {
      "cell_type": "markdown",
      "source": [
        "### **Question: 4.1 Define transform primitive for weekend and define features using dfs?** "
      ],
      "metadata": {
        "id": "1lUREPCEraAz"
      }
    },
    {
      "cell_type": "code",
      "execution_count": null,
      "metadata": {
        "ExecuteTime": {
          "end_time": "2021-07-15T12:46:18.552030Z",
          "start_time": "2021-07-15T12:46:16.349739Z"
        },
        "id": "Yg9EcWdje7mM"
      },
      "outputs": [],
      "source": [
        "# Remove _________ and complete the code\n",
        "trans_primitives = [IsWeekend]\n",
        "\n",
        "# Remove _________ and complete the code\n",
        "features = ft.dfs(entities=entities,\n",
        "                  relationships=relationships,\n",
        "                  target_entity=\"trips\",\n",
        "                  trans_primitives=trans_primitives,\n",
        "                  agg_primitives=[],\n",
        "                  ignore_variables={\"trips\": [\"pickup_latitude\", \"pickup_longitude\",\n",
        "                                              \"dropoff_latitude\", \"dropoff_longitude\"]},\n",
        "                  features_only=True)"
      ]
    },
    {
      "cell_type": "markdown",
      "metadata": {
        "id": "Tk2wIS7Ie7mM"
      },
      "source": [
        "ft.primitives.list_primitives()*If you're interested about parameters to DFS such as `ignore_variables`, you can learn more about these parameters [here](https://featuretools.alteryx.com/en/v0.27.0/getting_started/getting_started_index.html)*\n",
        "\n",
        "Here are the features created."
      ]
    },
    {
      "cell_type": "code",
      "execution_count": null,
      "metadata": {
        "ExecuteTime": {
          "end_time": "2021-07-15T12:46:24.799450Z",
          "start_time": "2021-07-15T12:46:24.699552Z"
        },
        "id": "_gTCOwpoe7mM",
        "colab": {
          "base_uri": "https://localhost:8080/"
        },
        "outputId": "68911e4c-5606-4815-fd59-58620cee2756"
      },
      "outputs": [
        {
          "output_type": "stream",
          "name": "stdout",
          "text": [
            "Number of features: 12\n"
          ]
        },
        {
          "output_type": "execute_result",
          "data": {
            "text/plain": [
              "[<Feature: vendor_id>,\n",
              " <Feature: passenger_count>,\n",
              " <Feature: trip_distance>,\n",
              " <Feature: payment_type>,\n",
              " <Feature: trip_duration>,\n",
              " <Feature: pickup_neighborhood>,\n",
              " <Feature: dropoff_neighborhood>,\n",
              " <Feature: IS_WEEKEND(pickup_datetime)>,\n",
              " <Feature: pickup_neighborhoods.latitude>,\n",
              " <Feature: pickup_neighborhoods.longitude>,\n",
              " <Feature: dropoff_neighborhoods.latitude>,\n",
              " <Feature: dropoff_neighborhoods.longitude>]"
            ]
          },
          "metadata": {},
          "execution_count": 41
        }
      ],
      "source": [
        "print (\"Number of features: %d\" % len(features))\n",
        "features"
      ]
    },
    {
      "cell_type": "markdown",
      "metadata": {
        "id": "cdvknyIae7mM"
      },
      "source": [
        "\n",
        "Now let's compute the features. "
      ]
    },
    {
      "cell_type": "markdown",
      "metadata": {
        "id": "Qn7XUiKNe7mN"
      },
      "source": [
        "### **Question: 4.2 Compute features and define feature matrix**"
      ]
    },
    {
      "cell_type": "code",
      "execution_count": null,
      "metadata": {
        "ExecuteTime": {
          "end_time": "2021-07-15T12:46:56.132642Z",
          "start_time": "2021-07-15T12:46:56.030342Z"
        },
        "id": "_xGN7L52e7mN"
      },
      "outputs": [],
      "source": [
        "def compute_features(features, cutoff_time):\n",
        "    # Shuffle so we don't see encoded features in the front or backs\n",
        "\n",
        "    np.random.shuffle(features)\n",
        "    feature_matrix = ft.calculate_feature_matrix(features,\n",
        "                                                 cutoff_time=cutoff_time,\n",
        "                                                 approximate='36d',\n",
        "                                                 verbose=True,entities=entities, relationships=relationships)\n",
        "    print(\"Finishing computing...\")\n",
        "    feature_matrix, features = ft.encode_features(feature_matrix, features,\n",
        "                                                  to_encode=[\"pickup_neighborhood\", \"dropoff_neighborhood\"],\n",
        "                                                  include_unknown=False)\n",
        "    return feature_matrix"
      ]
    },
    {
      "cell_type": "code",
      "execution_count": null,
      "metadata": {
        "id": "oiVjFgAMe7mN",
        "colab": {
          "base_uri": "https://localhost:8080/"
        },
        "outputId": "a4303228-e6e5-408b-b4b4-331580f862c9"
      },
      "outputs": [
        {
          "output_type": "stream",
          "name": "stdout",
          "text": [
            "Elapsed: 00:08 | Progress: 100%|██████████\n",
            "Finishing computing...\n"
          ]
        }
      ],
      "source": [
        "# Remove _________ and complete the code\n",
        "feature_matrix1 = compute_features(features, cutoff_time)"
      ]
    },
    {
      "cell_type": "code",
      "execution_count": null,
      "metadata": {
        "ExecuteTime": {
          "end_time": "2021-07-15T12:47:21.290315Z",
          "start_time": "2021-07-15T12:47:20.995105Z"
        },
        "id": "mxQkCvW5e7mN",
        "colab": {
          "base_uri": "https://localhost:8080/",
          "height": 348
        },
        "outputId": "428eab87-eca9-4905-a3e6-a73edea30fc2"
      },
      "outputs": [
        {
          "output_type": "execute_result",
          "data": {
            "text/plain": [
              "        passenger_count payment_type  trip_duration  trip_distance  \\\n",
              "id                                                                   \n",
              "56311                 1            1          645.0           1.61   \n",
              "698423                1            2          523.0           1.12   \n",
              "698424                1            2          155.0           0.68   \n",
              "698425                1            1          225.0           1.00   \n",
              "698426                2            2          372.0           0.70   \n",
              "\n",
              "        IS_WEEKEND(pickup_datetime) vendor_id  pickup_neighborhoods.longitude  \\\n",
              "id                                                                              \n",
              "56311                         False         2                      -73.987205   \n",
              "698423                        False         2                      -73.966696   \n",
              "698424                        False         2                      -73.966696   \n",
              "698425                        False         1                      -73.969822   \n",
              "698426                        False         1                      -73.956886   \n",
              "\n",
              "        dropoff_neighborhood = AD  dropoff_neighborhood = A  \\\n",
              "id                                                            \n",
              "56311                       False                     False   \n",
              "698423                       True                     False   \n",
              "698424                      False                     False   \n",
              "698425                      False                     False   \n",
              "698426                      False                     False   \n",
              "\n",
              "        dropoff_neighborhood = AA  ...  pickup_neighborhood = A  \\\n",
              "id                                 ...                            \n",
              "56311                       False  ...                    False   \n",
              "698423                      False  ...                    False   \n",
              "698424                      False  ...                    False   \n",
              "698425                      False  ...                    False   \n",
              "698426                      False  ...                    False   \n",
              "\n",
              "        pickup_neighborhood = AR  pickup_neighborhood = AK  \\\n",
              "id                                                           \n",
              "56311                      False                     False   \n",
              "698423                     False                      True   \n",
              "698424                     False                      True   \n",
              "698425                     False                     False   \n",
              "698426                     False                     False   \n",
              "\n",
              "        pickup_neighborhood = AO  pickup_neighborhood = N  \\\n",
              "id                                                          \n",
              "56311                      False                    False   \n",
              "698423                     False                    False   \n",
              "698424                     False                    False   \n",
              "698425                     False                    False   \n",
              "698426                     False                    False   \n",
              "\n",
              "        pickup_neighborhood = O  pickup_neighborhood = R  \\\n",
              "id                                                         \n",
              "56311                     False                    False   \n",
              "698423                    False                    False   \n",
              "698424                    False                    False   \n",
              "698425                    False                    False   \n",
              "698426                    False                    False   \n",
              "\n",
              "        dropoff_neighborhoods.latitude  dropoff_neighborhoods.longitude  \\\n",
              "id                                                                        \n",
              "56311                        40.721435                       -73.998366   \n",
              "698423                       40.752186                       -73.976515   \n",
              "698424                       40.775299                       -73.960551   \n",
              "698425                       40.793597                       -73.969822   \n",
              "698426                       40.766809                       -73.956886   \n",
              "\n",
              "        pickup_neighborhoods.latitude  \n",
              "id                                     \n",
              "56311                       40.720245  \n",
              "698423                      40.764723  \n",
              "698424                      40.764723  \n",
              "698425                      40.793597  \n",
              "698426                      40.766809  \n",
              "\n",
              "[5 rows x 30 columns]"
            ],
            "text/html": [
              "\n",
              "  <div id=\"df-5b25cf62-dc84-48c2-902c-e0a34c99b2a6\">\n",
              "    <div class=\"colab-df-container\">\n",
              "      <div>\n",
              "<style scoped>\n",
              "    .dataframe tbody tr th:only-of-type {\n",
              "        vertical-align: middle;\n",
              "    }\n",
              "\n",
              "    .dataframe tbody tr th {\n",
              "        vertical-align: top;\n",
              "    }\n",
              "\n",
              "    .dataframe thead th {\n",
              "        text-align: right;\n",
              "    }\n",
              "</style>\n",
              "<table border=\"1\" class=\"dataframe\">\n",
              "  <thead>\n",
              "    <tr style=\"text-align: right;\">\n",
              "      <th></th>\n",
              "      <th>passenger_count</th>\n",
              "      <th>payment_type</th>\n",
              "      <th>trip_duration</th>\n",
              "      <th>trip_distance</th>\n",
              "      <th>IS_WEEKEND(pickup_datetime)</th>\n",
              "      <th>vendor_id</th>\n",
              "      <th>pickup_neighborhoods.longitude</th>\n",
              "      <th>dropoff_neighborhood = AD</th>\n",
              "      <th>dropoff_neighborhood = A</th>\n",
              "      <th>dropoff_neighborhood = AA</th>\n",
              "      <th>...</th>\n",
              "      <th>pickup_neighborhood = A</th>\n",
              "      <th>pickup_neighborhood = AR</th>\n",
              "      <th>pickup_neighborhood = AK</th>\n",
              "      <th>pickup_neighborhood = AO</th>\n",
              "      <th>pickup_neighborhood = N</th>\n",
              "      <th>pickup_neighborhood = O</th>\n",
              "      <th>pickup_neighborhood = R</th>\n",
              "      <th>dropoff_neighborhoods.latitude</th>\n",
              "      <th>dropoff_neighborhoods.longitude</th>\n",
              "      <th>pickup_neighborhoods.latitude</th>\n",
              "    </tr>\n",
              "    <tr>\n",
              "      <th>id</th>\n",
              "      <th></th>\n",
              "      <th></th>\n",
              "      <th></th>\n",
              "      <th></th>\n",
              "      <th></th>\n",
              "      <th></th>\n",
              "      <th></th>\n",
              "      <th></th>\n",
              "      <th></th>\n",
              "      <th></th>\n",
              "      <th></th>\n",
              "      <th></th>\n",
              "      <th></th>\n",
              "      <th></th>\n",
              "      <th></th>\n",
              "      <th></th>\n",
              "      <th></th>\n",
              "      <th></th>\n",
              "      <th></th>\n",
              "      <th></th>\n",
              "      <th></th>\n",
              "    </tr>\n",
              "  </thead>\n",
              "  <tbody>\n",
              "    <tr>\n",
              "      <th>56311</th>\n",
              "      <td>1</td>\n",
              "      <td>1</td>\n",
              "      <td>645.0</td>\n",
              "      <td>1.61</td>\n",
              "      <td>False</td>\n",
              "      <td>2</td>\n",
              "      <td>-73.987205</td>\n",
              "      <td>False</td>\n",
              "      <td>False</td>\n",
              "      <td>False</td>\n",
              "      <td>...</td>\n",
              "      <td>False</td>\n",
              "      <td>False</td>\n",
              "      <td>False</td>\n",
              "      <td>False</td>\n",
              "      <td>False</td>\n",
              "      <td>False</td>\n",
              "      <td>False</td>\n",
              "      <td>40.721435</td>\n",
              "      <td>-73.998366</td>\n",
              "      <td>40.720245</td>\n",
              "    </tr>\n",
              "    <tr>\n",
              "      <th>698423</th>\n",
              "      <td>1</td>\n",
              "      <td>2</td>\n",
              "      <td>523.0</td>\n",
              "      <td>1.12</td>\n",
              "      <td>False</td>\n",
              "      <td>2</td>\n",
              "      <td>-73.966696</td>\n",
              "      <td>True</td>\n",
              "      <td>False</td>\n",
              "      <td>False</td>\n",
              "      <td>...</td>\n",
              "      <td>False</td>\n",
              "      <td>False</td>\n",
              "      <td>True</td>\n",
              "      <td>False</td>\n",
              "      <td>False</td>\n",
              "      <td>False</td>\n",
              "      <td>False</td>\n",
              "      <td>40.752186</td>\n",
              "      <td>-73.976515</td>\n",
              "      <td>40.764723</td>\n",
              "    </tr>\n",
              "    <tr>\n",
              "      <th>698424</th>\n",
              "      <td>1</td>\n",
              "      <td>2</td>\n",
              "      <td>155.0</td>\n",
              "      <td>0.68</td>\n",
              "      <td>False</td>\n",
              "      <td>2</td>\n",
              "      <td>-73.966696</td>\n",
              "      <td>False</td>\n",
              "      <td>False</td>\n",
              "      <td>False</td>\n",
              "      <td>...</td>\n",
              "      <td>False</td>\n",
              "      <td>False</td>\n",
              "      <td>True</td>\n",
              "      <td>False</td>\n",
              "      <td>False</td>\n",
              "      <td>False</td>\n",
              "      <td>False</td>\n",
              "      <td>40.775299</td>\n",
              "      <td>-73.960551</td>\n",
              "      <td>40.764723</td>\n",
              "    </tr>\n",
              "    <tr>\n",
              "      <th>698425</th>\n",
              "      <td>1</td>\n",
              "      <td>1</td>\n",
              "      <td>225.0</td>\n",
              "      <td>1.00</td>\n",
              "      <td>False</td>\n",
              "      <td>1</td>\n",
              "      <td>-73.969822</td>\n",
              "      <td>False</td>\n",
              "      <td>False</td>\n",
              "      <td>False</td>\n",
              "      <td>...</td>\n",
              "      <td>False</td>\n",
              "      <td>False</td>\n",
              "      <td>False</td>\n",
              "      <td>False</td>\n",
              "      <td>False</td>\n",
              "      <td>False</td>\n",
              "      <td>False</td>\n",
              "      <td>40.793597</td>\n",
              "      <td>-73.969822</td>\n",
              "      <td>40.793597</td>\n",
              "    </tr>\n",
              "    <tr>\n",
              "      <th>698426</th>\n",
              "      <td>2</td>\n",
              "      <td>2</td>\n",
              "      <td>372.0</td>\n",
              "      <td>0.70</td>\n",
              "      <td>False</td>\n",
              "      <td>1</td>\n",
              "      <td>-73.956886</td>\n",
              "      <td>False</td>\n",
              "      <td>False</td>\n",
              "      <td>False</td>\n",
              "      <td>...</td>\n",
              "      <td>False</td>\n",
              "      <td>False</td>\n",
              "      <td>False</td>\n",
              "      <td>False</td>\n",
              "      <td>False</td>\n",
              "      <td>False</td>\n",
              "      <td>False</td>\n",
              "      <td>40.766809</td>\n",
              "      <td>-73.956886</td>\n",
              "      <td>40.766809</td>\n",
              "    </tr>\n",
              "  </tbody>\n",
              "</table>\n",
              "<p>5 rows × 30 columns</p>\n",
              "</div>\n",
              "      <button class=\"colab-df-convert\" onclick=\"convertToInteractive('df-5b25cf62-dc84-48c2-902c-e0a34c99b2a6')\"\n",
              "              title=\"Convert this dataframe to an interactive table.\"\n",
              "              style=\"display:none;\">\n",
              "        \n",
              "  <svg xmlns=\"http://www.w3.org/2000/svg\" height=\"24px\"viewBox=\"0 0 24 24\"\n",
              "       width=\"24px\">\n",
              "    <path d=\"M0 0h24v24H0V0z\" fill=\"none\"/>\n",
              "    <path d=\"M18.56 5.44l.94 2.06.94-2.06 2.06-.94-2.06-.94-.94-2.06-.94 2.06-2.06.94zm-11 1L8.5 8.5l.94-2.06 2.06-.94-2.06-.94L8.5 2.5l-.94 2.06-2.06.94zm10 10l.94 2.06.94-2.06 2.06-.94-2.06-.94-.94-2.06-.94 2.06-2.06.94z\"/><path d=\"M17.41 7.96l-1.37-1.37c-.4-.4-.92-.59-1.43-.59-.52 0-1.04.2-1.43.59L10.3 9.45l-7.72 7.72c-.78.78-.78 2.05 0 2.83L4 21.41c.39.39.9.59 1.41.59.51 0 1.02-.2 1.41-.59l7.78-7.78 2.81-2.81c.8-.78.8-2.07 0-2.86zM5.41 20L4 18.59l7.72-7.72 1.47 1.35L5.41 20z\"/>\n",
              "  </svg>\n",
              "      </button>\n",
              "      \n",
              "  <style>\n",
              "    .colab-df-container {\n",
              "      display:flex;\n",
              "      flex-wrap:wrap;\n",
              "      gap: 12px;\n",
              "    }\n",
              "\n",
              "    .colab-df-convert {\n",
              "      background-color: #E8F0FE;\n",
              "      border: none;\n",
              "      border-radius: 50%;\n",
              "      cursor: pointer;\n",
              "      display: none;\n",
              "      fill: #1967D2;\n",
              "      height: 32px;\n",
              "      padding: 0 0 0 0;\n",
              "      width: 32px;\n",
              "    }\n",
              "\n",
              "    .colab-df-convert:hover {\n",
              "      background-color: #E2EBFA;\n",
              "      box-shadow: 0px 1px 2px rgba(60, 64, 67, 0.3), 0px 1px 3px 1px rgba(60, 64, 67, 0.15);\n",
              "      fill: #174EA6;\n",
              "    }\n",
              "\n",
              "    [theme=dark] .colab-df-convert {\n",
              "      background-color: #3B4455;\n",
              "      fill: #D2E3FC;\n",
              "    }\n",
              "\n",
              "    [theme=dark] .colab-df-convert:hover {\n",
              "      background-color: #434B5C;\n",
              "      box-shadow: 0px 1px 3px 1px rgba(0, 0, 0, 0.15);\n",
              "      filter: drop-shadow(0px 1px 2px rgba(0, 0, 0, 0.3));\n",
              "      fill: #FFFFFF;\n",
              "    }\n",
              "  </style>\n",
              "\n",
              "      <script>\n",
              "        const buttonEl =\n",
              "          document.querySelector('#df-5b25cf62-dc84-48c2-902c-e0a34c99b2a6 button.colab-df-convert');\n",
              "        buttonEl.style.display =\n",
              "          google.colab.kernel.accessAllowed ? 'block' : 'none';\n",
              "\n",
              "        async function convertToInteractive(key) {\n",
              "          const element = document.querySelector('#df-5b25cf62-dc84-48c2-902c-e0a34c99b2a6');\n",
              "          const dataTable =\n",
              "            await google.colab.kernel.invokeFunction('convertToInteractive',\n",
              "                                                     [key], {});\n",
              "          if (!dataTable) return;\n",
              "\n",
              "          const docLinkHtml = 'Like what you see? Visit the ' +\n",
              "            '<a target=\"_blank\" href=https://colab.research.google.com/notebooks/data_table.ipynb>data table notebook</a>'\n",
              "            + ' to learn more about interactive tables.';\n",
              "          element.innerHTML = '';\n",
              "          dataTable['output_type'] = 'display_data';\n",
              "          await google.colab.output.renderOutput(dataTable, element);\n",
              "          const docLink = document.createElement('div');\n",
              "          docLink.innerHTML = docLinkHtml;\n",
              "          element.appendChild(docLink);\n",
              "        }\n",
              "      </script>\n",
              "    </div>\n",
              "  </div>\n",
              "  "
            ]
          },
          "metadata": {},
          "execution_count": 44
        }
      ],
      "source": [
        "preview(feature_matrix1, 5)"
      ]
    },
    {
      "cell_type": "code",
      "execution_count": null,
      "metadata": {
        "id": "DvmgGL7ce7mN",
        "colab": {
          "base_uri": "https://localhost:8080/"
        },
        "outputId": "2c967a5b-2c1f-4ec5-ff9f-4a69b4a40af1"
      },
      "outputs": [
        {
          "output_type": "execute_result",
          "data": {
            "text/plain": [
              "(920378, 30)"
            ]
          },
          "metadata": {},
          "execution_count": 45
        }
      ],
      "source": [
        "feature_matrix1.shape"
      ]
    },
    {
      "cell_type": "markdown",
      "metadata": {
        "id": "kXAjqOVle7mN"
      },
      "source": [
        "### **Model Building**\n",
        "------------------\n",
        "\n",
        "To build a model, we\n",
        "* Separate the data into a portion for ``training`` (75% in this case) and a portion for ``testing`` \n",
        "* Get the log of the trip duration so that a more linear relationship can be found.\n",
        "* Train a model using a ``Linear Regression, Decision Tree and Random Forest model``"
      ]
    },
    {
      "cell_type": "markdown",
      "metadata": {
        "id": "m6wb9vTGe7mN"
      },
      "source": [
        "#### **Transforming the duration variable on sqrt and log**\n",
        "\n"
      ]
    },
    {
      "cell_type": "code",
      "execution_count": null,
      "metadata": {
        "id": "mAmvh8SYe7mN",
        "colab": {
          "base_uri": "https://localhost:8080/",
          "height": 369
        },
        "outputId": "19d1d775-7709-431a-f003-e920a6096db3"
      },
      "outputs": [
        {
          "output_type": "execute_result",
          "data": {
            "text/plain": [
              "(array([  4566.,  35831., 163872., 249551., 225381., 149544.,  80472.,\n",
              "         38481.,  18054.,   8657.]),\n",
              " array([ 1.        ,  6.90499792, 12.80999584, 18.71499376, 24.61999167,\n",
              "        30.52498959, 36.42998751, 42.33498543, 48.23998335, 54.14498127,\n",
              "        60.04997918]),\n",
              " <a list of 10 Patch objects>)"
            ]
          },
          "metadata": {},
          "execution_count": 46
        },
        {
          "output_type": "display_data",
          "data": {
            "text/plain": [
              "<Figure size 432x288 with 1 Axes>"
            ],
            "image/png": "[encoded data removed]"
          },
          "metadata": {
            "needs_background": "light"
          }
        }
      ],
      "source": [
        "plt.hist(np.sqrt(trips['trip_duration']))"
      ]
    },
    {
      "cell_type": "code",
      "execution_count": null,
      "metadata": {
        "id": "ZMJK865ye7mN",
        "colab": {
          "base_uri": "https://localhost:8080/",
          "height": 369
        },
        "outputId": "bee7fed4-3963-4e7b-e92f-87354c037407"
      },
      "outputs": [
        {
          "output_type": "execute_result",
          "data": {
            "text/plain": [
              "(array([1.81000e+02, 5.97000e+02, 7.44000e+02, 1.43900e+03, 2.86700e+03,\n",
              "        2.00260e+04, 1.35785e+05, 3.69738e+05, 3.50815e+05, 9.22170e+04]),\n",
              " array([0.        , 0.81903544, 1.63807088, 2.45710632, 3.27614176,\n",
              "        4.0951772 , 4.91421264, 5.73324808, 6.55228352, 7.37131896,\n",
              "        8.1903544 ]),\n",
              " <a list of 10 Patch objects>)"
            ]
          },
          "metadata": {},
          "execution_count": 47
        },
        {
          "output_type": "display_data",
          "data": {
            "text/plain": [
              "<Figure size 432x288 with 1 Axes>"
            ],
            "image/png": "[encoded data removed]"
          },
          "metadata": {
            "needs_background": "light"
          }
        }
      ],
      "source": [
        "plt.hist(np.log(trips['trip_duration']))"
      ]
    },
    {
      "cell_type": "markdown",
      "metadata": {
        "id": "KJJyPhx9e7mN"
      },
      "source": [
        "- We can clearly see that the sqrt transformation is giving nearly normal distribution, there for we can choose the sqrt transformation on the dependent(trip_duration) variable."
      ]
    },
    {
      "cell_type": "markdown",
      "metadata": {
        "id": "iqs6s_2Le7mO"
      },
      "source": [
        "#### **Splitting the data into train and test**"
      ]
    },
    {
      "cell_type": "code",
      "execution_count": null,
      "metadata": {
        "ExecuteTime": {
          "end_time": "2021-07-15T12:47:30.919229Z",
          "start_time": "2021-07-15T12:47:24.754592Z"
        },
        "id": "OQGcWZhue7mO"
      },
      "outputs": [],
      "source": [
        "# Separates the whole feature matrix into train data feature matrix, train data labels, and test data feature matrix \n",
        "X_train, y_train, X_test, y_test = get_train_test_fm(feature_matrix1,.75)\n",
        "y_train = np.sqrt(y_train)\n",
        "y_test = np.sqrt(y_test)"
      ]
    },
    {
      "cell_type": "markdown",
      "metadata": {
        "id": "9EwsqXB3e7mO"
      },
      "source": [
        "**Defining function for to check the performance of the model.**"
      ]
    },
    {
      "cell_type": "code",
      "execution_count": null,
      "metadata": {
        "id": "8JwaOIJYe7mO"
      },
      "outputs": [],
      "source": [
        "# RMSE\n",
        "def rmse(predictions, targets):\n",
        "    return np.sqrt(((targets - predictions) ** 2).mean())\n",
        "\n",
        "# MAE\n",
        "def mae(predictions, targets):\n",
        "    return np.mean(np.abs((targets - predictions)))\n",
        "\n",
        "\n",
        "# Model Performance on test and train data\n",
        "def model_pref(model, x_train, x_test, y_train,y_test):\n",
        "\n",
        "    # Insample Prediction\n",
        "    y_pred_train = model.predict(x_train)\n",
        "    y_observed_train = y_train\n",
        "\n",
        "    # Prediction on test data\n",
        "    y_pred_test = model.predict(x_test)\n",
        "    y_observed_test = y_test\n",
        "\n",
        "    print(\n",
        "        pd.DataFrame(\n",
        "            {\n",
        "                \"Data\": [\"Train\", \"Test\"],\n",
        "                'RSquared':\n",
        "                    [r2_score(y_observed_train,y_pred_train),\n",
        "                    r2_score(y_observed_test,y_pred_test )\n",
        "                    ],\n",
        "                \"RMSE\": [\n",
        "                    rmse(y_pred_train, y_observed_train),\n",
        "                    rmse(y_pred_test, y_observed_test),\n",
        "                ],\n",
        "                \"MAE\": [\n",
        "                    mae(y_pred_train, y_observed_train),\n",
        "                    mae(y_pred_test, y_observed_test),\n",
        "                ],\n",
        "            }\n",
        "        )\n",
        "    )"
      ]
    },
    {
      "cell_type": "markdown",
      "metadata": {
        "id": "ORgJya_De7mO"
      },
      "source": [
        "### **Question 4.3 Build Linear regression using only weekend transform primitive**"
      ]
    },
    {
      "cell_type": "code",
      "execution_count": null,
      "metadata": {
        "id": "xu3RO5GVe7mO",
        "colab": {
          "base_uri": "https://localhost:8080/"
        },
        "outputId": "03a39b60-6e26-492f-e0e8-72c9e575b6ec"
      },
      "outputs": [
        {
          "output_type": "execute_result",
          "data": {
            "text/plain": [
              "LinearRegression()"
            ]
          },
          "metadata": {},
          "execution_count": 78
        }
      ],
      "source": [
        "#Remove _________ and complete the code\n",
        "\n",
        "# Defining the model\n",
        "\n",
        "lr1 = LinearRegression()\n",
        "\n",
        "# Fitting the model\n",
        "lr1.fit(X_train,y_train)\n"
      ]
    },
    {
      "cell_type": "markdown",
      "metadata": {
        "id": "wO0YC8HGe7mO"
      },
      "source": [
        "#### **Check the performance of the model**"
      ]
    },
    {
      "cell_type": "code",
      "execution_count": null,
      "metadata": {
        "id": "OO6ERipWe7mO",
        "colab": {
          "base_uri": "https://localhost:8080/"
        },
        "outputId": "00a47732-1b3c-47b4-cff0-8e1d976b273f"
      },
      "outputs": [
        {
          "output_type": "stream",
          "name": "stdout",
          "text": [
            "    Data  RSquared      RMSE       MAE\n",
            "0  Train  0.575992  6.132995  4.737287\n",
            "1   Test  0.555673  6.559967  5.025680\n"
          ]
        }
      ],
      "source": [
        "# Remove _________ and complete the code\n",
        "model_pref(lr1, X_train, X_test, y_train, y_test)  "
      ]
    },
    {
      "cell_type": "markdown",
      "metadata": {
        "id": "s-pJdFiDe7mP"
      },
      "source": [
        "**Write your answers here:_____**"
      ]
    },
    {
      "cell_type": "markdown",
      "metadata": {
        "id": "Sur-YfODe7mP"
      },
      "source": [
        "### **Question 4.4 Building decision tree using only weekend transform primitive**"
      ]
    },
    {
      "cell_type": "code",
      "execution_count": null,
      "metadata": {
        "id": "F8o9xgn1e7mP",
        "colab": {
          "base_uri": "https://localhost:8080/"
        },
        "outputId": "fe765a73-43ab-4cca-9cab-3b4f45673a6a"
      },
      "outputs": [
        {
          "output_type": "execute_result",
          "data": {
            "text/plain": [
              "DecisionTreeRegressor(random_state=1)"
            ]
          },
          "metadata": {},
          "execution_count": 79
        }
      ],
      "source": [
        "# Remove _________ and complete the code\n",
        "\n",
        "# Define the model\n",
        "dt=DecisionTreeRegressor(random_state = 1)\n",
        "\n",
        "# Fit the model\n",
        "dt.fit(X_train, y_train)"
      ]
    },
    {
      "cell_type": "markdown",
      "metadata": {
        "id": "SWFG-Swue7mS"
      },
      "source": [
        "#### **Check the performance of the model**"
      ]
    },
    {
      "cell_type": "code",
      "execution_count": null,
      "metadata": {
        "id": "Y2_ubSe-e7mS",
        "colab": {
          "base_uri": "https://localhost:8080/"
        },
        "outputId": "4f4d6675-5191-4185-aaf2-d15d25de9d65"
      },
      "outputs": [
        {
          "output_type": "stream",
          "name": "stdout",
          "text": [
            "    Data  RSquared      RMSE       MAE\n",
            "0  Train  0.916825  2.716322  1.522122\n",
            "1   Test  0.598190  6.238224  4.636605\n"
          ]
        }
      ],
      "source": [
        "# Remove _________ and complete the code\n",
        "model_pref(dt, X_train, X_test, y_train, y_test)  "
      ]
    },
    {
      "cell_type": "markdown",
      "metadata": {
        "id": "_bpYCiRbe7mT"
      },
      "source": [
        "**Write your answers here:_____**\n"
      ]
    },
    {
      "cell_type": "markdown",
      "metadata": {
        "id": "Al4Lb-Lae7mT"
      },
      "source": [
        "### **Question 4.5 Building Pruned decision tree using only weekend transform primitive**"
      ]
    },
    {
      "cell_type": "code",
      "execution_count": null,
      "metadata": {
        "id": "mXSTBlORe7mT",
        "colab": {
          "base_uri": "https://localhost:8080/"
        },
        "outputId": "58bd5dc2-34e2-42f4-d41c-16de467b698f"
      },
      "outputs": [
        {
          "output_type": "execute_result",
          "data": {
            "text/plain": [
              "DecisionTreeRegressor(max_depth=7, random_state=1)"
            ]
          },
          "metadata": {},
          "execution_count": 81
        }
      ],
      "source": [
        "# Remove _________ and complete the code\n",
        "\n",
        "# Define the model\n",
        "\n",
        "# Use max_depth=7\n",
        "dt_pruned=DecisionTreeRegressor(random_state = 1, max_depth = 7)\n",
        "\n",
        "# Fit the model\n",
        "dt_pruned.fit(X_train, y_train)"
      ]
    },
    {
      "cell_type": "markdown",
      "metadata": {
        "id": "mTSHfYzAe7mT"
      },
      "source": [
        "#### **Check the performance of the model**"
      ]
    },
    {
      "cell_type": "code",
      "execution_count": null,
      "metadata": {
        "id": "JG24yezRe7mT",
        "colab": {
          "base_uri": "https://localhost:8080/"
        },
        "outputId": "36b7ca84-3bc1-4c5c-8a20-668bd727013c"
      },
      "outputs": [
        {
          "output_type": "stream",
          "name": "stdout",
          "text": [
            "    Data  RSquared      RMSE       MAE\n",
            "0  Train  0.733765  4.859798  3.708663\n",
            "1   Test  0.704197  5.352444  4.049431\n"
          ]
        }
      ],
      "source": [
        "# Remove _________ and complete the code\n",
        "model_pref(dt_pruned, X_train, X_test, y_train, y_test)  "
      ]
    },
    {
      "cell_type": "markdown",
      "metadata": {
        "id": "1eTEtHB8e7mT"
      },
      "source": [
        "**Write your answers here:_____**\n"
      ]
    },
    {
      "cell_type": "markdown",
      "metadata": {
        "id": "c-THttV2e7mT"
      },
      "source": [
        "### **Question 4.6 Building Random Forest using only weekend transform primitive**"
      ]
    },
    {
      "cell_type": "code",
      "execution_count": null,
      "metadata": {
        "id": "SRUI0v9Ye7mT"
      },
      "outputs": [],
      "source": [
        "# Remove _________ and complete the code\n",
        "\n",
        "# Define the model\n",
        "\n",
        "# using (n_estimators=60,max_depth=7)\n",
        "rf=RandomForestRegressor(n_estimators=60,max_depth=7)"
      ]
    },
    {
      "cell_type": "code",
      "execution_count": null,
      "metadata": {
        "id": "axUs0zRge7mT",
        "colab": {
          "base_uri": "https://localhost:8080/"
        },
        "outputId": "eab4488e-72e7-49b8-dc7b-b01ad1f36212"
      },
      "outputs": [
        {
          "output_type": "execute_result",
          "data": {
            "text/plain": [
              "RandomForestRegressor(max_depth=7, n_estimators=60)"
            ]
          },
          "metadata": {},
          "execution_count": 84
        }
      ],
      "source": [
        "# Fit the model\n",
        "\n",
        "#Remove _________ and complete the code\n",
        "rf.fit(X_train, y_train)"
      ]
    },
    {
      "cell_type": "markdown",
      "metadata": {
        "id": "u4N9V7ime7mU"
      },
      "source": [
        "#### **Check the performance of the model**"
      ]
    },
    {
      "cell_type": "code",
      "execution_count": null,
      "metadata": {
        "scrolled": true,
        "id": "jWW-xoIne7mU",
        "colab": {
          "base_uri": "https://localhost:8080/"
        },
        "outputId": "d3a169e4-0a11-41aa-ed07-2e7069ae81df"
      },
      "outputs": [
        {
          "output_type": "stream",
          "name": "stdout",
          "text": [
            "    Data  RSquared      RMSE       MAE\n",
            "0  Train  0.738233  4.818841  3.676069\n",
            "1   Test  0.708173  5.316348  4.019649\n"
          ]
        }
      ],
      "source": [
        "#Remove _________ and complete the code\n",
        "\n",
        "model_pref(rf, X_train, X_test, y_train, y_test)"
      ]
    },
    {
      "cell_type": "markdown",
      "metadata": {
        "id": "51is8stRe7mU"
      },
      "source": [
        "**Write your answers here:_____**\n"
      ]
    },
    {
      "cell_type": "markdown",
      "metadata": {
        "id": "rGaMKfP5e7mU"
      },
      "source": [
        "### **Step 4: Adding more Transform Primitives and creating new model**\n",
        "\n",
        "* Add ``Minute``, ``Hour``, ``Month``, ``Weekday`` , etc primitives\n",
        "* All these transform primitives apply to ``datetime`` columns\n",
        "\n",
        "## **Question 5: Create models with more transform primitives (10 Marks)**\n",
        "\n"
      ]
    },
    {
      "cell_type": "markdown",
      "source": [
        "### **Question 5.1 Define more transform primitives and define features using dfs?**"
      ],
      "metadata": {
        "id": "bmW8BcE5tWbh"
      }
    },
    {
      "cell_type": "code",
      "execution_count": 86,
      "metadata": {
        "ExecuteTime": {
          "end_time": "2021-07-15T12:51:54.063760Z",
          "start_time": "2021-07-15T12:51:51.694558Z"
        },
        "id": "bCTE86zie7mU"
      },
      "outputs": [],
      "source": [
        "# Remove _________ and complete the code\n",
        "trans_primitives = [Minute, Hour, Month, Weekday]\n",
        "\n",
        "# Remove _________ and complete the code\n",
        "features = ft.dfs(entities=entities,\n",
        "                  relationships=relationships,\n",
        "                  target_entity=\"trips\",\n",
        "                  trans_primitives=trans_primitives,\n",
        "                  agg_primitives=[],\n",
        "                  ignore_variables={\"trips\": [\"pickup_latitude\", \"pickup_longitude\",\n",
        "                                              \"dropoff_latitude\", \"dropoff_longitude\"]},\n",
        "                  features_only=True)"
      ]
    },
    {
      "cell_type": "code",
      "execution_count": 87,
      "metadata": {
        "ExecuteTime": {
          "end_time": "2021-07-15T12:52:31.456696Z",
          "start_time": "2021-07-15T12:52:31.362945Z"
        },
        "id": "EIEEw6hpe7mU",
        "colab": {
          "base_uri": "https://localhost:8080/"
        },
        "outputId": "76df4cc3-61c5-445f-9807-fd87c511645c"
      },
      "outputs": [
        {
          "output_type": "stream",
          "name": "stdout",
          "text": [
            "Number of features: 15\n"
          ]
        },
        {
          "output_type": "execute_result",
          "data": {
            "text/plain": [
              "[<Feature: vendor_id>,\n",
              " <Feature: passenger_count>,\n",
              " <Feature: trip_distance>,\n",
              " <Feature: payment_type>,\n",
              " <Feature: trip_duration>,\n",
              " <Feature: pickup_neighborhood>,\n",
              " <Feature: dropoff_neighborhood>,\n",
              " <Feature: HOUR(pickup_datetime)>,\n",
              " <Feature: MINUTE(pickup_datetime)>,\n",
              " <Feature: MONTH(pickup_datetime)>,\n",
              " <Feature: WEEKDAY(pickup_datetime)>,\n",
              " <Feature: pickup_neighborhoods.latitude>,\n",
              " <Feature: pickup_neighborhoods.longitude>,\n",
              " <Feature: dropoff_neighborhoods.latitude>,\n",
              " <Feature: dropoff_neighborhoods.longitude>]"
            ]
          },
          "metadata": {},
          "execution_count": 87
        }
      ],
      "source": [
        "print (\"Number of features: %d\" % len(features))\n",
        "features"
      ]
    },
    {
      "cell_type": "markdown",
      "metadata": {
        "id": "l17w_Oeme7mU"
      },
      "source": [
        "Now let's compute the features. "
      ]
    },
    {
      "cell_type": "markdown",
      "metadata": {
        "id": "9zTI4zfKe7mU"
      },
      "source": [
        "### **Question 5.2 Compute features and define feature matrix**"
      ]
    },
    {
      "cell_type": "code",
      "execution_count": 88,
      "metadata": {
        "ExecuteTime": {
          "end_time": "2021-07-15T12:52:48.471903Z",
          "start_time": "2021-07-15T12:52:34.218475Z"
        },
        "id": "9ubrAJrZe7mU",
        "colab": {
          "base_uri": "https://localhost:8080/"
        },
        "outputId": "c2ad8263-4ab1-4c99-e326-717975e15439"
      },
      "outputs": [
        {
          "output_type": "stream",
          "name": "stdout",
          "text": [
            "Elapsed: 00:09 | Progress: 100%|██████████\n",
            "Finishing computing...\n"
          ]
        }
      ],
      "source": [
        "# Remove _________ and complete the code\n",
        "feature_matrix2 = compute_features(features, cutoff_time)"
      ]
    },
    {
      "cell_type": "code",
      "execution_count": 89,
      "metadata": {
        "ExecuteTime": {
          "end_time": "2021-07-15T12:52:50.630760Z",
          "start_time": "2021-07-15T12:52:50.137051Z"
        },
        "id": "kSnWwOfHe7mV",
        "colab": {
          "base_uri": "https://localhost:8080/"
        },
        "outputId": "2428b397-72eb-44cc-bb4b-2c368acb6710"
      },
      "outputs": [
        {
          "output_type": "execute_result",
          "data": {
            "text/plain": [
              "(920378, 33)"
            ]
          },
          "metadata": {},
          "execution_count": 89
        }
      ],
      "source": [
        "feature_matrix2.shape"
      ]
    },
    {
      "cell_type": "code",
      "execution_count": 90,
      "metadata": {
        "id": "ccVC842pe7mV",
        "colab": {
          "base_uri": "https://localhost:8080/",
          "height": 348
        },
        "outputId": "c54233a6-fb94-4359-fcb6-71a9a3bbfd50"
      },
      "outputs": [
        {
          "output_type": "execute_result",
          "data": {
            "text/plain": [
              "       dropoff_neighborhood = AD  dropoff_neighborhood = A  \\\n",
              "id                                                           \n",
              "56311                      False                     False   \n",
              "56312                      False                     False   \n",
              "56313                      False                     False   \n",
              "56314                      False                     False   \n",
              "56315                      False                     False   \n",
              "\n",
              "       dropoff_neighborhood = AA  dropoff_neighborhood = D  \\\n",
              "id                                                           \n",
              "56311                      False                     False   \n",
              "56312                      False                     False   \n",
              "56313                      False                     False   \n",
              "56314                      False                     False   \n",
              "56315                      False                     False   \n",
              "\n",
              "       dropoff_neighborhood = AR  dropoff_neighborhood = C  \\\n",
              "id                                                           \n",
              "56311                      False                     False   \n",
              "56312                      False                     False   \n",
              "56313                      False                     False   \n",
              "56314                      False                     False   \n",
              "56315                      False                     False   \n",
              "\n",
              "       dropoff_neighborhood = O  dropoff_neighborhood = N  \\\n",
              "id                                                          \n",
              "56311                     False                     False   \n",
              "56312                     False                     False   \n",
              "56313                     False                     False   \n",
              "56314                     False                     False   \n",
              "56315                     False                     False   \n",
              "\n",
              "       dropoff_neighborhood = AK  dropoff_neighborhood = AO  ...  \\\n",
              "id                                                           ...   \n",
              "56311                      False                      False  ...   \n",
              "56312                      False                      False  ...   \n",
              "56313                      False                      False  ...   \n",
              "56314                      False                      False  ...   \n",
              "56315                      False                      False  ...   \n",
              "\n",
              "       pickup_neighborhood = D  pickup_neighborhood = A  \\\n",
              "id                                                        \n",
              "56311                    False                    False   \n",
              "56312                    False                    False   \n",
              "56313                    False                    False   \n",
              "56314                    False                    False   \n",
              "56315                    False                    False   \n",
              "\n",
              "       pickup_neighborhood = AR pickup_neighborhood = AK  \\\n",
              "id                                                         \n",
              "56311                     False                    False   \n",
              "56312                     False                    False   \n",
              "56313                     False                    False   \n",
              "56314                     False                    False   \n",
              "56315                     False                    False   \n",
              "\n",
              "       pickup_neighborhood = AO pickup_neighborhood = N  \\\n",
              "id                                                        \n",
              "56311                     False                   False   \n",
              "56312                     False                   False   \n",
              "56313                     False                   False   \n",
              "56314                     False                   False   \n",
              "56315                     False                   False   \n",
              "\n",
              "       pickup_neighborhood = O  pickup_neighborhood = R  \\\n",
              "id                                                        \n",
              "56311                    False                    False   \n",
              "56312                    False                    False   \n",
              "56313                    False                    False   \n",
              "56314                    False                    False   \n",
              "56315                    False                    False   \n",
              "\n",
              "       MINUTE(pickup_datetime)  pickup_neighborhoods.longitude  \n",
              "id                                                              \n",
              "56311                        0                      -73.987205  \n",
              "56312                        2                      -73.785073  \n",
              "56313                        2                      -73.948046  \n",
              "56314                        2                      -73.991595  \n",
              "56315                        3                      -73.969822  \n",
              "\n",
              "[5 rows x 33 columns]"
            ],
            "text/html": [
              "\n",
              "  <div id=\"df-da7525aa-ee77-4085-9aee-96284b84f293\">\n",
              "    <div class=\"colab-df-container\">\n",
              "      <div>\n",
              "<style scoped>\n",
              "    .dataframe tbody tr th:only-of-type {\n",
              "        vertical-align: middle;\n",
              "    }\n",
              "\n",
              "    .dataframe tbody tr th {\n",
              "        vertical-align: top;\n",
              "    }\n",
              "\n",
              "    .dataframe thead th {\n",
              "        text-align: right;\n",
              "    }\n",
              "</style>\n",
              "<table border=\"1\" class=\"dataframe\">\n",
              "  <thead>\n",
              "    <tr style=\"text-align: right;\">\n",
              "      <th></th>\n",
              "      <th>dropoff_neighborhood = AD</th>\n",
              "      <th>dropoff_neighborhood = A</th>\n",
              "      <th>dropoff_neighborhood = AA</th>\n",
              "      <th>dropoff_neighborhood = D</th>\n",
              "      <th>dropoff_neighborhood = AR</th>\n",
              "      <th>dropoff_neighborhood = C</th>\n",
              "      <th>dropoff_neighborhood = O</th>\n",
              "      <th>dropoff_neighborhood = N</th>\n",
              "      <th>dropoff_neighborhood = AK</th>\n",
              "      <th>dropoff_neighborhood = AO</th>\n",
              "      <th>...</th>\n",
              "      <th>pickup_neighborhood = D</th>\n",
              "      <th>pickup_neighborhood = A</th>\n",
              "      <th>pickup_neighborhood = AR</th>\n",
              "      <th>pickup_neighborhood = AK</th>\n",
              "      <th>pickup_neighborhood = AO</th>\n",
              "      <th>pickup_neighborhood = N</th>\n",
              "      <th>pickup_neighborhood = O</th>\n",
              "      <th>pickup_neighborhood = R</th>\n",
              "      <th>MINUTE(pickup_datetime)</th>\n",
              "      <th>pickup_neighborhoods.longitude</th>\n",
              "    </tr>\n",
              "    <tr>\n",
              "      <th>id</th>\n",
              "      <th></th>\n",
              "      <th></th>\n",
              "      <th></th>\n",
              "      <th></th>\n",
              "      <th></th>\n",
              "      <th></th>\n",
              "      <th></th>\n",
              "      <th></th>\n",
              "      <th></th>\n",
              "      <th></th>\n",
              "      <th></th>\n",
              "      <th></th>\n",
              "      <th></th>\n",
              "      <th></th>\n",
              "      <th></th>\n",
              "      <th></th>\n",
              "      <th></th>\n",
              "      <th></th>\n",
              "      <th></th>\n",
              "      <th></th>\n",
              "      <th></th>\n",
              "    </tr>\n",
              "  </thead>\n",
              "  <tbody>\n",
              "    <tr>\n",
              "      <th>56311</th>\n",
              "      <td>False</td>\n",
              "      <td>False</td>\n",
              "      <td>False</td>\n",
              "      <td>False</td>\n",
              "      <td>False</td>\n",
              "      <td>False</td>\n",
              "      <td>False</td>\n",
              "      <td>False</td>\n",
              "      <td>False</td>\n",
              "      <td>False</td>\n",
              "      <td>...</td>\n",
              "      <td>False</td>\n",
              "      <td>False</td>\n",
              "      <td>False</td>\n",
              "      <td>False</td>\n",
              "      <td>False</td>\n",
              "      <td>False</td>\n",
              "      <td>False</td>\n",
              "      <td>False</td>\n",
              "      <td>0</td>\n",
              "      <td>-73.987205</td>\n",
              "    </tr>\n",
              "    <tr>\n",
              "      <th>56312</th>\n",
              "      <td>False</td>\n",
              "      <td>False</td>\n",
              "      <td>False</td>\n",
              "      <td>False</td>\n",
              "      <td>False</td>\n",
              "      <td>False</td>\n",
              "      <td>False</td>\n",
              "      <td>False</td>\n",
              "      <td>False</td>\n",
              "      <td>False</td>\n",
              "      <td>...</td>\n",
              "      <td>False</td>\n",
              "      <td>False</td>\n",
              "      <td>False</td>\n",
              "      <td>False</td>\n",
              "      <td>False</td>\n",
              "      <td>False</td>\n",
              "      <td>False</td>\n",
              "      <td>False</td>\n",
              "      <td>2</td>\n",
              "      <td>-73.785073</td>\n",
              "    </tr>\n",
              "    <tr>\n",
              "      <th>56313</th>\n",
              "      <td>False</td>\n",
              "      <td>False</td>\n",
              "      <td>False</td>\n",
              "      <td>False</td>\n",
              "      <td>False</td>\n",
              "      <td>False</td>\n",
              "      <td>False</td>\n",
              "      <td>False</td>\n",
              "      <td>False</td>\n",
              "      <td>False</td>\n",
              "      <td>...</td>\n",
              "      <td>False</td>\n",
              "      <td>False</td>\n",
              "      <td>False</td>\n",
              "      <td>False</td>\n",
              "      <td>False</td>\n",
              "      <td>False</td>\n",
              "      <td>False</td>\n",
              "      <td>False</td>\n",
              "      <td>2</td>\n",
              "      <td>-73.948046</td>\n",
              "    </tr>\n",
              "    <tr>\n",
              "      <th>56314</th>\n",
              "      <td>False</td>\n",
              "      <td>False</td>\n",
              "      <td>False</td>\n",
              "      <td>False</td>\n",
              "      <td>False</td>\n",
              "      <td>False</td>\n",
              "      <td>False</td>\n",
              "      <td>False</td>\n",
              "      <td>False</td>\n",
              "      <td>False</td>\n",
              "      <td>...</td>\n",
              "      <td>False</td>\n",
              "      <td>False</td>\n",
              "      <td>False</td>\n",
              "      <td>False</td>\n",
              "      <td>False</td>\n",
              "      <td>False</td>\n",
              "      <td>False</td>\n",
              "      <td>False</td>\n",
              "      <td>2</td>\n",
              "      <td>-73.991595</td>\n",
              "    </tr>\n",
              "    <tr>\n",
              "      <th>56315</th>\n",
              "      <td>False</td>\n",
              "      <td>False</td>\n",
              "      <td>False</td>\n",
              "      <td>False</td>\n",
              "      <td>False</td>\n",
              "      <td>False</td>\n",
              "      <td>False</td>\n",
              "      <td>False</td>\n",
              "      <td>False</td>\n",
              "      <td>False</td>\n",
              "      <td>...</td>\n",
              "      <td>False</td>\n",
              "      <td>False</td>\n",
              "      <td>False</td>\n",
              "      <td>False</td>\n",
              "      <td>False</td>\n",
              "      <td>False</td>\n",
              "      <td>False</td>\n",
              "      <td>False</td>\n",
              "      <td>3</td>\n",
              "      <td>-73.969822</td>\n",
              "    </tr>\n",
              "  </tbody>\n",
              "</table>\n",
              "<p>5 rows × 33 columns</p>\n",
              "</div>\n",
              "      <button class=\"colab-df-convert\" onclick=\"convertToInteractive('df-da7525aa-ee77-4085-9aee-96284b84f293')\"\n",
              "              title=\"Convert this dataframe to an interactive table.\"\n",
              "              style=\"display:none;\">\n",
              "        \n",
              "  <svg xmlns=\"http://www.w3.org/2000/svg\" height=\"24px\"viewBox=\"0 0 24 24\"\n",
              "       width=\"24px\">\n",
              "    <path d=\"M0 0h24v24H0V0z\" fill=\"none\"/>\n",
              "    <path d=\"M18.56 5.44l.94 2.06.94-2.06 2.06-.94-2.06-.94-.94-2.06-.94 2.06-2.06.94zm-11 1L8.5 8.5l.94-2.06 2.06-.94-2.06-.94L8.5 2.5l-.94 2.06-2.06.94zm10 10l.94 2.06.94-2.06 2.06-.94-2.06-.94-.94-2.06-.94 2.06-2.06.94z\"/><path d=\"M17.41 7.96l-1.37-1.37c-.4-.4-.92-.59-1.43-.59-.52 0-1.04.2-1.43.59L10.3 9.45l-7.72 7.72c-.78.78-.78 2.05 0 2.83L4 21.41c.39.39.9.59 1.41.59.51 0 1.02-.2 1.41-.59l7.78-7.78 2.81-2.81c.8-.78.8-2.07 0-2.86zM5.41 20L4 18.59l7.72-7.72 1.47 1.35L5.41 20z\"/>\n",
              "  </svg>\n",
              "      </button>\n",
              "      \n",
              "  <style>\n",
              "    .colab-df-container {\n",
              "      display:flex;\n",
              "      flex-wrap:wrap;\n",
              "      gap: 12px;\n",
              "    }\n",
              "\n",
              "    .colab-df-convert {\n",
              "      background-color: #E8F0FE;\n",
              "      border: none;\n",
              "      border-radius: 50%;\n",
              "      cursor: pointer;\n",
              "      display: none;\n",
              "      fill: #1967D2;\n",
              "      height: 32px;\n",
              "      padding: 0 0 0 0;\n",
              "      width: 32px;\n",
              "    }\n",
              "\n",
              "    .colab-df-convert:hover {\n",
              "      background-color: #E2EBFA;\n",
              "      box-shadow: 0px 1px 2px rgba(60, 64, 67, 0.3), 0px 1px 3px 1px rgba(60, 64, 67, 0.15);\n",
              "      fill: #174EA6;\n",
              "    }\n",
              "\n",
              "    [theme=dark] .colab-df-convert {\n",
              "      background-color: #3B4455;\n",
              "      fill: #D2E3FC;\n",
              "    }\n",
              "\n",
              "    [theme=dark] .colab-df-convert:hover {\n",
              "      background-color: #434B5C;\n",
              "      box-shadow: 0px 1px 3px 1px rgba(0, 0, 0, 0.15);\n",
              "      filter: drop-shadow(0px 1px 2px rgba(0, 0, 0, 0.3));\n",
              "      fill: #FFFFFF;\n",
              "    }\n",
              "  </style>\n",
              "\n",
              "      <script>\n",
              "        const buttonEl =\n",
              "          document.querySelector('#df-da7525aa-ee77-4085-9aee-96284b84f293 button.colab-df-convert');\n",
              "        buttonEl.style.display =\n",
              "          google.colab.kernel.accessAllowed ? 'block' : 'none';\n",
              "\n",
              "        async function convertToInteractive(key) {\n",
              "          const element = document.querySelector('#df-da7525aa-ee77-4085-9aee-96284b84f293');\n",
              "          const dataTable =\n",
              "            await google.colab.kernel.invokeFunction('convertToInteractive',\n",
              "                                                     [key], {});\n",
              "          if (!dataTable) return;\n",
              "\n",
              "          const docLinkHtml = 'Like what you see? Visit the ' +\n",
              "            '<a target=\"_blank\" href=https://colab.research.google.com/notebooks/data_table.ipynb>data table notebook</a>'\n",
              "            + ' to learn more about interactive tables.';\n",
              "          element.innerHTML = '';\n",
              "          dataTable['output_type'] = 'display_data';\n",
              "          await google.colab.output.renderOutput(dataTable, element);\n",
              "          const docLink = document.createElement('div');\n",
              "          docLink.innerHTML = docLinkHtml;\n",
              "          element.appendChild(docLink);\n",
              "        }\n",
              "      </script>\n",
              "    </div>\n",
              "  </div>\n",
              "  "
            ]
          },
          "metadata": {},
          "execution_count": 90
        }
      ],
      "source": [
        "feature_matrix2.head()"
      ]
    },
    {
      "cell_type": "markdown",
      "metadata": {
        "id": "ykeNx2tke7mV"
      },
      "source": [
        "**Build the new models more transform features**"
      ]
    },
    {
      "cell_type": "code",
      "execution_count": 91,
      "metadata": {
        "ExecuteTime": {
          "end_time": "2021-07-15T12:55:38.459145Z",
          "start_time": "2021-07-15T12:55:32.592515Z"
        },
        "id": "fe_jCKRwe7mV"
      },
      "outputs": [],
      "source": [
        "# Separates the whole feature matrix into train data feature matrix,train data labels, and test data feature matrix \n",
        "X_train2, y_train2, X_test2, y_test2 = get_train_test_fm(feature_matrix2,.75)\n",
        "y_train2 = np.sqrt(y_train2)\n",
        "y_test2 = np.sqrt(y_test2)"
      ]
    },
    {
      "cell_type": "markdown",
      "metadata": {
        "id": "Rxm6opsXe7mV"
      },
      "source": [
        "### **Question 5.3 Building Linear regression using more transform primitive**"
      ]
    },
    {
      "cell_type": "code",
      "execution_count": 93,
      "metadata": {
        "id": "BZLE63mre7mV",
        "colab": {
          "base_uri": "https://localhost:8080/"
        },
        "outputId": "5aa720df-2f2f-4de2-eb91-d5e07decc5fb"
      },
      "outputs": [
        {
          "output_type": "execute_result",
          "data": {
            "text/plain": [
              "LinearRegression()"
            ]
          },
          "metadata": {},
          "execution_count": 93
        }
      ],
      "source": [
        "# Remove _________ and complete the code\n",
        "\n",
        "# Defining the model\n",
        "lr2=LinearRegression()\n",
        "\n",
        "# Fitting the model\n",
        "lr2.fit(X_train2,y_train2)"
      ]
    },
    {
      "cell_type": "markdown",
      "metadata": {
        "id": "s8f8HGP3e7mV"
      },
      "source": [
        "#### **Check the performance of the model**"
      ]
    },
    {
      "cell_type": "code",
      "execution_count": 94,
      "metadata": {
        "id": "HrDJpQ9ke7mV",
        "colab": {
          "base_uri": "https://localhost:8080/"
        },
        "outputId": "a177e5e0-65cd-4eee-8d7f-9d5f1f4aa1bc"
      },
      "outputs": [
        {
          "output_type": "stream",
          "name": "stdout",
          "text": [
            "    Data  RSquared      RMSE       MAE\n",
            "0  Train  0.575798  6.134394  4.733294\n",
            "1   Test  0.557374  6.547398  5.042043\n"
          ]
        }
      ],
      "source": [
        "# Remove _________ and complete the code\n",
        "model_pref(lr2, X_train2, X_test2, y_train2, y_test2)  "
      ]
    },
    {
      "cell_type": "markdown",
      "metadata": {
        "id": "VqRIZ69Ue7mV"
      },
      "source": [
        "**Write your answers here:_____**"
      ]
    },
    {
      "cell_type": "markdown",
      "metadata": {
        "id": "3fq862XIe7mW"
      },
      "source": [
        "### **Question 5.4 Building Decision tree using more transform primitive**"
      ]
    },
    {
      "cell_type": "code",
      "execution_count": 95,
      "metadata": {
        "id": "1TECHO8Oe7mW",
        "colab": {
          "base_uri": "https://localhost:8080/"
        },
        "outputId": "b0b6fe2e-1980-4137-8b58-675ec0d6a596"
      },
      "outputs": [
        {
          "output_type": "execute_result",
          "data": {
            "text/plain": [
              "DecisionTreeRegressor(random_state=1)"
            ]
          },
          "metadata": {},
          "execution_count": 95
        }
      ],
      "source": [
        "# Remove _________ and complete the code\n",
        "\n",
        "# Define the model\n",
        "dt2=DecisionTreeRegressor(random_state = 1)\n",
        "\n",
        "# Fit the model\n",
        "dt2.fit(X_train2,y_train2)"
      ]
    },
    {
      "cell_type": "markdown",
      "metadata": {
        "id": "NDFGjjsJe7mW"
      },
      "source": [
        "#### **Check the performance of the model**"
      ]
    },
    {
      "cell_type": "code",
      "execution_count": 96,
      "metadata": {
        "id": "-F9CDxDNe7mW",
        "colab": {
          "base_uri": "https://localhost:8080/"
        },
        "outputId": "bd8a2c41-aa0e-4e1e-af49-117f0d5da83e"
      },
      "outputs": [
        {
          "output_type": "stream",
          "name": "stdout",
          "text": [
            "    Data  RSquared      RMSE       MAE\n",
            "0  Train  0.999987  0.033909  0.000444\n",
            "1   Test  0.657844  5.756550  4.260923\n"
          ]
        }
      ],
      "source": [
        "# Remove _________ and complete the code\n",
        "model_pref(dt2, X_train2, X_test2, y_train2, y_test2)  "
      ]
    },
    {
      "cell_type": "markdown",
      "metadata": {
        "id": "G1DSEV4pe7mW"
      },
      "source": [
        "**Write your answers here:_____**"
      ]
    },
    {
      "cell_type": "markdown",
      "metadata": {
        "id": "gI6nFWMUe7mW"
      },
      "source": [
        "### **Question 5.5 Building Pruned Decision tree using more transform primitive**"
      ]
    },
    {
      "cell_type": "code",
      "execution_count": 97,
      "metadata": {
        "id": "leMeU-6Ue7mW",
        "colab": {
          "base_uri": "https://localhost:8080/"
        },
        "outputId": "830c3959-5447-4ebd-c2b1-6b86d1ca5393"
      },
      "outputs": [
        {
          "output_type": "execute_result",
          "data": {
            "text/plain": [
              "DecisionTreeRegressor(max_depth=7, random_state=1)"
            ]
          },
          "metadata": {},
          "execution_count": 97
        }
      ],
      "source": [
        "# Remove _________ and complete the code\n",
        "# Define the model\n",
        "\n",
        "# Use max_depth=7\n",
        "dt_pruned2=DecisionTreeRegressor(random_state = 1, max_depth = 7)\n",
        "\n",
        "# Fit the model\n",
        "dt_pruned2.fit(X_train2,y_train2)"
      ]
    },
    {
      "cell_type": "markdown",
      "metadata": {
        "id": "Ih-D5Yuoe7mW"
      },
      "source": [
        "#### **Check the performance of the model**"
      ]
    },
    {
      "cell_type": "code",
      "execution_count": 99,
      "metadata": {
        "id": "TdqYsluAe7mX",
        "colab": {
          "base_uri": "https://localhost:8080/"
        },
        "outputId": "5a39bca6-6845-495c-8349-ca9b479178ec"
      },
      "outputs": [
        {
          "output_type": "stream",
          "name": "stdout",
          "text": [
            "    Data  RSquared      RMSE      MAE\n",
            "0  Train  0.765421  4.561732  3.44101\n",
            "1   Test  0.742610  4.992821  3.71947\n"
          ]
        }
      ],
      "source": [
        "# Remove _________ and complete the code\n",
        "model_pref(dt_pruned2, X_train2, X_test2, y_train2, y_test2)  "
      ]
    },
    {
      "cell_type": "markdown",
      "metadata": {
        "id": "ZQ1cHZupe7mX"
      },
      "source": [
        "**Write your answers here:_____**"
      ]
    },
    {
      "cell_type": "markdown",
      "metadata": {
        "id": "WF7J_3Jqe7mX"
      },
      "source": [
        "### **Question 5.6 Building Random Forest using more transform primitive**"
      ]
    },
    {
      "cell_type": "code",
      "execution_count": 100,
      "metadata": {
        "id": "8J7ig2fne7mX",
        "colab": {
          "base_uri": "https://localhost:8080/"
        },
        "outputId": "0ab17eee-a658-40b7-f5f5-0f2ae845592c"
      },
      "outputs": [
        {
          "output_type": "execute_result",
          "data": {
            "text/plain": [
              "RandomForestRegressor(max_depth=7, n_estimators=60)"
            ]
          },
          "metadata": {},
          "execution_count": 100
        }
      ],
      "source": [
        "# Fit the model\n",
        "\n",
        "# Remove _________ and complete the code\n",
        "# Using (n_estimators=60,max_depth=7)\n",
        "\n",
        "rf2 = RandomForestRegressor(n_estimators=60,max_depth=7)\n",
        "\n",
        "# Fit the model\n",
        "\n",
        "# Remove _________ and complete the code\n",
        "rf2.fit(X_train2,y_train2)"
      ]
    },
    {
      "cell_type": "markdown",
      "metadata": {
        "id": "ccIh35W6e7mX"
      },
      "source": [
        "#### **Check the performance of the model**"
      ]
    },
    {
      "cell_type": "code",
      "execution_count": 101,
      "metadata": {
        "id": "ozjTb4age7mX",
        "colab": {
          "base_uri": "https://localhost:8080/"
        },
        "outputId": "b97b39b3-2de4-4d72-f9a1-f7c1979a599f"
      },
      "outputs": [
        {
          "output_type": "stream",
          "name": "stdout",
          "text": [
            "    Data  RSquared      RMSE       MAE\n",
            "0  Train  0.772559  4.491792  3.383229\n",
            "1   Test  0.749379  4.926735  3.662356\n"
          ]
        }
      ],
      "source": [
        "# Remove _________ and complete the code\n",
        "model_pref(rf2, X_train2, X_test2, y_train2, y_test2)  "
      ]
    },
    {
      "cell_type": "markdown",
      "metadata": {
        "id": "vgqQNj_Ee7mX"
      },
      "source": [
        "**Write your answers here:_____**\n"
      ]
    },
    {
      "cell_type": "markdown",
      "metadata": {
        "id": "fD4U0Duze7mY"
      },
      "source": [
        "### **Question: 5.7 Comment on how the modeling accuracy differs when including more transform features.**"
      ]
    },
    {
      "cell_type": "markdown",
      "metadata": {
        "id": "ybgx3HVwe7mY"
      },
      "source": [
        "**Write your answers here: As expected, random tree and decision tree are better than linear regression method in either of the above cases. But if we add more transform features there is a noticable decrease in the errors of the given model. For example, in single feature case, the RMSE of test data is 5.3163 which is decreased to 4.9267 in the case of more transform features."
      ]
    },
    {
      "cell_type": "markdown",
      "metadata": {
        "id": "ynj1WIGDe7mY"
      },
      "source": [
        "### **Step 5: Add Aggregation Primitives**\n",
        "\n",
        "Now let's add aggregation primitives. These primitives will generate features for the parent entities ``pickup_neighborhoods``, and ``dropoff_neighborhood`` and then add them to the trips entity, which is the entity for which we are trying to make prediction."
      ]
    },
    {
      "cell_type": "markdown",
      "metadata": {
        "id": "oAAh7fO5e7mY"
      },
      "source": [
        "## **Question 6: Create a Models with transform and aggregate primitive. (10 Marks)**\n"
      ]
    },
    {
      "cell_type": "markdown",
      "source": [
        "###**6.1 Define more transform and aggregate primitive and define features using dfs?**"
      ],
      "metadata": {
        "id": "ammosZyA688b"
      }
    },
    {
      "cell_type": "code",
      "execution_count": 104,
      "metadata": {
        "ExecuteTime": {
          "end_time": "2021-07-15T12:59:43.977607Z",
          "start_time": "2021-07-15T12:59:41.353328Z"
        },
        "id": "S1a1vy8Me7mY"
      },
      "outputs": [],
      "source": [
        "#Remove _________ and complete the code\n",
        "\n",
        "trans_primitives = [ Minute, Hour, Month]\n",
        "aggregation_primitives = [Count]\n",
        "\n",
        "features = ft.dfs(entities=entities,\n",
        "                  relationships=relationships,\n",
        "                  target_entity=\"trips\",\n",
        "                  trans_primitives=trans_primitives,\n",
        "                  agg_primitives=aggregation_primitives,\n",
        "                  ignore_variables={\"trips\": [\"pickup_latitude\", \"pickup_longitude\",\n",
        "                                              \"dropoff_latitude\", \"dropoff_longitude\"]},\n",
        "                  features_only=True)"
      ]
    },
    {
      "cell_type": "code",
      "execution_count": 105,
      "metadata": {
        "ExecuteTime": {
          "end_time": "2021-07-15T12:59:45.888070Z",
          "start_time": "2021-07-15T12:59:45.782499Z"
        },
        "scrolled": false,
        "id": "Y7joT4X-e7mY",
        "colab": {
          "base_uri": "https://localhost:8080/"
        },
        "outputId": "4d723ae1-575f-4a7d-e02a-e14b48618e47"
      },
      "outputs": [
        {
          "output_type": "stream",
          "name": "stdout",
          "text": [
            "Number of features: 16\n"
          ]
        },
        {
          "output_type": "execute_result",
          "data": {
            "text/plain": [
              "[<Feature: vendor_id>,\n",
              " <Feature: passenger_count>,\n",
              " <Feature: trip_distance>,\n",
              " <Feature: payment_type>,\n",
              " <Feature: trip_duration>,\n",
              " <Feature: pickup_neighborhood>,\n",
              " <Feature: dropoff_neighborhood>,\n",
              " <Feature: HOUR(pickup_datetime)>,\n",
              " <Feature: MINUTE(pickup_datetime)>,\n",
              " <Feature: MONTH(pickup_datetime)>,\n",
              " <Feature: pickup_neighborhoods.latitude>,\n",
              " <Feature: pickup_neighborhoods.longitude>,\n",
              " <Feature: dropoff_neighborhoods.latitude>,\n",
              " <Feature: dropoff_neighborhoods.longitude>,\n",
              " <Feature: pickup_neighborhoods.COUNT(trips)>,\n",
              " <Feature: dropoff_neighborhoods.COUNT(trips)>]"
            ]
          },
          "metadata": {},
          "execution_count": 105
        }
      ],
      "source": [
        "print (\"Number of features: %d\" % len(features))\n",
        "features"
      ]
    },
    {
      "cell_type": "markdown",
      "metadata": {
        "id": "Uhv0Znrge7mY"
      },
      "source": [
        "### **Question: 6.2 Compute features and define feature matrix**"
      ]
    },
    {
      "cell_type": "code",
      "execution_count": 106,
      "metadata": {
        "ExecuteTime": {
          "end_time": "2021-07-09T11:13:54.617340Z",
          "start_time": "2021-07-09T11:13:28.226824Z"
        },
        "id": "OvsxI2p9e7mY",
        "colab": {
          "base_uri": "https://localhost:8080/"
        },
        "outputId": "a2afc05e-d22d-45ea-a542-e6ef69479b2a"
      },
      "outputs": [
        {
          "output_type": "stream",
          "name": "stdout",
          "text": [
            "Elapsed: 00:13 | Progress: 100%|██████████\n",
            "Finishing computing...\n"
          ]
        }
      ],
      "source": [
        "# Remove _________ and complete the code\n",
        "feature_matrix3 = compute_features(features, cutoff_time)"
      ]
    },
    {
      "cell_type": "code",
      "execution_count": 107,
      "metadata": {
        "ExecuteTime": {
          "end_time": "2021-07-09T11:14:02.858716Z",
          "start_time": "2021-07-09T11:14:02.439924Z"
        },
        "id": "mEZcg7qje7mY",
        "colab": {
          "base_uri": "https://localhost:8080/",
          "height": 348
        },
        "outputId": "56790fd2-c65a-4a1e-a34b-585430381f01"
      },
      "outputs": [
        {
          "output_type": "execute_result",
          "data": {
            "text/plain": [
              "       dropoff_neighborhoods.COUNT(trips)  pickup_neighborhoods.COUNT(trips)  \\\n",
              "id                                                                             \n",
              "56311                                1301                               1298   \n",
              "56312                                 745                               1250   \n",
              "56313                                 513                                218   \n",
              "56314                                1790                               1703   \n",
              "56315                                 513                               1176   \n",
              "\n",
              "       dropoff_neighborhoods.longitude  passenger_count  trip_distance  \\\n",
              "id                                                                       \n",
              "56311                       -73.998366                1           1.61   \n",
              "56312                       -73.954298                1          16.15   \n",
              "56313                       -73.948046                1           0.80   \n",
              "56314                       -73.977943                5           1.33   \n",
              "56315                       -73.948046                1           2.35   \n",
              "\n",
              "       MINUTE(pickup_datetime)  dropoff_neighborhood = AD  \\\n",
              "id                                                          \n",
              "56311                        0                      False   \n",
              "56312                        2                      False   \n",
              "56313                        2                      False   \n",
              "56314                        2                      False   \n",
              "56315                        3                      False   \n",
              "\n",
              "       dropoff_neighborhood = A  dropoff_neighborhood = AA  \\\n",
              "id                                                           \n",
              "56311                     False                      False   \n",
              "56312                     False                      False   \n",
              "56313                     False                      False   \n",
              "56314                     False                      False   \n",
              "56315                     False                      False   \n",
              "\n",
              "       dropoff_neighborhood = D  ...  pickup_neighborhood = A  \\\n",
              "id                               ...                            \n",
              "56311                     False  ...                    False   \n",
              "56312                     False  ...                    False   \n",
              "56313                     False  ...                    False   \n",
              "56314                     False  ...                    False   \n",
              "56315                     False  ...                    False   \n",
              "\n",
              "       pickup_neighborhood = AR  pickup_neighborhood = AK  \\\n",
              "id                                                          \n",
              "56311                     False                     False   \n",
              "56312                     False                     False   \n",
              "56313                     False                     False   \n",
              "56314                     False                     False   \n",
              "56315                     False                     False   \n",
              "\n",
              "       pickup_neighborhood = AO  pickup_neighborhood = N  \\\n",
              "id                                                         \n",
              "56311                     False                    False   \n",
              "56312                     False                    False   \n",
              "56313                     False                    False   \n",
              "56314                     False                    False   \n",
              "56315                     False                    False   \n",
              "\n",
              "       pickup_neighborhood = O pickup_neighborhood = R  \\\n",
              "id                                                       \n",
              "56311                    False                   False   \n",
              "56312                    False                   False   \n",
              "56313                    False                   False   \n",
              "56314                    False                   False   \n",
              "56315                    False                   False   \n",
              "\n",
              "       dropoff_neighborhoods.latitude trip_duration  HOUR(pickup_datetime)  \n",
              "id                                                                          \n",
              "56311                       40.721435         645.0                      0  \n",
              "56312                       40.715828        1270.0                      0  \n",
              "56313                       40.818445         207.0                      0  \n",
              "56314                       40.742531         214.0                      0  \n",
              "56315                       40.818445         570.0                      0  \n",
              "\n",
              "[5 rows x 34 columns]"
            ],
            "text/html": [
              "\n",
              "  <div id=\"df-77f73b71-38e4-438c-a30c-50b63ad8e086\">\n",
              "    <div class=\"colab-df-container\">\n",
              "      <div>\n",
              "<style scoped>\n",
              "    .dataframe tbody tr th:only-of-type {\n",
              "        vertical-align: middle;\n",
              "    }\n",
              "\n",
              "    .dataframe tbody tr th {\n",
              "        vertical-align: top;\n",
              "    }\n",
              "\n",
              "    .dataframe thead th {\n",
              "        text-align: right;\n",
              "    }\n",
              "</style>\n",
              "<table border=\"1\" class=\"dataframe\">\n",
              "  <thead>\n",
              "    <tr style=\"text-align: right;\">\n",
              "      <th></th>\n",
              "      <th>dropoff_neighborhoods.COUNT(trips)</th>\n",
              "      <th>pickup_neighborhoods.COUNT(trips)</th>\n",
              "      <th>dropoff_neighborhoods.longitude</th>\n",
              "      <th>passenger_count</th>\n",
              "      <th>trip_distance</th>\n",
              "      <th>MINUTE(pickup_datetime)</th>\n",
              "      <th>dropoff_neighborhood = AD</th>\n",
              "      <th>dropoff_neighborhood = A</th>\n",
              "      <th>dropoff_neighborhood = AA</th>\n",
              "      <th>dropoff_neighborhood = D</th>\n",
              "      <th>...</th>\n",
              "      <th>pickup_neighborhood = A</th>\n",
              "      <th>pickup_neighborhood = AR</th>\n",
              "      <th>pickup_neighborhood = AK</th>\n",
              "      <th>pickup_neighborhood = AO</th>\n",
              "      <th>pickup_neighborhood = N</th>\n",
              "      <th>pickup_neighborhood = O</th>\n",
              "      <th>pickup_neighborhood = R</th>\n",
              "      <th>dropoff_neighborhoods.latitude</th>\n",
              "      <th>trip_duration</th>\n",
              "      <th>HOUR(pickup_datetime)</th>\n",
              "    </tr>\n",
              "    <tr>\n",
              "      <th>id</th>\n",
              "      <th></th>\n",
              "      <th></th>\n",
              "      <th></th>\n",
              "      <th></th>\n",
              "      <th></th>\n",
              "      <th></th>\n",
              "      <th></th>\n",
              "      <th></th>\n",
              "      <th></th>\n",
              "      <th></th>\n",
              "      <th></th>\n",
              "      <th></th>\n",
              "      <th></th>\n",
              "      <th></th>\n",
              "      <th></th>\n",
              "      <th></th>\n",
              "      <th></th>\n",
              "      <th></th>\n",
              "      <th></th>\n",
              "      <th></th>\n",
              "      <th></th>\n",
              "    </tr>\n",
              "  </thead>\n",
              "  <tbody>\n",
              "    <tr>\n",
              "      <th>56311</th>\n",
              "      <td>1301</td>\n",
              "      <td>1298</td>\n",
              "      <td>-73.998366</td>\n",
              "      <td>1</td>\n",
              "      <td>1.61</td>\n",
              "      <td>0</td>\n",
              "      <td>False</td>\n",
              "      <td>False</td>\n",
              "      <td>False</td>\n",
              "      <td>False</td>\n",
              "      <td>...</td>\n",
              "      <td>False</td>\n",
              "      <td>False</td>\n",
              "      <td>False</td>\n",
              "      <td>False</td>\n",
              "      <td>False</td>\n",
              "      <td>False</td>\n",
              "      <td>False</td>\n",
              "      <td>40.721435</td>\n",
              "      <td>645.0</td>\n",
              "      <td>0</td>\n",
              "    </tr>\n",
              "    <tr>\n",
              "      <th>56312</th>\n",
              "      <td>745</td>\n",
              "      <td>1250</td>\n",
              "      <td>-73.954298</td>\n",
              "      <td>1</td>\n",
              "      <td>16.15</td>\n",
              "      <td>2</td>\n",
              "      <td>False</td>\n",
              "      <td>False</td>\n",
              "      <td>False</td>\n",
              "      <td>False</td>\n",
              "      <td>...</td>\n",
              "      <td>False</td>\n",
              "      <td>False</td>\n",
              "      <td>False</td>\n",
              "      <td>False</td>\n",
              "      <td>False</td>\n",
              "      <td>False</td>\n",
              "      <td>False</td>\n",
              "      <td>40.715828</td>\n",
              "      <td>1270.0</td>\n",
              "      <td>0</td>\n",
              "    </tr>\n",
              "    <tr>\n",
              "      <th>56313</th>\n",
              "      <td>513</td>\n",
              "      <td>218</td>\n",
              "      <td>-73.948046</td>\n",
              "      <td>1</td>\n",
              "      <td>0.80</td>\n",
              "      <td>2</td>\n",
              "      <td>False</td>\n",
              "      <td>False</td>\n",
              "      <td>False</td>\n",
              "      <td>False</td>\n",
              "      <td>...</td>\n",
              "      <td>False</td>\n",
              "      <td>False</td>\n",
              "      <td>False</td>\n",
              "      <td>False</td>\n",
              "      <td>False</td>\n",
              "      <td>False</td>\n",
              "      <td>False</td>\n",
              "      <td>40.818445</td>\n",
              "      <td>207.0</td>\n",
              "      <td>0</td>\n",
              "    </tr>\n",
              "    <tr>\n",
              "      <th>56314</th>\n",
              "      <td>1790</td>\n",
              "      <td>1703</td>\n",
              "      <td>-73.977943</td>\n",
              "      <td>5</td>\n",
              "      <td>1.33</td>\n",
              "      <td>2</td>\n",
              "      <td>False</td>\n",
              "      <td>False</td>\n",
              "      <td>False</td>\n",
              "      <td>False</td>\n",
              "      <td>...</td>\n",
              "      <td>False</td>\n",
              "      <td>False</td>\n",
              "      <td>False</td>\n",
              "      <td>False</td>\n",
              "      <td>False</td>\n",
              "      <td>False</td>\n",
              "      <td>False</td>\n",
              "      <td>40.742531</td>\n",
              "      <td>214.0</td>\n",
              "      <td>0</td>\n",
              "    </tr>\n",
              "    <tr>\n",
              "      <th>56315</th>\n",
              "      <td>513</td>\n",
              "      <td>1176</td>\n",
              "      <td>-73.948046</td>\n",
              "      <td>1</td>\n",
              "      <td>2.35</td>\n",
              "      <td>3</td>\n",
              "      <td>False</td>\n",
              "      <td>False</td>\n",
              "      <td>False</td>\n",
              "      <td>False</td>\n",
              "      <td>...</td>\n",
              "      <td>False</td>\n",
              "      <td>False</td>\n",
              "      <td>False</td>\n",
              "      <td>False</td>\n",
              "      <td>False</td>\n",
              "      <td>False</td>\n",
              "      <td>False</td>\n",
              "      <td>40.818445</td>\n",
              "      <td>570.0</td>\n",
              "      <td>0</td>\n",
              "    </tr>\n",
              "  </tbody>\n",
              "</table>\n",
              "<p>5 rows × 34 columns</p>\n",
              "</div>\n",
              "      <button class=\"colab-df-convert\" onclick=\"convertToInteractive('df-77f73b71-38e4-438c-a30c-50b63ad8e086')\"\n",
              "              title=\"Convert this dataframe to an interactive table.\"\n",
              "              style=\"display:none;\">\n",
              "        \n",
              "  <svg xmlns=\"http://www.w3.org/2000/svg\" height=\"24px\"viewBox=\"0 0 24 24\"\n",
              "       width=\"24px\">\n",
              "    <path d=\"M0 0h24v24H0V0z\" fill=\"none\"/>\n",
              "    <path d=\"M18.56 5.44l.94 2.06.94-2.06 2.06-.94-2.06-.94-.94-2.06-.94 2.06-2.06.94zm-11 1L8.5 8.5l.94-2.06 2.06-.94-2.06-.94L8.5 2.5l-.94 2.06-2.06.94zm10 10l.94 2.06.94-2.06 2.06-.94-2.06-.94-.94-2.06-.94 2.06-2.06.94z\"/><path d=\"M17.41 7.96l-1.37-1.37c-.4-.4-.92-.59-1.43-.59-.52 0-1.04.2-1.43.59L10.3 9.45l-7.72 7.72c-.78.78-.78 2.05 0 2.83L4 21.41c.39.39.9.59 1.41.59.51 0 1.02-.2 1.41-.59l7.78-7.78 2.81-2.81c.8-.78.8-2.07 0-2.86zM5.41 20L4 18.59l7.72-7.72 1.47 1.35L5.41 20z\"/>\n",
              "  </svg>\n",
              "      </button>\n",
              "      \n",
              "  <style>\n",
              "    .colab-df-container {\n",
              "      display:flex;\n",
              "      flex-wrap:wrap;\n",
              "      gap: 12px;\n",
              "    }\n",
              "\n",
              "    .colab-df-convert {\n",
              "      background-color: #E8F0FE;\n",
              "      border: none;\n",
              "      border-radius: 50%;\n",
              "      cursor: pointer;\n",
              "      display: none;\n",
              "      fill: #1967D2;\n",
              "      height: 32px;\n",
              "      padding: 0 0 0 0;\n",
              "      width: 32px;\n",
              "    }\n",
              "\n",
              "    .colab-df-convert:hover {\n",
              "      background-color: #E2EBFA;\n",
              "      box-shadow: 0px 1px 2px rgba(60, 64, 67, 0.3), 0px 1px 3px 1px rgba(60, 64, 67, 0.15);\n",
              "      fill: #174EA6;\n",
              "    }\n",
              "\n",
              "    [theme=dark] .colab-df-convert {\n",
              "      background-color: #3B4455;\n",
              "      fill: #D2E3FC;\n",
              "    }\n",
              "\n",
              "    [theme=dark] .colab-df-convert:hover {\n",
              "      background-color: #434B5C;\n",
              "      box-shadow: 0px 1px 3px 1px rgba(0, 0, 0, 0.15);\n",
              "      filter: drop-shadow(0px 1px 2px rgba(0, 0, 0, 0.3));\n",
              "      fill: #FFFFFF;\n",
              "    }\n",
              "  </style>\n",
              "\n",
              "      <script>\n",
              "        const buttonEl =\n",
              "          document.querySelector('#df-77f73b71-38e4-438c-a30c-50b63ad8e086 button.colab-df-convert');\n",
              "        buttonEl.style.display =\n",
              "          google.colab.kernel.accessAllowed ? 'block' : 'none';\n",
              "\n",
              "        async function convertToInteractive(key) {\n",
              "          const element = document.querySelector('#df-77f73b71-38e4-438c-a30c-50b63ad8e086');\n",
              "          const dataTable =\n",
              "            await google.colab.kernel.invokeFunction('convertToInteractive',\n",
              "                                                     [key], {});\n",
              "          if (!dataTable) return;\n",
              "\n",
              "          const docLinkHtml = 'Like what you see? Visit the ' +\n",
              "            '<a target=\"_blank\" href=https://colab.research.google.com/notebooks/data_table.ipynb>data table notebook</a>'\n",
              "            + ' to learn more about interactive tables.';\n",
              "          element.innerHTML = '';\n",
              "          dataTable['output_type'] = 'display_data';\n",
              "          await google.colab.output.renderOutput(dataTable, element);\n",
              "          const docLink = document.createElement('div');\n",
              "          docLink.innerHTML = docLinkHtml;\n",
              "          element.appendChild(docLink);\n",
              "        }\n",
              "      </script>\n",
              "    </div>\n",
              "  </div>\n",
              "  "
            ]
          },
          "metadata": {},
          "execution_count": 107
        }
      ],
      "source": [
        "feature_matrix3.head()"
      ]
    },
    {
      "cell_type": "markdown",
      "metadata": {
        "id": "0afrNeNNe7mZ"
      },
      "source": [
        "**Build the new models more transform and aggregate features**"
      ]
    },
    {
      "cell_type": "code",
      "execution_count": 108,
      "metadata": {
        "ExecuteTime": {
          "end_time": "2021-07-09T11:14:41.627956Z",
          "start_time": "2021-07-09T11:14:07.052570Z"
        },
        "id": "UcgyBZt6e7mZ"
      },
      "outputs": [],
      "source": [
        "# Separates the whole feature matrix into train data feature matrix,train data labels, and test data feature matrix \n",
        "X_train3, y_train3, X_test3, y_test3 = get_train_test_fm(feature_matrix3,.75)\n",
        "y_train3 = np.sqrt(y_train3)\n",
        "y_test3 = np.sqrt(y_test3)"
      ]
    },
    {
      "cell_type": "markdown",
      "metadata": {
        "id": "XtM-JGGFe7mZ"
      },
      "source": [
        "### **Question 6.3 Building  Linear regression model with transform and aggregate primitive.**"
      ]
    },
    {
      "cell_type": "code",
      "execution_count": 109,
      "metadata": {
        "id": "06HEmSFae7mZ",
        "colab": {
          "base_uri": "https://localhost:8080/"
        },
        "outputId": "72813299-c876-43d6-87a2-e8d5a5436e7a"
      },
      "outputs": [
        {
          "output_type": "execute_result",
          "data": {
            "text/plain": [
              "LinearRegression()"
            ]
          },
          "metadata": {},
          "execution_count": 109
        }
      ],
      "source": [
        "# Remove _________ and complete the code\n",
        "\n",
        "# Defining the model\n",
        "lr3=LinearRegression()\n",
        "\n",
        "# Fitting the model\n",
        "lr3.fit(X_train3, y_train3)"
      ]
    },
    {
      "cell_type": "markdown",
      "metadata": {
        "id": "b4PZhtmVe7mZ"
      },
      "source": [
        "#### **Check the performance of the model**"
      ]
    },
    {
      "cell_type": "code",
      "execution_count": 110,
      "metadata": {
        "id": "o8Qg-7wse7mZ",
        "colab": {
          "base_uri": "https://localhost:8080/"
        },
        "outputId": "ac3685e0-5007-4f83-f8e8-169a77c3c28d"
      },
      "outputs": [
        {
          "output_type": "stream",
          "name": "stdout",
          "text": [
            "    Data  RSquared      RMSE       MAE\n",
            "0  Train  0.574872  6.141084  4.736713\n",
            "1   Test  0.556567  6.553363  5.039295\n"
          ]
        }
      ],
      "source": [
        "#Remove _________ and complete the code\n",
        "model_pref(lr3, X_train3, X_test3, y_train3, y_test3)  "
      ]
    },
    {
      "cell_type": "markdown",
      "metadata": {
        "id": "DlRMdBYde7ma"
      },
      "source": [
        "**Write your answers here:_____**"
      ]
    },
    {
      "cell_type": "markdown",
      "metadata": {
        "id": "PH_G7hUAe7ma"
      },
      "source": [
        "### **Question 6.4 Building  Decision tree with transform and aggregate primitive.**"
      ]
    },
    {
      "cell_type": "code",
      "execution_count": 111,
      "metadata": {
        "id": "ttvA8pwfe7ma",
        "colab": {
          "base_uri": "https://localhost:8080/"
        },
        "outputId": "bce2ca37-3281-410b-d716-26d4d2266f07"
      },
      "outputs": [
        {
          "output_type": "execute_result",
          "data": {
            "text/plain": [
              "DecisionTreeRegressor(random_state=1)"
            ]
          },
          "metadata": {},
          "execution_count": 111
        }
      ],
      "source": [
        "# Remove _________ and complete the code\n",
        "\n",
        "# Define the model\n",
        "dt3=DecisionTreeRegressor(random_state = 1)\n",
        "\n",
        "# Fit the model\n",
        "\n",
        "dt3.fit(X_train3, y_train3)"
      ]
    },
    {
      "cell_type": "markdown",
      "metadata": {
        "id": "6H03hde6e7ma"
      },
      "source": [
        "#### **Check the performance of the model**"
      ]
    },
    {
      "cell_type": "code",
      "execution_count": 112,
      "metadata": {
        "id": "JPVONnj5e7ma",
        "colab": {
          "base_uri": "https://localhost:8080/"
        },
        "outputId": "a7334671-0fb7-41b0-827b-a7afb399ed65"
      },
      "outputs": [
        {
          "output_type": "stream",
          "name": "stdout",
          "text": [
            "    Data  RSquared      RMSE       MAE\n",
            "0  Train  0.999912  0.088202  0.002541\n",
            "1   Test  0.575983  6.408288  4.775019\n"
          ]
        }
      ],
      "source": [
        "# Remove _________ and complete the code\n",
        "model_pref(dt3, X_train3, X_test3, y_train3, y_test3)  "
      ]
    },
    {
      "cell_type": "markdown",
      "metadata": {
        "id": "UJkM4HYDe7ma"
      },
      "source": [
        "**Write your answers here:_____**"
      ]
    },
    {
      "cell_type": "markdown",
      "metadata": {
        "id": "6zt_JAeEe7ma"
      },
      "source": [
        "### **Question 6.5 Building  Pruned Decision tree with transform and aggregate primitive.**"
      ]
    },
    {
      "cell_type": "code",
      "execution_count": 113,
      "metadata": {
        "id": "1FHjusxse7mb",
        "colab": {
          "base_uri": "https://localhost:8080/"
        },
        "outputId": "4ba29fce-42ef-45c6-f999-c3e3cdb4766c"
      },
      "outputs": [
        {
          "output_type": "execute_result",
          "data": {
            "text/plain": [
              "DecisionTreeRegressor(max_depth=7, random_state=1)"
            ]
          },
          "metadata": {},
          "execution_count": 113
        }
      ],
      "source": [
        "# Remove _________ and complete the code\n",
        "# Define the model\n",
        "\n",
        "# Use max_depth=7\n",
        "dt_pruned3=DecisionTreeRegressor(random_state = 1, max_depth = 7)\n",
        "\n",
        "# Fit the model\n",
        "dt_pruned3.fit(X_train3, y_train3)"
      ]
    },
    {
      "cell_type": "markdown",
      "metadata": {
        "id": "aJaMpwRRe7mb"
      },
      "source": [
        "#### **Check the performance of the model**"
      ]
    },
    {
      "cell_type": "code",
      "execution_count": 114,
      "metadata": {
        "id": "cSJ7UuO5e7mb",
        "colab": {
          "base_uri": "https://localhost:8080/"
        },
        "outputId": "a6ff5aa2-e8a2-4456-ef07-06bf7a8f2adb"
      },
      "outputs": [
        {
          "output_type": "stream",
          "name": "stdout",
          "text": [
            "    Data  RSquared      RMSE       MAE\n",
            "0  Train  0.760315  4.611112  3.480904\n",
            "1   Test  0.737110  5.045891  3.763250\n"
          ]
        }
      ],
      "source": [
        "# Remove _________ and complete the code\n",
        "model_pref(dt_pruned3, X_train3, X_test3, y_train3, y_test3)  "
      ]
    },
    {
      "cell_type": "markdown",
      "metadata": {
        "id": "HABgyjYre7mb"
      },
      "source": [
        "**Write your answers here:_____**\n"
      ]
    },
    {
      "cell_type": "markdown",
      "metadata": {
        "id": "WjnDm0zBe7mb"
      },
      "source": [
        "### **Question 6.6 Building  Random Forest with transform and aggregate primitive.**"
      ]
    },
    {
      "cell_type": "code",
      "execution_count": 116,
      "metadata": {
        "id": "IsGv4oFFe7mb",
        "colab": {
          "base_uri": "https://localhost:8080/"
        },
        "outputId": "78230469-e5b7-42d3-b2aa-9c48ec5cd468"
      },
      "outputs": [
        {
          "output_type": "execute_result",
          "data": {
            "text/plain": [
              "RandomForestRegressor(max_depth=7, n_estimators=60)"
            ]
          },
          "metadata": {},
          "execution_count": 116
        }
      ],
      "source": [
        "# Fit the model\n",
        "\n",
        "# Remove _________ and complete the code\n",
        "# Using (n_estimators=60,max_depth=7)\n",
        "\n",
        "rf3 = RandomForestRegressor(n_estimators=60,max_depth=7)\n",
        "\n",
        "# Fit the model\n",
        "\n",
        "# Remove _________ and complete the code\n",
        "rf3.fit(X_train3, y_train3)"
      ]
    },
    {
      "cell_type": "markdown",
      "metadata": {
        "id": "SyjbY3ile7mb"
      },
      "source": [
        "#### **Check the performance of the model**"
      ]
    },
    {
      "cell_type": "code",
      "execution_count": 117,
      "metadata": {
        "scrolled": true,
        "id": "4Zd6mGsMe7mb",
        "colab": {
          "base_uri": "https://localhost:8080/"
        },
        "outputId": "9a4fe08f-1792-42dd-9956-9d1f466db16a"
      },
      "outputs": [
        {
          "output_type": "stream",
          "name": "stdout",
          "text": [
            "    Data  RSquared      RMSE       MAE\n",
            "0  Train  0.766524  4.550993  3.430738\n",
            "1   Test  0.742958  4.989449  3.714909\n"
          ]
        }
      ],
      "source": [
        "model_pref(rf3, X_train3, X_test3,y_train3,y_test3)  "
      ]
    },
    {
      "cell_type": "markdown",
      "metadata": {
        "id": "OtIt8r8Xe7mb"
      },
      "source": [
        "**Write your answers here:_____**\n",
        "\n"
      ]
    },
    {
      "cell_type": "markdown",
      "metadata": {
        "id": "AFrogonqe7mb"
      },
      "source": [
        "### **Question 6.7 How do these aggregate transforms impact performance? How do they impact training time?**"
      ]
    },
    {
      "cell_type": "markdown",
      "metadata": {
        "id": "vWwoOh-Ve7mc"
      },
      "source": [
        "**Write your answers here: Aggregate transforms adds extra time to the impact performance of the model. The training time is somewhat similar  to model2. "
      ]
    },
    {
      "cell_type": "markdown",
      "metadata": {
        "id": "Ejvwh7w1e7mc"
      },
      "source": [
        "**Based on the above 3 models, we can make predictions using our model2, as it is giving almost same accuracy as model3 and also the training time is not that large as compared to model3**"
      ]
    },
    {
      "cell_type": "code",
      "execution_count": 118,
      "metadata": {
        "ExecuteTime": {
          "end_time": "2021-07-09T11:23:07.091360Z",
          "start_time": "2021-07-09T11:23:06.179570Z"
        },
        "scrolled": true,
        "id": "eP9s4JMVe7mc",
        "colab": {
          "base_uri": "https://localhost:8080/"
        },
        "outputId": "32d977e1-2170-4f96-9b93-cb0c2c01703c"
      },
      "outputs": [
        {
          "output_type": "execute_result",
          "data": {
            "text/plain": [
              "array([ 531.3442626 ,  214.91052329,  663.96654691, ...,  194.78755413,\n",
              "       1142.39278808, 1788.99265509])"
            ]
          },
          "metadata": {},
          "execution_count": 118
        }
      ],
      "source": [
        "y_pred = rf2.predict(X_test2)\n",
        "y_pred = y_pred**2 # Undo the sqrt we took earlier\n",
        "y_pred[5:]"
      ]
    },
    {
      "cell_type": "markdown",
      "metadata": {
        "id": "UvcBLbfVe7mc"
      },
      "source": [
        "### **Question 7: What are some important features based on `model2` and how can they affect the duration of the rides? (3 Marks)**"
      ]
    },
    {
      "cell_type": "code",
      "execution_count": 120,
      "metadata": {
        "ExecuteTime": {
          "end_time": "2021-07-09T11:23:15.953274Z",
          "start_time": "2021-07-09T11:23:15.813531Z"
        },
        "scrolled": true,
        "id": "JMKUz4C9e7mc",
        "colab": {
          "base_uri": "https://localhost:8080/"
        },
        "outputId": "02dcb956-58a0-48f5-a377-21483e24293e"
      },
      "outputs": [
        {
          "output_type": "stream",
          "name": "stdout",
          "text": [
            "1: Feature: <Feature: pickup_neighborhood>, 0.010\n",
            "2: Feature: <Feature: HOUR(pickup_datetime)>, 0.002\n",
            "3: Feature: <Feature: pickup_neighborhoods.longitude>, 0.001\n",
            "4: Feature: <Feature: dropoff_neighborhoods.latitude>, 0.000\n",
            "5: Feature: <Feature: trip_duration>, 0.000\n"
          ]
        }
      ],
      "source": [
        "feature_importances(rf2, features)"
      ]
    },
    {
      "cell_type": "markdown",
      "metadata": {
        "id": "h-YKsISge7mc"
      },
      "source": [
        "**Write your answers here: Based on model2 as can be seen above, pickup_neighorhood is the most important feature followed by the hour of pickup and then longitude of pickup. It means if the pickup neighborhood is far away it will take longer time to finish the ride as the extra time to reach the pickup location will get added.\n"
      ]
    }
  ],
  "metadata": {
    "kernelspec": {
      "display_name": "Python 3 (ipykernel)",
      "language": "python",
      "name": "python3"
    },
    "language_info": {
      "codemirror_mode": {
        "name": "ipython",
        "version": 3
      },
      "file_extension": ".py",
      "mimetype": "text/x-python",
      "name": "python",
      "nbconvert_exporter": "python",
      "pygments_lexer": "ipython3",
      "version": "3.8.12"
    },
    "toc": {
      "base_numbering": 1,
      "nav_menu": {},
      "number_sections": true,
      "sideBar": true,
      "skip_h1_title": false,
      "title_cell": "Table of Contents",
      "title_sidebar": "Contents",
      "toc_cell": false,
      "toc_position": {},
      "toc_section_display": true,
      "toc_window_display": false
    },
    "varInspector": {
      "cols": {
        "lenName": 16,
        "lenType": 16,
        "lenVar": 40
      },
      "kernels_config": {
        "python": {
          "delete_cmd_postfix": "",
          "delete_cmd_prefix": "del ",
          "library": "var_list.py",
          "varRefreshCmd": "print(var_dic_list())"
        },
        "r": {
          "delete_cmd_postfix": ") ",
          "delete_cmd_prefix": "rm(",
          "library": "var_list.r",
          "varRefreshCmd": "cat(var_dic_list()) "
        }
      },
      "types_to_exclude": [
        "module",
        "function",
        "builtin_function_or_method",
        "instance",
        "_Feature"
      ],
      "window_display": false
    },
    "colab": {
      "provenance": [],
      "collapsed_sections": []
    }
  },
  "nbformat": 4,
  "nbformat_minor": 0
}